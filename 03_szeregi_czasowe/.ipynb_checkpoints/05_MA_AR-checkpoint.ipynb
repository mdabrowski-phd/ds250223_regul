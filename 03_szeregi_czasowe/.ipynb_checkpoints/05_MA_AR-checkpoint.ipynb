{
 "cells": [
  {
   "cell_type": "markdown",
   "metadata": {
    "id": "D5pyI_jWALOX"
   },
   "source": [
    "# Modelowanie szeregów  czasowych  z autokorelacją"
   ]
  },
  {
   "cell_type": "code",
   "execution_count": null,
   "metadata": {
    "id": "o118CASHALOm"
   },
   "outputs": [],
   "source": [
    "import numpy as np\n",
    "import pandas as pd\n",
    "import matplotlib.pyplot as plt\n",
    "%matplotlib inline\n",
    "\n",
    "#from ts_utils import check_time_series_stationary\n",
    "from statsmodels.graphics.tsaplots import plot_acf, plot_pacf\n",
    "from statsmodels.tsa.arima.model import ARIMA"
   ]
  },
  {
   "cell_type": "code",
   "execution_count": null,
   "metadata": {
    "id": "glWJSQBuAf1d"
   },
   "outputs": [],
   "source": [
    "from statsmodels.tsa.stattools import adfuller\n",
    "\n",
    "def check_time_series_stationary(y, rolling_len=12):\n",
    "    \n",
    "    y = pd.Series(y)\n",
    "    df_test = adfuller(y)\n",
    "    \n",
    "    if df_test[1] < 0.05:\n",
    "        print('Szereg jest stacjonarny')\n",
    "    \n",
    "    else:\n",
    "        print('Szereg jest niestacjonarny')\n",
    "    \n",
    "    print(\"{0:^32s}\".format(\"Dickey-Fuller Test\"))\n",
    "    print(\"-\"*32+\"\\n\")\n",
    "    \n",
    "    print(\"{0:<20s}: {1:>10.4f}\".format('Test Statistic', df_test[0]))\n",
    "    print(\"{0:<20s}: {1:>10.4f}\".format('p-value', df_test[1]))\n",
    "    print(\"-\"*32+\"\\n\")\n",
    "    \n",
    "    rolling_mean = y.rolling(rolling_len).mean()\n",
    "    rolling_var = y.rolling(rolling_len).var()\n",
    "\n",
    "    plt.plot(y)\n",
    "    plt.plot(rolling_mean, label=\"Rolling mean\")\n",
    "    plt.plot(rolling_var, label=\"Rolling var\")\n",
    "    plt.legend()\n",
    "    plt.show()\n",
    "    \n",
    "    print(\"{0:^32s}\".format(\"Autocorrelation plot\"))\n",
    "    print(\"-\"*32+\"\\n\")\n",
    "    \n",
    "    pd.plotting.autocorrelation_plot(y)\n",
    "    plt.show()"
   ]
  },
  {
   "cell_type": "markdown",
   "metadata": {
    "id": "PTfL6RwaALOo"
   },
   "source": [
    "## Graficzna analiza przebiegu funkcji ACF i PACF\n",
    "\n",
    "- jeśli autokorelacja próbkowa $\\text{ACF}(h)$ znajduje się pomiędzy przedziałami ufności $\\pm 1,96 \\sqrt{n}$ dla $h > q$, to spodziewamy się, że dane są realizacją procesu $\\text{MA}(q)$;\n",
    "- jeśli cząstkowa autokorelacja próbkowa $\\text{PACF}(h)$ znajduje się pomiędzy przedziałami ufności $\\pm 1,96 \\sqrt{n}$ dla $h > p$, to spodziewamy się, że dane są realizacją procesu $\\text{AR}(p)$;"
   ]
  },
  {
   "cell_type": "markdown",
   "metadata": {
    "id": "s6QJhO5mALOr"
   },
   "source": [
    "## Model średniej ruchomej - $\\text{MA}(q)$\n",
    "\n",
    "**Modelem średniej ruchomej rzędu $q$** nazywamy stacjonarny szereg $Y_t$ spełniający równanie:\n",
    "$$Y_t = \\mu+ \\varepsilon_t + \\sum_{i=1}^q \\theta_i\\cdot \\varepsilon_{t-i},$$\n",
    "gdzie $\\theta_1, \\theta_2, \\ldots, \\theta_{q}$ są współczynnikami modelu oraz $\\varepsilon_t$ to biały szum."
   ]
  },
  {
   "cell_type": "markdown",
   "metadata": {
    "id": "gJxVkVCjALOt"
   },
   "source": [
    "## Zadanie - model MA(1)\n",
    "\n",
    "Wygeneruj 100 elementowy szereg MA(1): $Y_t = \\varepsilon_t + 0.9 \\cdot \\varepsilon_{t-1}$. Następnie sporządź wykresy ACF i PACF (`plot_acf` i `plot_pacf` z `statsmodels.graphics.tsaplots`)."
   ]
  },
  {
   "cell_type": "code",
   "execution_count": null,
   "metadata": {
    "id": "5JJNmQwwOkAz"
   },
   "outputs": [],
   "source": [
    "np.random.seed(128)\n",
    "N = 101\n",
    "e = np.random.normal(0, 1, N)\n",
    "ma1 = np.array([e[i] + 0.9 * e[i-1] for i in range(1, N)])\n",
    "plt.plot(ma1)"
   ]
  },
  {
   "cell_type": "code",
   "execution_count": null,
   "metadata": {
    "id": "IJ4mWFYvYHSg"
   },
   "outputs": [],
   "source": [
    "plot_acf(ma1, lags = 50, zero = False)\n",
    "plt.show()"
   ]
  },
  {
   "cell_type": "code",
   "execution_count": null,
   "metadata": {
    "id": "bp1d8ZOwaLlZ"
   },
   "outputs": [],
   "source": [
    "model_ma1 = ARIMA(endog = ma1, order=(0, 0, 1))\n",
    "model_ma1 = model_ma1.fit()\n",
    "#Y_t = \\mu+eps_t+theta * eps_{t-1}"
   ]
  },
  {
   "cell_type": "code",
   "execution_count": null,
   "metadata": {
    "id": "kn6fi4hecKHS"
   },
   "outputs": [],
   "source": [
    "model_ma1.summary()"
   ]
  },
  {
   "cell_type": "code",
   "execution_count": null,
   "metadata": {
    "id": "h_mxvx4uc-tG"
   },
   "outputs": [],
   "source": [
    "model_ma1 = ARIMA(endog = ma1, order=(0, 0, 1), trend='n')\n",
    "model_ma1 = model_ma1.fit()"
   ]
  },
  {
   "cell_type": "code",
   "execution_count": null,
   "metadata": {
    "id": "9_fgsaGzdRWr"
   },
   "outputs": [],
   "source": [
    "model_ma1.summary()"
   ]
  },
  {
   "cell_type": "markdown",
   "metadata": {
    "id": "jLn1JhsMALOx"
   },
   "source": [
    "## Zadanie - model MA(2)\n",
    "Wygeneruj 100 elementowy szereg MA(2): $Y_t = \\varepsilon_t + 0.9 \\cdot \\varepsilon_{t-1} + 0.7 * \\varepsilon_{t-2}$."
   ]
  },
  {
   "cell_type": "code",
   "execution_count": null,
   "metadata": {
    "id": "tXg_ABqUOlUa"
   },
   "outputs": [],
   "source": [
    "np.random.seed(128)\n",
    "N = 102\n",
    "e = np.random.normal(0, 1, N)\n",
    "ma2 = np.array([e[i] + 0.9 * e[i-1] + 0.7 * e[i-2] for i in range(1, N)])\n",
    "plt.plot(ma2)"
   ]
  },
  {
   "cell_type": "markdown",
   "metadata": {
    "id": "NITt2CnDALOz"
   },
   "source": [
    "## Model autoregresji rzędu $p$ - $\\text{AR}(p)$\n",
    "\n",
    "**Modelem autoregresji rzędu $p$** nazywamy stacjonarny szereg czasowy $Y_t$ spełniający równanie:\n",
    "$$Y_t = \\mu+\\sum_{i=1}^p \\phi_i\\cdot Y_{t-i} + \\varepsilon_t,$$\n",
    "gdzie $\\phi_1, \\phi_2, \\ldots, \\phi_p$ są współczynnikami modelu oraz $\\varepsilon_t$ to biały szum."
   ]
  },
  {
   "cell_type": "markdown",
   "metadata": {
    "id": "fdX4uBI5ALO0"
   },
   "source": [
    "## Zadanie - model AR(1) \n",
    "\n",
    "Wygeneruj 100 elementowy szereg AR(1): $Y_t = 0.8\\cdot Y_{t-1} + \\varepsilon_t = 0.8\\cdot (0.8\\cdot Y_{t-2}+\\varepsilon_{t-1})+\\varepsilon_{t}$. Następnie sporządź wykresy ACF i PACF."
   ]
  },
  {
   "cell_type": "code",
   "execution_count": null,
   "metadata": {
    "id": "c_oLtFNYOnWy"
   },
   "outputs": [],
   "source": [
    "# szereg z procesu AR(1), nie rozpatrujemy pierwszych 100 obserwacji, aby pozbyć się wpływu punktu początkowego\n",
    "# (musimy od jakiegoś zacząć bo w teorii AR idzie od czsu t = -oo do t = oo)\n",
    "\n",
    "np.random.seed(128)\n",
    "N = 201\n",
    "e = np.random.normal(0, 1, N)\n",
    "ar1 = np.zeros(N)\n",
    "\n",
    "for i in range(1, N):\n",
    "    ar1[i] = 0.8 * ar1[i-1] + e[i]\n",
    "\n",
    "ar1 = ar1[101:]\n",
    "plt.plot(ar1)\n",
    "plt.show()"
   ]
  },
  {
   "cell_type": "code",
   "execution_count": null,
   "metadata": {
    "id": "wmSI9DJBiWUT"
   },
   "outputs": [],
   "source": [
    "plot_acf(ar1, lags = 50, zero = False)\n",
    "plt.show()"
   ]
  },
  {
   "cell_type": "code",
   "execution_count": null,
   "metadata": {
    "id": "sEZLUL2lilg7"
   },
   "outputs": [],
   "source": [
    "plot_pacf(ar1, lags = 20, zero = False)\n",
    "plt.show()"
   ]
  },
  {
   "cell_type": "code",
   "execution_count": null,
   "metadata": {
    "id": "EGgeYgApi84H"
   },
   "outputs": [],
   "source": [
    "model_ar1 = ARIMA(endog = ar1, order=(1, 0, 0))\n",
    "model_ar1 = model_ar1.fit()"
   ]
  },
  {
   "cell_type": "code",
   "execution_count": null,
   "metadata": {
    "id": "Q6F8X9jvjbj-"
   },
   "outputs": [],
   "source": [
    "model_ar1.summary()"
   ]
  },
  {
   "cell_type": "code",
   "execution_count": null,
   "metadata": {
    "id": "a2EvdfP4jqMJ"
   },
   "outputs": [],
   "source": [
    "model_ar1 = ARIMA(endog = ar1, order=(1, 0, 0), trend='n')\n",
    "model_ar1 = model_ar1.fit()"
   ]
  },
  {
   "cell_type": "code",
   "execution_count": null,
   "metadata": {
    "id": "iO6kFcfGjs8Q"
   },
   "outputs": [],
   "source": [
    "model_ar1.summary()"
   ]
  },
  {
   "cell_type": "markdown",
   "metadata": {
    "id": "ZsWtR31gALO2"
   },
   "source": [
    "## Zadanie - model AR(2) \n",
    "\n",
    "Wygeneruj 100 elementowy szereg AR(2): $Y_t = 0.7\\cdot Y_{t-2} + 0.8\\cdot Y_{t-1} + \\varepsilon_t$. Następnie sporządź wykresy ACF i PACF."
   ]
  },
  {
   "cell_type": "code",
   "execution_count": null,
   "metadata": {
    "id": "Q-_iJRM4Oot-"
   },
   "outputs": [],
   "source": []
  },
  {
   "cell_type": "markdown",
   "metadata": {
    "id": "GHHYquw7ALO3"
   },
   "source": [
    "## Model autoregresji ruchomej średniej - $\\text{ARMA}(p, q)$\n",
    "\n",
    "**Modelem autoregresji ruchomej średniej** nazywamy stacjonarny szereg czasowy $Y_t$ spełniający równanie:\n",
    "$$Y_t = \\mu+\\sum_{i=1}^p \\phi_i\\cdot Y_{t-i} + \\sum_{j=1}^q \\theta_j \\cdot \\varepsilon_{t-j} + \\varepsilon_t,$$\n",
    "gdzie $\\phi_1, \\phi_2, \\ldots, \\phi_p$ oraz  $\\theta_1, \\theta_2, \\ldots, \\theta_{q}$ są współczynnikami modelu oraz $\\varepsilon_t$ to biały szum."
   ]
  },
  {
   "cell_type": "markdown",
   "metadata": {
    "id": "BxHrQFQyALO3"
   },
   "source": [
    "## Zadanie - model ARMA(1, 1)\n",
    "Wygeneruj 100 elementowy szereg ARMA(1, 1): $Y_t = 0.7\\cdot Y_{t-1} + 0.8\\cdot \\varepsilon_{t-1} + \\varepsilon_t$. Następnie sporządź wykresy ACF i PACF."
   ]
  },
  {
   "cell_type": "code",
   "execution_count": null,
   "metadata": {
    "id": "CmkvfzsgOwqG"
   },
   "outputs": [],
   "source": [
    "np.random.seed(129)\n",
    "N5 = 1001\n",
    "e = np.random.normal(0, 1, N5)\n",
    "arma = 10 * np.ones(N5)\n",
    "\n",
    "for i in range(1, N5):\n",
    "    arma[i] = 0.7 * arma[i-1] + 0.8 * e[i-1] + e[i]\n",
    "\n",
    "arma = arma[101:]\n",
    "plt.plot(arma)\n",
    "plt.show()"
   ]
  },
  {
   "cell_type": "code",
   "execution_count": null,
   "metadata": {
    "id": "NmP1zr_ek2Hy"
   },
   "outputs": [],
   "source": [
    "plot_acf(arma, lags = 50, zero = False)\n",
    "plt.show()"
   ]
  },
  {
   "cell_type": "code",
   "execution_count": null,
   "metadata": {
    "id": "zN6-6g1llAdD"
   },
   "outputs": [],
   "source": [
    "plot_pacf(arma, lags = 20, zero = False)\n",
    "plt.show()"
   ]
  },
  {
   "cell_type": "code",
   "execution_count": null,
   "metadata": {
    "id": "9VPdsKz-lHLH"
   },
   "outputs": [],
   "source": [
    "model_arma = ARIMA(endog = arma, order=(0, 0, 8), trend='n')\n",
    "model_arma = model_arma.fit()"
   ]
  },
  {
   "cell_type": "code",
   "execution_count": null,
   "metadata": {
    "id": "2D6fEuqIlQnv"
   },
   "outputs": [],
   "source": [
    "model_arma.summary()"
   ]
  },
  {
   "cell_type": "markdown",
   "metadata": {
    "id": "2Cvtn4-tALO4"
   },
   "source": [
    "## Zadanie - model ARMA(2, 1)\n",
    "Wygeneruj 100 elementowy szereg ARMA(2, 1): $Y_t = 0.5\\cdot Y_{t-2} + 0.7\\cdot Y_{t-1} + 0.8\\cdot \\varepsilon_{t-1} + \\varepsilon_t$. Następnie sporządź wykresy ACF i PACF."
   ]
  },
  {
   "cell_type": "code",
   "execution_count": null,
   "metadata": {
    "id": "Ccu5bfVhvZdM"
   },
   "outputs": [],
   "source": []
  },
  {
   "cell_type": "markdown",
   "metadata": {
    "id": "Z5suIw8v2s1B"
   },
   "source": [
    "## Zadanie - szereg z trendem\n",
    "Wygeneruj 100 elementowy szereg: $Y_t = t+0.7\\cdot Y_{t-1} + 0.8\\cdot \\varepsilon_{t-1} + \\varepsilon_t$. Następnie sporządź wykresy ACF i PACF.\n",
    "Zamodeluj szereg na podstawie analizy ACF i PACF."
   ]
  },
  {
   "cell_type": "code",
   "execution_count": null,
   "metadata": {
    "id": "t1BNvpZrO1y2"
   },
   "outputs": [],
   "source": [
    "np.random.seed(128)\n",
    "N5 = 201\n",
    "e = np.random.normal(0, 1, N5)\n",
    "arima = 10 * np.ones(N5)\n",
    "\n",
    "for i in range(1, N5):\n",
    "    arima[i] = i + 0.7 * arima[i-1] + 0.8 * e[i-1] + e[i]\n",
    "\n",
    "arima = arima[101:]\n",
    "plt.plot(arima)\n",
    "plt.show() #jest trend"
   ]
  },
  {
   "cell_type": "code",
   "execution_count": null,
   "metadata": {
    "id": "KwgdcCMVmroV"
   },
   "outputs": [],
   "source": [
    "arima_diff = arima[1:] - arima[:(len(arima) - 1)]\n",
    "plt.plot(arima_diff)"
   ]
  },
  {
   "cell_type": "code",
   "execution_count": null,
   "metadata": {
    "id": "NQva2R4jnHVV"
   },
   "outputs": [],
   "source": [
    "plot_acf(arima_diff, lags = 50, zero = False)\n",
    "plt.show()"
   ]
  },
  {
   "cell_type": "code",
   "execution_count": null,
   "metadata": {
    "id": "NuI_FfLYnWRJ"
   },
   "outputs": [],
   "source": [
    "plot_pacf(arima_diff, lags = 20, zero = False)\n",
    "plt.show()"
   ]
  },
  {
   "cell_type": "code",
   "execution_count": null,
   "metadata": {
    "id": "XkXtRgxAndk6"
   },
   "outputs": [],
   "source": [
    "model_arima_diff = ARIMA(endog = arima_diff, order=(2, 0, 2))\n",
    "model_arima_diff = model_arima_diff.fit()"
   ]
  },
  {
   "cell_type": "code",
   "execution_count": null,
   "metadata": {
    "id": "l6B3hhpQn2fY"
   },
   "outputs": [],
   "source": [
    "model_arima_diff.summary()"
   ]
  },
  {
   "cell_type": "code",
   "execution_count": null,
   "metadata": {
    "id": "j0ahPmxFoTAo"
   },
   "outputs": [],
   "source": [
    "model_arima = ARIMA(endog = arima, order=(2, 1, 2), trend ='t')\n",
    "model_arima = model_arima.fit()"
   ]
  },
  {
   "cell_type": "code",
   "execution_count": null,
   "metadata": {
    "id": "wr8AvKVfoZf-"
   },
   "outputs": [],
   "source": [
    "model_arima.summary()"
   ]
  },
  {
   "cell_type": "markdown",
   "metadata": {
    "id": "bZYVlr0h49_p"
   },
   "source": [
    "## Zadanie - szereg z sezonem i trendem\n",
    "Wygeneruj 100 elementowy szereg: $Y_t = t+t$\tmod $12 +0.7\\cdot Y_{t-1} + 0.8\\cdot \\varepsilon_{t-1} + \\varepsilon_t$.\n",
    "gdzie $t$ mod $12$ oznacza dzielenie modulo (resztę z dzielenia) $t$ przez $12$.\n",
    "Następnie sporządź wykresy ACF i PACF.\n",
    "Zamodeluj szereg na podstawie analizy ACF i PACF."
   ]
  },
  {
   "cell_type": "code",
   "execution_count": null,
   "metadata": {
    "id": "4T8CRNJwO7R-"
   },
   "outputs": [],
   "source": [
    "np.random.seed(128)\n",
    "N5 = 201\n",
    "e = np.random.normal(0, 1, N5)\n",
    "arima = 10 * np.ones(N5)\n",
    "\n",
    "for i in range(1, N5):\n",
    "    arima[i] = i + i%12 + 0.7 * arima[i-1] + 0.8 * e[i-1] + e[i]\n",
    "\n",
    "arima = arima[101:]\n",
    "plt.plot(arima)\n",
    "plt.show() #jest trend i sezonowość"
   ]
  },
  {
   "cell_type": "code",
   "execution_count": null,
   "metadata": {
    "id": "9C4ha7toq5F2"
   },
   "outputs": [],
   "source": [
    "#różnicujemy w celu pozbycia się trendu\n",
    "arima_diff = arima[1:] - arima[:(len(arima) - 1)]\n",
    "plt.plot(arima_diff)\n",
    "plt.show() #patrzymy na szereg zróżnicowany, ale jest sezonowość"
   ]
  },
  {
   "cell_type": "code",
   "execution_count": null,
   "metadata": {
    "id": "yuRlUFRYrAuW"
   },
   "outputs": [],
   "source": [
    "#różnicujemy o 12 celem pozbysia się sezonowości\n",
    "arima_diff_12 = arima_diff[12:] - arima_diff[:(len(arima_diff) - 12)]\n",
    "plt.plot(arima_diff_12)\n",
    "plt.show() #jest stacjonarny"
   ]
  },
  {
   "cell_type": "code",
   "execution_count": null,
   "metadata": {
    "id": "NejXkdvDrKKS"
   },
   "outputs": [],
   "source": [
    "#analiza pacfów i acfów\n",
    "plot_acf(arima_diff_12, lags = 20, zero = False)\n",
    "plot_pacf(arima_diff_12, lags = 20, zero = False)\n",
    "plt.show()"
   ]
  },
  {
   "cell_type": "code",
   "execution_count": null,
   "metadata": {
    "id": "bCdlmM4lrWqh"
   },
   "outputs": [],
   "source": [
    "m1 = ARIMA(endog=arima_diff_12, order=(4, 0, 2)).fit()"
   ]
  },
  {
   "cell_type": "code",
   "execution_count": null,
   "metadata": {
    "id": "PCljMyHvrfSr"
   },
   "outputs": [],
   "source": [
    "from statsmodels.tsa.statespace.sarimax import SARIMAX\n",
    "m2 = SARIMAX(endog=arima, order=(4, 1, 2), seasonal_order = (0, 1, 0, 12), trend='c').fit()"
   ]
  },
  {
   "cell_type": "code",
   "execution_count": null,
   "metadata": {
    "id": "0TrkqoUurvB5"
   },
   "outputs": [],
   "source": [
    "m2.summary()"
   ]
  },
  {
   "cell_type": "code",
   "execution_count": null,
   "metadata": {
    "id": "VEA0SiEIr0EF"
   },
   "outputs": [],
   "source": [
    "m1.summary()"
   ]
  }
 ],
 "metadata": {
  "colab": {
   "collapsed_sections": [
    "NITt2CnDALOz"
   ],
   "provenance": []
  },
  "hide_input": false,
  "kernelspec": {
   "display_name": "Python 3 (ipykernel)",
   "language": "python",
   "name": "python3"
  },
  "language_info": {
   "codemirror_mode": {
    "name": "ipython",
    "version": 3
   },
   "file_extension": ".py",
   "mimetype": "text/x-python",
   "name": "python",
   "nbconvert_exporter": "python",
   "pygments_lexer": "ipython3",
   "version": "3.10.6"
  },
  "toc": {
   "base_numbering": 1,
   "nav_menu": {},
   "number_sections": true,
   "sideBar": true,
   "skip_h1_title": true,
   "title_cell": "Table of Contents",
   "title_sidebar": "Contents",
   "toc_cell": false,
   "toc_position": {},
   "toc_section_display": true,
   "toc_window_display": false
  },
  "varInspector": {
   "cols": {
    "lenName": 16,
    "lenType": 16,
    "lenVar": 40
   },
   "kernels_config": {
    "python": {
     "delete_cmd_postfix": "",
     "delete_cmd_prefix": "del ",
     "library": "var_list.py",
     "varRefreshCmd": "print(var_dic_list())"
    },
    "r": {
     "delete_cmd_postfix": ") ",
     "delete_cmd_prefix": "rm(",
     "library": "var_list.r",
     "varRefreshCmd": "cat(var_dic_list()) "
    }
   },
   "types_to_exclude": [
    "module",
    "function",
    "builtin_function_or_method",
    "instance",
    "_Feature"
   ],
   "window_display": false
  }
 },
 "nbformat": 4,
 "nbformat_minor": 1
}
