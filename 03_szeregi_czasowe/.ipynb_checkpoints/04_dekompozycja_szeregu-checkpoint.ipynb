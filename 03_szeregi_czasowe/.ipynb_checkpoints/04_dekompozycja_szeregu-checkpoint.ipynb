{
 "cells": [
  {
   "cell_type": "markdown",
   "metadata": {
    "id": "lkpTwD1709ls"
   },
   "source": [
    "# Dekompozycja szeregu"
   ]
  },
  {
   "cell_type": "markdown",
   "metadata": {
    "id": "1rPmFAdV09ly"
   },
   "source": [
    "W trakcie budowy modelu przeprowadza się **dekompozycje szeregu czasowego** w zależności od przyjętych założeń.\n",
    "\n",
    "**Oznaczenia**: $m_t$ - trend, $s_t$ - sezonowość, $\\varepsilon_t$ - szum.\n",
    "\n",
    "**Model addytywny** - wielkość wahań sezonowych lub wariancja danych wokół tendencji długoterminowej (trendu) nie zmienia się wraz z poziomem szeregu:\n",
    "$$y_t = m_t + s_t + \\varepsilon_t$$\n",
    "\n",
    "**Model multiplikatywny** - amplituda wahań sezonowych lub wariancja danych proporcjonalna do poziomu szeregu:\n",
    "$$y_t = m_t \\cdot s_t \\cdot \\varepsilon_t$$\n"
   ]
  },
  {
   "cell_type": "code",
   "execution_count": null,
   "metadata": {
    "id": "6cH1alTS09l0"
   },
   "outputs": [],
   "source": [
    "import numpy as np\n",
    "import pandas as pd\n",
    "\n",
    "from statsmodels.tsa.stattools import adfuller\n",
    "from statsmodels.tsa.seasonal import seasonal_decompose\n",
    "\n",
    "#from google.colab import files\n",
    "#src = list(files.upload().values())[0]\n",
    "#open('ts_utils.py','wb').write(src)\n",
    "\n",
    "#from ts_utils import check_time_series_stationary\n",
    "\n",
    "import matplotlib.pyplot as plt\n",
    "%matplotlib inline"
   ]
  },
  {
   "cell_type": "code",
   "execution_count": null,
   "metadata": {
    "id": "BhxIgEf-l1HI"
   },
   "outputs": [],
   "source": [
    "from statsmodels.tsa.stattools import adfuller\n",
    "\n",
    "def check_time_series_stationary(y, rolling_len=12):\n",
    "    \n",
    "    y = pd.Series(y)\n",
    "    df_test = adfuller(y)\n",
    "    \n",
    "    if df_test[1] < 0.05:\n",
    "        print('Szereg jest stacjonarny')\n",
    "    \n",
    "    else:\n",
    "        print('Szereg jest niestacjonarny')\n",
    "    \n",
    "    print(\"{0:^32s}\".format(\"Dickey-Fuller Test\"))\n",
    "    print(\"-\"*32+\"\\n\")\n",
    "    \n",
    "    print(\"{0:<20s}: {1:>10.4f}\".format('Test Statistic', df_test[0]))\n",
    "    print(\"{0:<20s}: {1:>10.4f}\".format('p-value', df_test[1]))\n",
    "    print(\"-\"*32+\"\\n\")\n",
    "    \n",
    "    rolling_mean = y.rolling(rolling_len).mean()\n",
    "    rolling_var = y.rolling(rolling_len).var()\n",
    "\n",
    "    plt.plot(y)\n",
    "    plt.plot(rolling_mean, label=\"Rolling mean\")\n",
    "    plt.plot(rolling_var, label=\"Rolling var\")\n",
    "    plt.legend()\n",
    "    plt.show()\n",
    "    \n",
    "    print(\"{0:^32s}\".format(\"Autocorrelation plot\"))\n",
    "    print(\"-\"*32+\"\\n\")\n",
    "    \n",
    "    pd.plotting.autocorrelation_plot(y)\n",
    "    plt.show()"
   ]
  },
  {
   "cell_type": "markdown",
   "metadata": {
    "id": "3pHeY5pe09l1"
   },
   "source": [
    "## Algorytm dekompozycji szeregu czasowego\n",
    "\n",
    "1. Wyznaczamy oszacowany składnik trendu $\\hat{m_t}$, wykorzystując np. metodę średniej ruchomej.\n",
    "2. Oszacowany trend jest eliminowany z danych. Wyznaczamy szereg:\n",
    "\n",
    "    a) dekompozycja addytywna: $y_t - \\hat{m_t}$,\n",
    "    \n",
    "    b) dekompozycja multiplikatywna: $y_t/\\hat{m_t}$.\n",
    "    \n",
    "3. Wyznaczamy indeksy sezonowe dla poszczególnych miesięcy, kwartałów, itd. Indeksy sezonowe są wyznaczane poprzez uśrednienie wartości szeregu z kroku 2 dla każdej jednostki czasu (np. miesiąc, kwartał) i wszystkich okresów (lat).\n",
    "4. Standaryzujemy wskaźniki sezonowe, tak aby nie miały one wpływu na tendencję długoterminową.\n",
    "5. Wyznaczamy reszty, usuwając trend i sezonowość\n",
    "\n",
    "    a) dekompozycja addytywna: $\\varepsilon_t = y_t - \\hat{m_t} - \\hat{s_t}$,\n",
    "    \n",
    "    b) dekompozycja multiplikatywna: $\\varepsilon_t = y_t/\\hat{m_t}/\\hat{s_t}$.\n"
   ]
  },
  {
   "cell_type": "markdown",
   "metadata": {
    "id": "4bDHsnup09l2"
   },
   "source": [
    "## ***Zadanie 1\n",
    "\n",
    "a) Przy użyciu metody średniej ruchomej oszacuj trend dla szeregu `southern`, wiedząc, że dla szeregu długości $n$, tzn. $Y_1, \\ldots, Y_n$ estymacja średniej ruchomej w chwili $t$ jest postaci:\n",
    "$$m(t)=\\frac{1}{2q+1}\\sum_{i=-q}^qY_{t-i},$$\n",
    "gdzie $q$ jest rzędem średniej ruchomej (np. `convolution_filter` z `statsmodels.tsa.filters.filtertools`). \n",
    "\n",
    "Innymi słowy, aby wyznaczyć oszacowaną wartość trendu w chwili $t$, uśredniamy $q$ poprzedzających ten moment wartości i $q$ wartości następujących po tym momencie.\n",
    "\n",
    "b) Następnie wyznacz indeksy sezonowe dla mięsięcy a następnie wystandaryzuj je przez średnią.\n",
    "\n",
    "c) Oszacuj wartość reszt szeregu, sprawdź jego stacjonarność.\n",
    "\n",
    "Załóż, że szereg `southern` jest szeregiem addytywnym."
   ]
  },
  {
   "cell_type": "code",
   "execution_count": null,
   "metadata": {
    "id": "6-uD9M7P09l3"
   },
   "outputs": [],
   "source": [
    "#chcemy dekomponować szereg, ponieważ łatwiej jest modelować poszczególne części (np. trend z regrsją liniową czy wielomianową)\n",
    "#sezonowość, przez powtarzanie dla konkretnych miesięcy, średnich wyliczonych na danych miesiącach na części uczącej pozbawionej trendu\n",
    "#losowość (jeśli stacjonarna to np. ARMA)\n",
    "southern = pd.read_csv('../data/southern.csv', parse_dates=['Date'], index_col='Date')"
   ]
  },
  {
   "cell_type": "code",
   "execution_count": null,
   "metadata": {
    "id": "QYic9OSrNMji"
   },
   "outputs": [],
   "source": [
    "southern.plot()"
   ]
  },
  {
   "cell_type": "markdown",
   "metadata": {
    "id": "BPwU6lip09l5"
   },
   "source": [
    "#### Oszacowanie trendu"
   ]
  },
  {
   "cell_type": "code",
   "execution_count": null,
   "metadata": {
    "id": "Kln13uZs09l6"
   },
   "outputs": [],
   "source": [
    "from statsmodels.tsa.filters.filtertools import convolution_filter\n",
    "# używamy metody convolution_filter, jeśli n_sizes = 2 sumujemy wszystkie elmenty odległe o freq/2 z dwóch stron\n",
    "# od zadanego punktu i tak przechodzimy punkt po punkcie innymi słowy robimy sumę ruchomą"
   ]
  },
  {
   "cell_type": "code",
   "execution_count": null,
   "metadata": {
    "id": "se2oOWPTNHFD"
   },
   "outputs": [],
   "source": [
    "# średnia ruchoma\n",
    "period = 12\n",
    "trend = convolution_filter(southern.Southern, np.ones(period + 1), nsides=2) / (period + 1)"
   ]
  },
  {
   "cell_type": "code",
   "execution_count": null,
   "metadata": {
    "id": "9rY_7QG8NEub"
   },
   "outputs": [],
   "source": [
    "# wykres średniej ruchomej\n",
    "plt.plot(southern)\n",
    "plt.plot(trend)"
   ]
  },
  {
   "cell_type": "markdown",
   "metadata": {
    "id": "eGXcjTzo09l8"
   },
   "source": [
    "#### Oszacowanie sezonowości"
   ]
  },
  {
   "cell_type": "code",
   "execution_count": null,
   "metadata": {
    "id": "bOa7V-d3M-iz"
   },
   "outputs": [],
   "source": [
    "# wyrzucamy trend\n",
    "detrended = southern.Southern - trend\n",
    "plt.plot(detrended)"
   ]
  },
  {
   "cell_type": "code",
   "execution_count": null,
   "metadata": {
    "id": "a4wbbcZEM7AK"
   },
   "outputs": [],
   "source": [
    "# liczymy na szeregu bez trendu średnie dla poszczególnych miesięcy\n",
    "month_avgs = np.array([np.nanmean(detrended[i::period], axis=0) for i in range(period)])\n",
    "print(month_avgs)\n",
    "\n",
    "month_avgs -= np.mean(month_avgs, axis=0)\n",
    "print(np.mean(month_avgs, axis=0))\n",
    "\n",
    "# powtarzamy średnie tyle razy ile mamy lat, w efekcie mamy szereg długości southern, \n",
    "# gdzie dla każdego miesiąca w każdym roku, mamy średnią wyliczoną dla danego miesiąca \n",
    "seasonal = np.tile(month_avgs.T, southern.size // period).T\n",
    "seasonal = pd.Series(seasonal, index=southern.index)"
   ]
  },
  {
   "cell_type": "code",
   "execution_count": null,
   "metadata": {
    "id": "3peIAldoM5Ei"
   },
   "outputs": [],
   "source": [
    "plt.plot(seasonal)"
   ]
  },
  {
   "cell_type": "code",
   "execution_count": null,
   "metadata": {
    "id": "vcd1iQzMMu_D"
   },
   "outputs": [],
   "source": [
    "# rozpatrujemy część losową - bez średniej i bez trendu\n",
    "resid = detrended - seasonal\n",
    "plt.plot(resid)"
   ]
  },
  {
   "cell_type": "code",
   "execution_count": null,
   "metadata": {
    "id": "lHJjWZ_AMksi"
   },
   "outputs": [],
   "source": [
    "plt.plot(southern)\n",
    "plt.show()\n",
    "plt.plot(trend)\n",
    "plt.show()\n",
    "plt.plot(seasonal)\n",
    "plt.show()"
   ]
  },
  {
   "cell_type": "markdown",
   "metadata": {
    "id": "xxjxC9B909l9"
   },
   "source": [
    "#### Oszacowanie elementu losowego i diagnostyka stacjonarności"
   ]
  },
  {
   "cell_type": "code",
   "execution_count": null,
   "metadata": {
    "id": "BzslZ1FqMhze"
   },
   "outputs": [],
   "source": [
    "check_time_series_stationary(resid.dropna())"
   ]
  },
  {
   "cell_type": "markdown",
   "metadata": {
    "id": "q5_I_5gH09l-"
   },
   "source": [
    "## Zadanie 2\n",
    "Dokonaj dekompozycji szeregu przy użyciu `seasonal_decompose` dla następujących danych:\n",
    "- `southern`,\n",
    "- `a10`,\n",
    "- `AirPassengers`, \n",
    "- `sunspots`."
   ]
  },
  {
   "cell_type": "markdown",
   "metadata": {
    "id": "yMQLWQpS09l_"
   },
   "source": [
    "### `southern`"
   ]
  },
  {
   "cell_type": "code",
   "execution_count": null,
   "metadata": {
    "id": "9u3mXCse09l_"
   },
   "outputs": [],
   "source": [
    "southern = pd.read_csv('../data/southern.csv', parse_dates=['Date'], index_col='Date')"
   ]
  },
  {
   "cell_type": "code",
   "execution_count": null,
   "metadata": {
    "id": "uRUILCFJEKre"
   },
   "outputs": [],
   "source": [
    "southern_dec = seasonal_decompose(southern, model = 'additive')"
   ]
  },
  {
   "cell_type": "code",
   "execution_count": null,
   "metadata": {
    "id": "8ixZOiGgEft_"
   },
   "outputs": [],
   "source": [
    "southern_dec.plot()\n",
    "plt.show()"
   ]
  },
  {
   "cell_type": "code",
   "execution_count": null,
   "metadata": {
    "id": "dqJVPC0wE8no"
   },
   "outputs": [],
   "source": [
    "southern_dec.trend\n",
    "southern_dec.seasonal\n",
    "southern_dec.resid[0:7]"
   ]
  },
  {
   "cell_type": "markdown",
   "metadata": {
    "id": "a7qfC-hW09mB"
   },
   "source": [
    "### `a10`"
   ]
  },
  {
   "cell_type": "code",
   "execution_count": null,
   "metadata": {
    "id": "u0F8PLf9MYZe"
   },
   "outputs": [],
   "source": [
    "a10 = pd.read_csv('../data/a10.csv', parse_dates=['date'], index_col='date')\n",
    "a10.head()"
   ]
  },
  {
   "cell_type": "code",
   "execution_count": null,
   "metadata": {
    "id": "cTYhW2C7MThL"
   },
   "outputs": [],
   "source": [
    "a10.plot()"
   ]
  },
  {
   "cell_type": "code",
   "execution_count": null,
   "metadata": {
    "id": "zcImHgdVMKvK"
   },
   "outputs": [],
   "source": [
    "a10_dec = seasonal_decompose(a10, model = 'multiplicative')\n",
    "a10_dec.plot()\n",
    "plt.show()"
   ]
  },
  {
   "cell_type": "code",
   "execution_count": null,
   "metadata": {
    "id": "hK9ZwP7UMHj1"
   },
   "outputs": [],
   "source": [
    "check_time_series_stationary(a10_dec.resid.dropna())"
   ]
  },
  {
   "cell_type": "markdown",
   "metadata": {
    "id": "GzwKlhqZ09mD"
   },
   "source": [
    "### `AirPassengers`"
   ]
  },
  {
   "cell_type": "code",
   "execution_count": null,
   "metadata": {
    "id": "rMkhIaioMCQO"
   },
   "outputs": [],
   "source": [
    "air_passengers = pd.read_csv('../data/AirPassengers.csv', parse_dates=['Month'], index_col='Month')\n",
    "air_passengers.head()"
   ]
  },
  {
   "cell_type": "markdown",
   "metadata": {
    "id": "yTI85mz609mD"
   },
   "source": [
    "### `sunspot` \n",
    "Time Series:\n",
    "Start = 1700 \n",
    "End = 1988 \n",
    "Frequency = 1 "
   ]
  },
  {
   "cell_type": "code",
   "execution_count": null,
   "metadata": {
    "id": "3Tz0P4ZmL4-e"
   },
   "outputs": [],
   "source": [
    "sunspot = pd.read_csv('../data/sunspot.csv')\n",
    "sunspot"
   ]
  },
  {
   "cell_type": "code",
   "execution_count": null,
   "metadata": {
    "id": "gq-_P--3L1ve"
   },
   "outputs": [],
   "source": [
    "sunspot.index = pd.date_range('1700', '1988', freq = 'AS') #nadajemy rok jako indeks dla poszczególnych obserwacji\n",
    "sunspot.index"
   ]
  },
  {
   "cell_type": "code",
   "execution_count": null,
   "metadata": {
    "id": "SismX_SyLxna"
   },
   "outputs": [],
   "source": [
    "sunspot.plot()"
   ]
  },
  {
   "cell_type": "code",
   "execution_count": null,
   "metadata": {
    "id": "V2XiK1QwLuuu"
   },
   "outputs": [],
   "source": [
    "sunspot_dec = seasonal_decompose(sunspot, model = 'additive')\n",
    "sunspot_dec.plot()\n",
    "plt.show()"
   ]
  },
  {
   "cell_type": "code",
   "execution_count": null,
   "metadata": {
    "id": "_CtJLwaGLrCy"
   },
   "outputs": [],
   "source": [
    "plt.plot(sunspot[(sunspot.index >= '1700') & (sunspot.index <= '1760')])\n",
    "plt.show()"
   ]
  },
  {
   "cell_type": "code",
   "execution_count": null,
   "metadata": {
    "id": "1nwKsXxULnUW"
   },
   "outputs": [],
   "source": [
    "sunspot_dec = seasonal_decompose(sunspot, model = 'additive', freq = 10)\n",
    "sunspot_dec.plot()\n",
    "plt.show()"
   ]
  },
  {
   "cell_type": "code",
   "execution_count": null,
   "metadata": {
    "id": "rmuMTdUnLkIm"
   },
   "outputs": [],
   "source": [
    "check_time_series_stationary(sunspot_dec.resid.dropna()) "
   ]
  },
  {
   "cell_type": "code",
   "execution_count": null,
   "metadata": {
    "id": "lqJPCyq9LhOu"
   },
   "outputs": [],
   "source": [
    "plt.plot(sunspot_dec.resid.dropna())"
   ]
  }
 ],
 "metadata": {
  "colab": {
   "provenance": []
  },
  "hide_input": false,
  "kernelspec": {
   "display_name": "Python 3 (ipykernel)",
   "language": "python",
   "name": "python3"
  },
  "language_info": {
   "codemirror_mode": {
    "name": "ipython",
    "version": 3
   },
   "file_extension": ".py",
   "mimetype": "text/x-python",
   "name": "python",
   "nbconvert_exporter": "python",
   "pygments_lexer": "ipython3",
   "version": "3.10.6"
  },
  "toc": {
   "base_numbering": 1,
   "nav_menu": {},
   "number_sections": true,
   "sideBar": true,
   "skip_h1_title": true,
   "title_cell": "Table of Contents",
   "title_sidebar": "Contents",
   "toc_cell": false,
   "toc_position": {},
   "toc_section_display": true,
   "toc_window_display": false
  },
  "varInspector": {
   "cols": {
    "lenName": 16,
    "lenType": 16,
    "lenVar": 40
   },
   "kernels_config": {
    "python": {
     "delete_cmd_postfix": "",
     "delete_cmd_prefix": "del ",
     "library": "var_list.py",
     "varRefreshCmd": "print(var_dic_list())"
    },
    "r": {
     "delete_cmd_postfix": ") ",
     "delete_cmd_prefix": "rm(",
     "library": "var_list.r",
     "varRefreshCmd": "cat(var_dic_list()) "
    }
   },
   "types_to_exclude": [
    "module",
    "function",
    "builtin_function_or_method",
    "instance",
    "_Feature"
   ],
   "window_display": false
  }
 },
 "nbformat": 4,
 "nbformat_minor": 1
}
