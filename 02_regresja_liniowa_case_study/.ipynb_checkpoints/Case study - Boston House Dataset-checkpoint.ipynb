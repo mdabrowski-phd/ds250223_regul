{
 "cells": [
  {
   "cell_type": "code",
   "execution_count": null,
   "metadata": {
    "id": "GC0djAWLAdx8"
   },
   "outputs": [],
   "source": [
    "import numpy as np\n",
    "import pandas as pd\n",
    "from scipy import stats\n",
    "import seaborn as sns\n",
    "\n",
    "import statsmodels.api as sm\n",
    "import statsmodels.formula.api as smf\n",
    "from patsy import dmatrices\n",
    "\n",
    "import matplotlib.pyplot as plt\n",
    "from matplotlib.pylab import rcParams\n",
    "%matplotlib inline\n",
    "\n",
    "import sklearn.metrics as metrics\n",
    "from sklearn.linear_model import LinearRegression, Ridge, Lasso, RidgeCV, LassoCV\n",
    "from sklearn.preprocessing import StandardScaler, PolynomialFeatures\n",
    "from sklearn.pipeline import make_pipeline\n",
    "from sklearn.model_selection import cross_val_score, train_test_split, GridSearchCV\n",
    "\n",
    "import warnings\n",
    "warnings.filterwarnings('ignore')"
   ]
  },
  {
   "cell_type": "markdown",
   "metadata": {
    "id": "pB4lXNrWAdyC"
   },
   "source": [
    "# Case study - zbiór `Boston House Dataset`"
   ]
  },
  {
   "cell_type": "code",
   "execution_count": null,
   "metadata": {
    "id": "MRoW_weHAdyF"
   },
   "outputs": [],
   "source": [
    "from sklearn import datasets\n",
    "boston = datasets.load_boston()"
   ]
  },
  {
   "cell_type": "code",
   "execution_count": null,
   "metadata": {
    "id": "gnAp4CbUAZcI"
   },
   "outputs": [],
   "source": [
    "print(boston['DESCR'])"
   ]
  },
  {
   "cell_type": "markdown",
   "metadata": {
    "id": "EcMRcgZUAdyI"
   },
   "source": [
    "## Model prostej regresji liniowej\n",
    "1. Podziel dane na część treningową i na część testową w stosunku 7:3.\n",
    "\n",
    "\n",
    "2. Interesuje nas zależność wielkości ceny domu od średniej liczby pokoi w domu (zmienne `PRICE` i `RM`). Określ zmienną zależną i niezależną, a następnie:\n",
    "\n",
    "      a) Narysuj wykres rozproszenia tych zmiennych. \n",
    "      \n",
    "      b) Czy zmienne te są zależne? \n",
    "      \n",
    "      c) Oblicz dla nich współczynnik korelacji Pearsona. \n",
    "\n",
    "\n",
    "3. Wyznacz funkcję regresji wielkości ceny domu względem średniej liczby pokoi. Narysuj ją na wykresie rozproszenia.\n",
    "\n",
    "\n",
    "4. Zweryfikuj dopasowanie modelu:\n",
    "\n",
    "    a) Czy istnieje związek pomiędzy zmienną zależną a niezależną?\n",
    "    \n",
    "    b) Czy wyraz wolny jest istotny w modelu?\n",
    "    \n",
    "    c) Oblicz i zinterpretuj wartość współczynnika determinacji $R^2$.\n",
    "    \n",
    "    d) Sprawdź, czy spełnione jest założenie o rozkładzie normalnym reszt.\n",
    "    \n",
    "    e) Zweryfikuj dopasowanie modelu, sporządź wykresy diagnostyczne: wykres wartości przewidywanych względem prawdziwych, wykres residuów względem wartości dopasowanych.\n",
    "    \n",
    "    f) Wyznacz i porównaj jakość dopasowania i predykcji za pomocą różnych miar (np. MSE, MAE, $R^2$)."
   ]
  },
  {
   "cell_type": "markdown",
   "metadata": {
    "id": "J9HVsy_tAdyJ"
   },
   "source": [
    "## Model wielorakiej regresji liniowej\n",
    "\n",
    "5. Wyznacz model liniowy najlepiej opisujący zależność zależność wielkości ceny domu od pozostałych dostępnych zmiennych:\n",
    "\n",
    "    a) Czy istnieje związek pomiędzy zmienną zależną a którąkolwiek ze zmiennych niezależnych?\n",
    "    \n",
    "    b) Dla których zmiennych niezależnych Xj, j=1,...,10 można odrzucić hipotezę zerową  H0: βj = 0?\n",
    "    \n",
    "    c) Biorąc pod uwagę odpowiedź na poprzednie pytanie, wyznacz mniejszy model w oparciu tylko o zmienne, które faktycznie mają istotny wpływ na wielkość sprzedaży.\n",
    "    \n",
    "    d) Porównaj dopasowanie obu modeli (większego i mniejszego), sporządź wykresy diagnostyczne.\n",
    "    \n",
    "    e) Wyznacz i porównaj jakość dopasowania i predykcji dla modelu mniejszego i większego."
   ]
  },
  {
   "cell_type": "markdown",
   "metadata": {
    "id": "8E9hUvDcAdyK"
   },
   "source": [
    "## Regularyzacja\n",
    "\n",
    "6. Zastosuj regularyzację\n",
    "\n",
    "    a) grzbietową\n",
    "    \n",
    "    b) Lasso\n"
   ]
  },
  {
   "cell_type": "markdown",
   "metadata": {
    "id": "0j0OTW4VAdyL"
   },
   "source": [
    "## Model regresji wielomianowej\n",
    "\n",
    "7. Dopasuj model regresji wielomianowej:\n",
    "        \n",
    "    a) Znajdź optymalny stopień wielomianu.\n",
    "    \n",
    "    b) Zweryfikuj dopasowanie modelu, sporządź wykresy diagnostyczne.\n",
    "    \n",
    "    c) Zastosuj regularyzację znajdując najlepszy parametr $\\alpha$."
   ]
  },
  {
   "cell_type": "markdown",
   "metadata": {
    "id": "wLosUAo6AdyM"
   },
   "source": [
    "## Podsumowanie\n",
    "\n",
    "8. Dokonaj porównania dopasowanych powyżej modeli regresji pod względem błędu dopasowania i błędu predykcji (dane końcowe przedstaw za pomocą tabeli). \n",
    "    \n",
    "**Pamiętaj o graficznej ewaluacji modeli regresji!!!**"
   ]
  },
  {
   "cell_type": "code",
   "execution_count": null,
   "metadata": {
    "id": "VndSKrxFArmd"
   },
   "outputs": [],
   "source": [
    "boston_full = pd.DataFrame(boston['data'], columns=boston['feature_names'])\n",
    "boston_full['PRICE'] = boston['target']\n",
    "print(boston_full)"
   ]
  },
  {
   "cell_type": "code",
   "execution_count": null,
   "metadata": {
    "id": "OhPgWWZvBHTp"
   },
   "outputs": [],
   "source": [
    "X, y = pd.DataFrame(boston['data'], columns=boston['feature_names']), boston['target']"
   ]
  },
  {
   "cell_type": "markdown",
   "metadata": {
    "id": "4V5lnGWhdO0k"
   },
   "source": [
    "#Model prostej regresji liniowej"
   ]
  },
  {
   "cell_type": "code",
   "execution_count": null,
   "metadata": {
    "id": "eor1LIgrBE4h"
   },
   "outputs": [],
   "source": [
    "X_train, X_test, y_train, y_test = train_test_split(X, y, test_size=0.3, random_state=123)\n",
    "\n",
    "print(X_train.shape[0] / X.shape[0], X_test.shape[0] / X.shape[0])"
   ]
  },
  {
   "cell_type": "code",
   "execution_count": null,
   "metadata": {
    "id": "1mrXveH7zSTn"
   },
   "outputs": [],
   "source": [
    "X_train = X_train.reset_index(drop=True)\n",
    "X_test= X_test.reset_index(drop=True)"
   ]
  },
  {
   "cell_type": "markdown",
   "metadata": {
    "id": "l5gN9PzzwSiy"
   },
   "source": [
    "# Model wielorakiej regresji liniowej"
   ]
  },
  {
   "cell_type": "markdown",
   "metadata": {
    "id": "y94IkpYSsaZl"
   },
   "source": [
    "#Regularyzacja"
   ]
  },
  {
   "cell_type": "markdown",
   "metadata": {
    "id": "hdAnIuoExVk2"
   },
   "source": [
    "#Regresja wielomianowa"
   ]
  },
  {
   "cell_type": "markdown",
   "metadata": {
    "id": "XtNGWFxr0bHV"
   },
   "source": [
    "### Wyniki\n"
   ]
  }
 ],
 "metadata": {
  "colab": {
   "provenance": []
  },
  "hide_input": false,
  "kernelspec": {
   "display_name": "Python 3 (ipykernel)",
   "language": "python",
   "name": "python3"
  },
  "language_info": {
   "codemirror_mode": {
    "name": "ipython",
    "version": 3
   },
   "file_extension": ".py",
   "mimetype": "text/x-python",
   "name": "python",
   "nbconvert_exporter": "python",
   "pygments_lexer": "ipython3",
   "version": "3.10.6"
  },
  "toc": {
   "base_numbering": 1,
   "nav_menu": {},
   "number_sections": true,
   "sideBar": true,
   "skip_h1_title": true,
   "title_cell": "Table of Contents",
   "title_sidebar": "Contents",
   "toc_cell": false,
   "toc_position": {},
   "toc_section_display": true,
   "toc_window_display": false
  },
  "varInspector": {
   "cols": {
    "lenName": 16,
    "lenType": 16,
    "lenVar": 40
   },
   "kernels_config": {
    "python": {
     "delete_cmd_postfix": "",
     "delete_cmd_prefix": "del ",
     "library": "var_list.py",
     "varRefreshCmd": "print(var_dic_list())"
    },
    "r": {
     "delete_cmd_postfix": ") ",
     "delete_cmd_prefix": "rm(",
     "library": "var_list.r",
     "varRefreshCmd": "cat(var_dic_list()) "
    }
   },
   "types_to_exclude": [
    "module",
    "function",
    "builtin_function_or_method",
    "instance",
    "_Feature"
   ],
   "window_display": false
  }
 },
 "nbformat": 4,
 "nbformat_minor": 1
}
