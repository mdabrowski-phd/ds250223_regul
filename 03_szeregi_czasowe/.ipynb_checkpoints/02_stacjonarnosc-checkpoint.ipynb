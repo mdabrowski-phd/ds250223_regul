{
 "cells": [
  {
   "cell_type": "markdown",
   "metadata": {
    "id": "Y0tckpXip-sB"
   },
   "source": [
    "# Stacjonarność "
   ]
  },
  {
   "cell_type": "code",
   "execution_count": null,
   "metadata": {
    "id": "Sx1_LJldp-sJ"
   },
   "outputs": [],
   "source": [
    "import numpy as np\n",
    "import pandas as pd\n",
    "\n",
    "from statsmodels.tsa.stattools import adfuller\n",
    "\n",
    "import matplotlib.pyplot as plt\n",
    "%matplotlib inline"
   ]
  },
  {
   "cell_type": "markdown",
   "metadata": {
    "id": "H0USHJpVQzjS"
   },
   "source": [
    "Chcemy umieć modelować szeregi aby dobrze odwzorować ich zachowanie i mieć  wiarygodne przewidywania wartości tego szeregu w przyszłości. Większość modeli które istnieją dotyczą szeregów stacjonarnych, więc na początku nauczymy się badać stacjonarność szeregu"
   ]
  },
  {
   "cell_type": "markdown",
   "metadata": {
    "id": "pR0djhuDp-sK"
   },
   "source": [
    "**Stacjonarność w szerszym sensie**\n",
    "\n",
    "- stała w czasie wartość oczekiwana $\\mathbb{E}(y_t) = \\mu,$\n",
    "- stała w czasie wariancja $\\text{Var}(y_t) = \\sigma^2 < \\infty,$\n",
    "- kowariancja zależna od przesunięcia $h$ (nie od czasu) $\\text{Cov}(y_t, y_{t+h}) = \\mathbb{E}(y_t - \\mu)(y_{t+h} - \\mu) = \\lambda_h.$\n"
   ]
  },
  {
   "cell_type": "markdown",
   "metadata": {
    "id": "CY_OzDuSp-sL"
   },
   "source": [
    "W celach praktycznych aby sprawdzić stacjonarność szeregu możemy użyć:\n",
    "1. technik wizualizacyjnych\n",
    "    - **średniej ruchomej**,\n",
    "    - **ruchomej wariancji**\n",
    "2. **testu Dickeya-Fullera** - jeden z testów statystycznych weryfikujących stacjonarność szeregu, gdzie hipoteza zerowa testu Dickeya-Fullera zakłada, że szereg jest niestacjonarny."
   ]
  },
  {
   "cell_type": "markdown",
   "metadata": {
    "id": "9ySoOJuYp-sM"
   },
   "source": [
    "## Zadanie - biały szum\n",
    "Wygeneruj 100-elementowy *biały szum*, a następnie:\n",
    "- narysuj wykres tego szeregu,\n",
    "- nanieść na powyższy wykres,\n",
    "    - wykres średniej ruchomej o długości 12 (`pandas.Series.rolling`),\n",
    "    - wykres ruchomej wariancji o długości 12 (`pandas.Series.rolling`),\n",
    "- narysuj wykres autokorelacji tego szeregu\n",
    "- wykonaj test Dickeya-Fullera na poziomie istotności 0.05."
   ]
  },
  {
   "cell_type": "markdown",
   "metadata": {
    "id": "YWbpJBzAp-sN"
   },
   "source": [
    "**Biały szum** (ang. **white noise**):\n",
    "$$\n",
    "    y_t = \\varepsilon_t,\n",
    "$$\n",
    "gdzie $\\varepsilon_t \\sim \\mathcal{N}(0, \\sigma)$.\n"
   ]
  },
  {
   "cell_type": "code",
   "execution_count": null,
   "metadata": {
    "id": "-bWJ2xDeJ43S"
   },
   "outputs": [],
   "source": [
    "sigma = 1\n",
    "\n",
    "white_noise = np.random.normal(0, sigma, 100)\n",
    "plt.plot(white_noise)"
   ]
  },
  {
   "cell_type": "code",
   "execution_count": null,
   "metadata": {
    "id": "MuXEdlIPtwed"
   },
   "outputs": [],
   "source": [
    "white_noise = pd.Series(white_noise)\n",
    "white_noise"
   ]
  },
  {
   "cell_type": "code",
   "execution_count": null,
   "metadata": {
    "id": "_fNxJ-HAt8eJ"
   },
   "outputs": [],
   "source": [
    "wn_rolling_mean = white_noise.rolling(12).mean()\n",
    "wn_rolling_var = white_noise.rolling(12).var()"
   ]
  },
  {
   "cell_type": "code",
   "execution_count": null,
   "metadata": {
    "id": "GbBpNFP_JzPG"
   },
   "outputs": [],
   "source": [
    "plt.plot(white_noise)\n",
    "plt.plot(wn_rolling_mean, label = 'Średnia ruchoma')\n",
    "plt.plot(wn_rolling_var, label = 'Wariancja ruchoma')\n",
    "plt.legend()\n",
    "plt.show()"
   ]
  },
  {
   "cell_type": "code",
   "execution_count": null,
   "metadata": {
    "id": "9UNmTk_zJwt2"
   },
   "outputs": [],
   "source": [
    "pd.plotting.autocorrelation_plot(white_noise)"
   ]
  },
  {
   "cell_type": "code",
   "execution_count": null,
   "metadata": {
    "id": "-Uh2OVkXJt1O"
   },
   "outputs": [],
   "source": [
    "df_test = adfuller(white_noise)\n",
    "df_test"
   ]
  },
  {
   "cell_type": "markdown",
   "metadata": {
    "id": "OBldHUnqp-sU"
   },
   "source": [
    "## Zadanie - błądzenie losowe\n",
    "Wygeneruj 100-elementowy szereg czasowy typu *błądzenie losowe*, a następnie:\n",
    "- narysuj wykres tego szeregu,\n",
    "- nanieść na powyższy wykres,\n",
    "    - wykres średniej ruchomej o długości 12,\n",
    "    - wykres ruchomej wariancji o długości 12,\n",
    "- narysuj wykres autokorelacji tego szeregu\n",
    "- wykonaj test Dickeya-Fullera na poziomie istotności 0.05."
   ]
  },
  {
   "cell_type": "markdown",
   "metadata": {
    "id": "72npLHWxp-sV"
   },
   "source": [
    "**Błądzenie losowe** (ang.*random walk*):\n",
    "$$\n",
    "y_t = y_{t-1} + \\varepsilon_t = y_0 + \\sum_{i=1}^{t}\\varepsilon_i,\n",
    "$$\n",
    "gdzie $y_0 = a = \\text{const}$ i $\\varepsilon_t \\sim \\mathcal{N}(0, \\sigma)$."
   ]
  },
  {
   "cell_type": "code",
   "execution_count": null,
   "metadata": {
    "id": "U_mQJqhuJkKp"
   },
   "outputs": [],
   "source": [
    "# zakladam, ze y0=0\n",
    "e = np.random.normal(0, 1, 100)\n",
    "random_walk = np.cumsum(e)\n",
    "\n",
    "plt.plot(random_walk)"
   ]
  },
  {
   "cell_type": "code",
   "execution_count": null,
   "metadata": {
    "id": "7YBHcVdcJg89"
   },
   "outputs": [],
   "source": [
    "random_walk = pd.Series(random_walk)\n",
    "\n",
    "rw_rolling_mean = random_walk.rolling(12).mean()\n",
    "rw_rolling_var = random_walk.rolling(12).var()\n",
    "\n",
    "plt.plot(random_walk)\n",
    "plt.plot(rw_rolling_mean, label = 'Średnia ruchoma')\n",
    "plt.plot(rw_rolling_var, label = 'Wariancja ruchoma')\n",
    "plt.legend()\n",
    "plt.show()"
   ]
  },
  {
   "cell_type": "code",
   "execution_count": null,
   "metadata": {
    "id": "IQb0kTpVJePN"
   },
   "outputs": [],
   "source": [
    "pd.plotting.autocorrelation_plot(random_walk)"
   ]
  },
  {
   "cell_type": "code",
   "execution_count": null,
   "metadata": {
    "id": "bQ2xl0mGJbax"
   },
   "outputs": [],
   "source": [
    "df_test = adfuller(random_walk)\n",
    "df_test"
   ]
  },
  {
   "cell_type": "markdown",
   "metadata": {
    "id": "8VaEVDHUp-sX"
   },
   "source": [
    "## Zadanie\n",
    "Napisz funkcję `check_time_series_stationary`, która:\n",
    "- narysuje wykres tego szeregu,\n",
    "- naniesie na powyższy wykres,\n",
    "    - wykres średniej ruchomej zadanej długości,\n",
    "    - wykres ruchomej wariancji zadanej długości,\n",
    "- narysuje wykres autokorelacji tego szeregu,\n",
    "- wykona test Dickeya-Fullera, zwróci wartość statystyki testowej oraz $p$-wartość."
   ]
  },
  {
   "cell_type": "code",
   "execution_count": null,
   "metadata": {
    "id": "Jr42GW2dp-sY"
   },
   "outputs": [],
   "source": [
    "#funkcja wyrzuca wartość statystyki i p-wartość testu Dickeya-Fullera, rysuje wykreś średniej ruchomej i wariancji ruchomej i wykres autokorelacji\n",
    "def check_time_series_stationary(y, rolling_len = 12):\n",
    "    \n",
    "    y = pd.Series(y)\n",
    "    df_test = adfuller(y)\n",
    "    \n",
    "    if df_test[1] < 0.05:\n",
    "        print('Szereg jest stacjonarny')\n",
    "    \n",
    "    else:\n",
    "        print('Szereg jest niestacjonarny')\n",
    "    \n",
    "    print(\"{0:^32s}\".format(\"Dickey-Fuller Test\"))\n",
    "    print(\"-\"*32+\"\\n\")\n",
    "    \n",
    "    print(\"{0:<20s}: {1:>10.4f}\".format('Test Statistic', df_test[0]))\n",
    "    print(\"{0:<20s}: {1:>10.4f}\".format('p-value', df_test[1]))\n",
    "    print(\"-\"*32+\"\\n\")\n",
    "    \n",
    "    rolling_mean = y.rolling(rolling_len).mean()\n",
    "    rolling_var = y.rolling(rolling_len).var()\n",
    "\n",
    "    plt.plot(y)\n",
    "    plt.plot(rolling_mean, label=\"Rolling mean\")\n",
    "    plt.plot(rolling_var, label=\"Rolling var\")\n",
    "    plt.legend()\n",
    "    plt.show()\n",
    "    \n",
    "    print(\"{0:^32s}\".format(\"Autocorrelation plot\"))\n",
    "    print(\"-\"*32+\"\\n\")\n",
    "    \n",
    "    pd.plotting.autocorrelation_plot(y)\n",
    "    plt.show()"
   ]
  },
  {
   "cell_type": "markdown",
   "metadata": {
    "id": "2T9W4YAEp-sZ"
   },
   "source": [
    "## ***Zadanie - parametr $\\varphi$\n",
    "Idea **testu Dickey-Fullera** opiera się na modelu autokorelacji pierwszego rzędu następującej\n",
    "postaci: \n",
    "$$ y_t = \\varphi y_{t-1} + \\varepsilon_t, $$\n",
    "gdzie $\\varphi$ - parametr modelu autoregresji i $\\varepsilon_t$ - składnik losowy o własnościach białego szumu.\n",
    "\n",
    "Wygeneruj szeregi czasowe $y_t$ dla następujących wartości $\\varphi \\in \\{0.1, 0.25, 0.5, 0.75, 0.9\\}$, a następnie zbadaj ich stacjonarność."
   ]
  },
  {
   "cell_type": "code",
   "execution_count": null,
   "metadata": {
    "id": "2qyF8u4eI9ax"
   },
   "outputs": [],
   "source": [
    "n = 100\n",
    "e = np.random.normal(0, 1, 100)\n",
    "\n",
    "for q in (0.1, 0.25, 0.5, 0.75, 0.9):\n",
    "    \n",
    "    print(\"{0:^32s}\".format(\"Rho=\" + str(q)))\n",
    "    print(\"-\"*32+\"\\n\")\n",
    "    \n",
    "    y = np.zeros(n)\n",
    "    for i in range(1, n):\n",
    "        y[i] = q * y[i-1] + e[i]\n",
    "    \n",
    "    check_time_series_stationary(y)"
   ]
  },
  {
   "cell_type": "markdown",
   "metadata": {
    "id": "PGaRpbmop-sZ"
   },
   "source": [
    "## Zadanie - `a10`\n",
    "Wczytaj dane `a10.csv` opisujące miesięczną sprzedaż leków przeciwcukrzycowych w Australii w latach 1992–2008, a następnie zbadaj stacjonarność tego szeregu."
   ]
  },
  {
   "cell_type": "code",
   "execution_count": null,
   "metadata": {
    "id": "pK5qHDdkJQ4J"
   },
   "outputs": [],
   "source": [
    "a10 = pd.read_csv('../data/a10.csv', parse_dates=['date'], index_col='date')\n",
    "a10.head()"
   ]
  },
  {
   "cell_type": "code",
   "execution_count": null,
   "metadata": {
    "id": "-bai_AygJOT2"
   },
   "outputs": [],
   "source": [
    "check_time_series_stationary(a10.value)"
   ]
  },
  {
   "cell_type": "markdown",
   "metadata": {
    "id": "2LNPUgZyp-sa"
   },
   "source": [
    "## Zadanie - `daily-total-female-births`\n",
    "Wczytaj dane `daily-total-female-births.csv` przedstawiające całkowitą liczbę urodzeń kobiet zarejestrowanych w Kalifornii w USA w 1959 roku, a następnie zbadaj stacjonarność tego szeregu."
   ]
  },
  {
   "cell_type": "code",
   "execution_count": null,
   "metadata": {
    "id": "yFQ-s29vJI7e"
   },
   "outputs": [],
   "source": [
    "daily_total_female_births = pd.read_csv('../data/daily-total-female-births.csv', parse_dates=['Date'], index_col='Date')\n",
    "daily_total_female_births.head()"
   ]
  },
  {
   "cell_type": "markdown",
   "metadata": {
    "id": "cOGHhBBFp-sb"
   },
   "source": [
    "## Zadanie - `southern`\n",
    "Wczytaj dane `southern.csv`, a następnie zbadaj stacjonarność tego szeregu."
   ]
  },
  {
   "cell_type": "code",
   "execution_count": null,
   "metadata": {
    "id": "pm79McWlJB1p"
   },
   "outputs": [],
   "source": [
    "southern = pd.read_csv('../data/southern.csv', parse_dates=['Date'], index_col='Date')\n",
    "southern.head()"
   ]
  }
 ],
 "metadata": {
  "colab": {
   "provenance": []
  },
  "hide_input": false,
  "kernelspec": {
   "display_name": "Python 3 (ipykernel)",
   "language": "python",
   "name": "python3"
  },
  "language_info": {
   "codemirror_mode": {
    "name": "ipython",
    "version": 3
   },
   "file_extension": ".py",
   "mimetype": "text/x-python",
   "name": "python",
   "nbconvert_exporter": "python",
   "pygments_lexer": "ipython3",
   "version": "3.10.6"
  },
  "toc": {
   "base_numbering": 1,
   "nav_menu": {},
   "number_sections": true,
   "sideBar": true,
   "skip_h1_title": true,
   "title_cell": "Table of Contents",
   "title_sidebar": "Contents",
   "toc_cell": false,
   "toc_position": {},
   "toc_section_display": true,
   "toc_window_display": false
  },
  "varInspector": {
   "cols": {
    "lenName": 16,
    "lenType": 16,
    "lenVar": 40
   },
   "kernels_config": {
    "python": {
     "delete_cmd_postfix": "",
     "delete_cmd_prefix": "del ",
     "library": "var_list.py",
     "varRefreshCmd": "print(var_dic_list())"
    },
    "r": {
     "delete_cmd_postfix": ") ",
     "delete_cmd_prefix": "rm(",
     "library": "var_list.r",
     "varRefreshCmd": "cat(var_dic_list()) "
    }
   },
   "types_to_exclude": [
    "module",
    "function",
    "builtin_function_or_method",
    "instance",
    "_Feature"
   ],
   "window_display": false
  }
 },
 "nbformat": 4,
 "nbformat_minor": 1
}
