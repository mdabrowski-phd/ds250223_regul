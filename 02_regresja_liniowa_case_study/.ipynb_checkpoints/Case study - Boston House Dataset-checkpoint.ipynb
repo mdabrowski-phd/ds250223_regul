{
 "cells": [
  {
   "cell_type": "code",
   "execution_count": 47,
   "metadata": {
    "ExecuteTime": {
     "end_time": "2023-06-03T12:50:50.824918Z",
     "start_time": "2023-06-03T12:50:50.815515Z"
    },
    "id": "GC0djAWLAdx8"
   },
   "outputs": [],
   "source": [
    "import numpy as np\n",
    "import pandas as pd\n",
    "from scipy import stats\n",
    "import seaborn as sns\n",
    "\n",
    "import statsmodels.api as sm\n",
    "import statsmodels.formula.api as smf\n",
    "from patsy import dmatrices\n",
    "\n",
    "import matplotlib.pyplot as plt\n",
    "from matplotlib.pylab import rcParams\n",
    "%matplotlib inline\n",
    "\n",
    "import sklearn.metrics as metrics\n",
    "from sklearn.linear_model import LinearRegression, Ridge, Lasso, RidgeCV, LassoCV\n",
    "from sklearn.preprocessing import StandardScaler, PolynomialFeatures\n",
    "from sklearn.pipeline import make_pipeline\n",
    "from sklearn.model_selection import cross_val_score, train_test_split, GridSearchCV\n",
    "\n",
    "import warnings\n",
    "warnings.filterwarnings('ignore')"
   ]
  },
  {
   "cell_type": "markdown",
   "metadata": {
    "id": "pB4lXNrWAdyC"
   },
   "source": [
    "# Case study - zbiór `Boston House Dataset`"
   ]
  },
  {
   "cell_type": "code",
   "execution_count": 48,
   "metadata": {
    "ExecuteTime": {
     "end_time": "2023-06-03T12:50:50.857764Z",
     "start_time": "2023-06-03T12:50:50.829558Z"
    },
    "id": "MRoW_weHAdyF"
   },
   "outputs": [
    {
     "data": {
      "text/html": [
       "<div>\n",
       "<style scoped>\n",
       "    .dataframe tbody tr th:only-of-type {\n",
       "        vertical-align: middle;\n",
       "    }\n",
       "\n",
       "    .dataframe tbody tr th {\n",
       "        vertical-align: top;\n",
       "    }\n",
       "\n",
       "    .dataframe thead th {\n",
       "        text-align: right;\n",
       "    }\n",
       "</style>\n",
       "<table border=\"1\" class=\"dataframe\">\n",
       "  <thead>\n",
       "    <tr style=\"text-align: right;\">\n",
       "      <th></th>\n",
       "      <th>CRIM</th>\n",
       "      <th>ZN</th>\n",
       "      <th>INDUS</th>\n",
       "      <th>CHAS</th>\n",
       "      <th>NOX</th>\n",
       "      <th>RM</th>\n",
       "      <th>AGE</th>\n",
       "      <th>DIS</th>\n",
       "      <th>RAD</th>\n",
       "      <th>TAX</th>\n",
       "      <th>PTRATIO</th>\n",
       "      <th>B</th>\n",
       "      <th>LSTAT</th>\n",
       "      <th>MEDV</th>\n",
       "    </tr>\n",
       "  </thead>\n",
       "  <tbody>\n",
       "    <tr>\n",
       "      <th>0</th>\n",
       "      <td>0.00632</td>\n",
       "      <td>18.0</td>\n",
       "      <td>2.31</td>\n",
       "      <td>0</td>\n",
       "      <td>0.538</td>\n",
       "      <td>6.575</td>\n",
       "      <td>65.2</td>\n",
       "      <td>4.0900</td>\n",
       "      <td>1</td>\n",
       "      <td>296</td>\n",
       "      <td>15.3</td>\n",
       "      <td>396.90</td>\n",
       "      <td>4.98</td>\n",
       "      <td>24.0</td>\n",
       "    </tr>\n",
       "    <tr>\n",
       "      <th>1</th>\n",
       "      <td>0.02731</td>\n",
       "      <td>0.0</td>\n",
       "      <td>7.07</td>\n",
       "      <td>0</td>\n",
       "      <td>0.469</td>\n",
       "      <td>6.421</td>\n",
       "      <td>78.9</td>\n",
       "      <td>4.9671</td>\n",
       "      <td>2</td>\n",
       "      <td>242</td>\n",
       "      <td>17.8</td>\n",
       "      <td>396.90</td>\n",
       "      <td>9.14</td>\n",
       "      <td>21.6</td>\n",
       "    </tr>\n",
       "    <tr>\n",
       "      <th>2</th>\n",
       "      <td>0.02729</td>\n",
       "      <td>0.0</td>\n",
       "      <td>7.07</td>\n",
       "      <td>0</td>\n",
       "      <td>0.469</td>\n",
       "      <td>7.185</td>\n",
       "      <td>61.1</td>\n",
       "      <td>4.9671</td>\n",
       "      <td>2</td>\n",
       "      <td>242</td>\n",
       "      <td>17.8</td>\n",
       "      <td>392.83</td>\n",
       "      <td>4.03</td>\n",
       "      <td>34.7</td>\n",
       "    </tr>\n",
       "    <tr>\n",
       "      <th>3</th>\n",
       "      <td>0.03237</td>\n",
       "      <td>0.0</td>\n",
       "      <td>2.18</td>\n",
       "      <td>0</td>\n",
       "      <td>0.458</td>\n",
       "      <td>6.998</td>\n",
       "      <td>45.8</td>\n",
       "      <td>6.0622</td>\n",
       "      <td>3</td>\n",
       "      <td>222</td>\n",
       "      <td>18.7</td>\n",
       "      <td>394.63</td>\n",
       "      <td>2.94</td>\n",
       "      <td>33.4</td>\n",
       "    </tr>\n",
       "    <tr>\n",
       "      <th>4</th>\n",
       "      <td>0.06905</td>\n",
       "      <td>0.0</td>\n",
       "      <td>2.18</td>\n",
       "      <td>0</td>\n",
       "      <td>0.458</td>\n",
       "      <td>7.147</td>\n",
       "      <td>54.2</td>\n",
       "      <td>6.0622</td>\n",
       "      <td>3</td>\n",
       "      <td>222</td>\n",
       "      <td>18.7</td>\n",
       "      <td>396.90</td>\n",
       "      <td>5.33</td>\n",
       "      <td>36.2</td>\n",
       "    </tr>\n",
       "  </tbody>\n",
       "</table>\n",
       "</div>"
      ],
      "text/plain": [
       "      CRIM    ZN  INDUS  CHAS    NOX     RM   AGE     DIS  RAD  TAX  PTRATIO  \\\n",
       "0  0.00632  18.0   2.31     0  0.538  6.575  65.2  4.0900    1  296     15.3   \n",
       "1  0.02731   0.0   7.07     0  0.469  6.421  78.9  4.9671    2  242     17.8   \n",
       "2  0.02729   0.0   7.07     0  0.469  7.185  61.1  4.9671    2  242     17.8   \n",
       "3  0.03237   0.0   2.18     0  0.458  6.998  45.8  6.0622    3  222     18.7   \n",
       "4  0.06905   0.0   2.18     0  0.458  7.147  54.2  6.0622    3  222     18.7   \n",
       "\n",
       "        B  LSTAT  MEDV  \n",
       "0  396.90   4.98  24.0  \n",
       "1  396.90   9.14  21.6  \n",
       "2  392.83   4.03  34.7  \n",
       "3  394.63   2.94  33.4  \n",
       "4  396.90   5.33  36.2  "
      ]
     },
     "execution_count": 48,
     "metadata": {},
     "output_type": "execute_result"
    }
   ],
   "source": [
    "boston = pd.read_csv('../data/boston.csv')\n",
    "boston.head()"
   ]
  },
  {
   "cell_type": "markdown",
   "metadata": {
    "id": "EcMRcgZUAdyI"
   },
   "source": [
    "## Model prostej regresji liniowej\n",
    "1. Podziel dane na część treningową i na część testową w stosunku 7:3.\n",
    "\n",
    "\n",
    "2. Interesuje nas zależność ceny domu od średniej liczby pokoi w domu (zmienne `MEDV` i `RM`). Określ zmienną zależną i niezależną, a następnie:\n",
    "\n",
    "      a) Narysuj wykres rozproszenia tych zmiennych. \n",
    "      \n",
    "      b) Czy zmienne te są zależne? \n",
    "      \n",
    "      c) Oblicz dla nich współczynnik korelacji Pearsona. \n",
    "\n",
    "\n",
    "3. Wyznacz funkcję regresji wielkości ceny domu względem średniej liczby pokoi. Narysuj ją na wykresie rozproszenia.\n",
    "\n",
    "\n",
    "4. Zweryfikuj dopasowanie modelu:\n",
    "\n",
    "    a) Czy istnieje związek pomiędzy zmienną zależną a niezależną?\n",
    "    \n",
    "    b) Czy wyraz wolny jest istotny w modelu?\n",
    "    \n",
    "    c) Oblicz i zinterpretuj wartość współczynnika determinacji $R^2$.\n",
    "    \n",
    "    d) Sprawdź, czy spełnione jest założenie o rozkładzie normalnym reszt.\n",
    "    \n",
    "    e) Zweryfikuj dopasowanie modelu, sporządź wykresy diagnostyczne: wykres wartości przewidywanych względem prawdziwych, wykres residuów względem wartości dopasowanych.\n",
    "    \n",
    "    f) Wyznacz i porównaj jakość dopasowania i predykcji za pomocą różnych miar (np. MSE, MAE, $R^2$)."
   ]
  },
  {
   "cell_type": "code",
   "execution_count": 49,
   "metadata": {
    "ExecuteTime": {
     "end_time": "2023-06-03T12:50:50.866332Z",
     "start_time": "2023-06-03T12:50:50.861365Z"
    }
   },
   "outputs": [],
   "source": [
    "X, y = boston.iloc[:, boston.columns != 'MEDV'], boston['MEDV']"
   ]
  },
  {
   "cell_type": "code",
   "execution_count": 50,
   "metadata": {
    "ExecuteTime": {
     "end_time": "2023-06-03T12:50:50.882133Z",
     "start_time": "2023-06-03T12:50:50.871107Z"
    }
   },
   "outputs": [
    {
     "name": "stdout",
     "output_type": "stream",
     "text": [
      "0.6996047430830039 0.30039525691699603\n"
     ]
    }
   ],
   "source": [
    "X_train, X_test, y_train, y_test = train_test_split(X, y, test_size=0.3, random_state=123)\n",
    "\n",
    "print(X_train.shape[0] / X.shape[0], X_test.shape[0] / X.shape[0])"
   ]
  },
  {
   "cell_type": "code",
   "execution_count": 51,
   "metadata": {
    "ExecuteTime": {
     "end_time": "2023-06-03T12:50:50.916345Z",
     "start_time": "2023-06-03T12:50:50.886787Z"
    }
   },
   "outputs": [
    {
     "data": {
      "text/html": [
       "<div>\n",
       "<style scoped>\n",
       "    .dataframe tbody tr th:only-of-type {\n",
       "        vertical-align: middle;\n",
       "    }\n",
       "\n",
       "    .dataframe tbody tr th {\n",
       "        vertical-align: top;\n",
       "    }\n",
       "\n",
       "    .dataframe thead th {\n",
       "        text-align: right;\n",
       "    }\n",
       "</style>\n",
       "<table border=\"1\" class=\"dataframe\">\n",
       "  <thead>\n",
       "    <tr style=\"text-align: right;\">\n",
       "      <th></th>\n",
       "      <th>CRIM</th>\n",
       "      <th>ZN</th>\n",
       "      <th>INDUS</th>\n",
       "      <th>CHAS</th>\n",
       "      <th>NOX</th>\n",
       "      <th>RM</th>\n",
       "      <th>AGE</th>\n",
       "      <th>DIS</th>\n",
       "      <th>RAD</th>\n",
       "      <th>TAX</th>\n",
       "      <th>PTRATIO</th>\n",
       "      <th>B</th>\n",
       "      <th>LSTAT</th>\n",
       "    </tr>\n",
       "  </thead>\n",
       "  <tbody>\n",
       "    <tr>\n",
       "      <th>0</th>\n",
       "      <td>0.22188</td>\n",
       "      <td>20.0</td>\n",
       "      <td>6.96</td>\n",
       "      <td>1</td>\n",
       "      <td>0.464</td>\n",
       "      <td>7.691</td>\n",
       "      <td>51.8</td>\n",
       "      <td>4.3665</td>\n",
       "      <td>3</td>\n",
       "      <td>223</td>\n",
       "      <td>18.6</td>\n",
       "      <td>390.77</td>\n",
       "      <td>6.58</td>\n",
       "    </tr>\n",
       "    <tr>\n",
       "      <th>1</th>\n",
       "      <td>0.05360</td>\n",
       "      <td>21.0</td>\n",
       "      <td>5.64</td>\n",
       "      <td>0</td>\n",
       "      <td>0.439</td>\n",
       "      <td>6.511</td>\n",
       "      <td>21.1</td>\n",
       "      <td>6.8147</td>\n",
       "      <td>4</td>\n",
       "      <td>243</td>\n",
       "      <td>16.8</td>\n",
       "      <td>396.90</td>\n",
       "      <td>5.28</td>\n",
       "    </tr>\n",
       "    <tr>\n",
       "      <th>2</th>\n",
       "      <td>0.06888</td>\n",
       "      <td>0.0</td>\n",
       "      <td>2.46</td>\n",
       "      <td>0</td>\n",
       "      <td>0.488</td>\n",
       "      <td>6.144</td>\n",
       "      <td>62.2</td>\n",
       "      <td>2.5979</td>\n",
       "      <td>3</td>\n",
       "      <td>193</td>\n",
       "      <td>17.8</td>\n",
       "      <td>396.90</td>\n",
       "      <td>9.45</td>\n",
       "    </tr>\n",
       "    <tr>\n",
       "      <th>3</th>\n",
       "      <td>5.09017</td>\n",
       "      <td>0.0</td>\n",
       "      <td>18.10</td>\n",
       "      <td>0</td>\n",
       "      <td>0.713</td>\n",
       "      <td>6.297</td>\n",
       "      <td>91.8</td>\n",
       "      <td>2.3682</td>\n",
       "      <td>24</td>\n",
       "      <td>666</td>\n",
       "      <td>20.2</td>\n",
       "      <td>385.09</td>\n",
       "      <td>17.27</td>\n",
       "    </tr>\n",
       "    <tr>\n",
       "      <th>4</th>\n",
       "      <td>15.87440</td>\n",
       "      <td>0.0</td>\n",
       "      <td>18.10</td>\n",
       "      <td>0</td>\n",
       "      <td>0.671</td>\n",
       "      <td>6.545</td>\n",
       "      <td>99.1</td>\n",
       "      <td>1.5192</td>\n",
       "      <td>24</td>\n",
       "      <td>666</td>\n",
       "      <td>20.2</td>\n",
       "      <td>396.90</td>\n",
       "      <td>21.08</td>\n",
       "    </tr>\n",
       "    <tr>\n",
       "      <th>...</th>\n",
       "      <td>...</td>\n",
       "      <td>...</td>\n",
       "      <td>...</td>\n",
       "      <td>...</td>\n",
       "      <td>...</td>\n",
       "      <td>...</td>\n",
       "      <td>...</td>\n",
       "      <td>...</td>\n",
       "      <td>...</td>\n",
       "      <td>...</td>\n",
       "      <td>...</td>\n",
       "      <td>...</td>\n",
       "      <td>...</td>\n",
       "    </tr>\n",
       "    <tr>\n",
       "      <th>349</th>\n",
       "      <td>0.08187</td>\n",
       "      <td>0.0</td>\n",
       "      <td>2.89</td>\n",
       "      <td>0</td>\n",
       "      <td>0.445</td>\n",
       "      <td>7.820</td>\n",
       "      <td>36.9</td>\n",
       "      <td>3.4952</td>\n",
       "      <td>2</td>\n",
       "      <td>276</td>\n",
       "      <td>18.0</td>\n",
       "      <td>393.53</td>\n",
       "      <td>3.57</td>\n",
       "    </tr>\n",
       "    <tr>\n",
       "      <th>350</th>\n",
       "      <td>4.87141</td>\n",
       "      <td>0.0</td>\n",
       "      <td>18.10</td>\n",
       "      <td>0</td>\n",
       "      <td>0.614</td>\n",
       "      <td>6.484</td>\n",
       "      <td>93.6</td>\n",
       "      <td>2.3053</td>\n",
       "      <td>24</td>\n",
       "      <td>666</td>\n",
       "      <td>20.2</td>\n",
       "      <td>396.21</td>\n",
       "      <td>18.68</td>\n",
       "    </tr>\n",
       "    <tr>\n",
       "      <th>351</th>\n",
       "      <td>0.35114</td>\n",
       "      <td>0.0</td>\n",
       "      <td>7.38</td>\n",
       "      <td>0</td>\n",
       "      <td>0.493</td>\n",
       "      <td>6.041</td>\n",
       "      <td>49.9</td>\n",
       "      <td>4.7211</td>\n",
       "      <td>5</td>\n",
       "      <td>287</td>\n",
       "      <td>19.6</td>\n",
       "      <td>396.90</td>\n",
       "      <td>7.70</td>\n",
       "    </tr>\n",
       "    <tr>\n",
       "      <th>352</th>\n",
       "      <td>9.18702</td>\n",
       "      <td>0.0</td>\n",
       "      <td>18.10</td>\n",
       "      <td>0</td>\n",
       "      <td>0.700</td>\n",
       "      <td>5.536</td>\n",
       "      <td>100.0</td>\n",
       "      <td>1.5804</td>\n",
       "      <td>24</td>\n",
       "      <td>666</td>\n",
       "      <td>20.2</td>\n",
       "      <td>396.90</td>\n",
       "      <td>23.60</td>\n",
       "    </tr>\n",
       "    <tr>\n",
       "      <th>353</th>\n",
       "      <td>4.55587</td>\n",
       "      <td>0.0</td>\n",
       "      <td>18.10</td>\n",
       "      <td>0</td>\n",
       "      <td>0.718</td>\n",
       "      <td>3.561</td>\n",
       "      <td>87.9</td>\n",
       "      <td>1.6132</td>\n",
       "      <td>24</td>\n",
       "      <td>666</td>\n",
       "      <td>20.2</td>\n",
       "      <td>354.70</td>\n",
       "      <td>7.12</td>\n",
       "    </tr>\n",
       "  </tbody>\n",
       "</table>\n",
       "<p>354 rows × 13 columns</p>\n",
       "</div>"
      ],
      "text/plain": [
       "         CRIM    ZN  INDUS  CHAS    NOX     RM    AGE     DIS  RAD  TAX  \\\n",
       "0     0.22188  20.0   6.96     1  0.464  7.691   51.8  4.3665    3  223   \n",
       "1     0.05360  21.0   5.64     0  0.439  6.511   21.1  6.8147    4  243   \n",
       "2     0.06888   0.0   2.46     0  0.488  6.144   62.2  2.5979    3  193   \n",
       "3     5.09017   0.0  18.10     0  0.713  6.297   91.8  2.3682   24  666   \n",
       "4    15.87440   0.0  18.10     0  0.671  6.545   99.1  1.5192   24  666   \n",
       "..        ...   ...    ...   ...    ...    ...    ...     ...  ...  ...   \n",
       "349   0.08187   0.0   2.89     0  0.445  7.820   36.9  3.4952    2  276   \n",
       "350   4.87141   0.0  18.10     0  0.614  6.484   93.6  2.3053   24  666   \n",
       "351   0.35114   0.0   7.38     0  0.493  6.041   49.9  4.7211    5  287   \n",
       "352   9.18702   0.0  18.10     0  0.700  5.536  100.0  1.5804   24  666   \n",
       "353   4.55587   0.0  18.10     0  0.718  3.561   87.9  1.6132   24  666   \n",
       "\n",
       "     PTRATIO       B  LSTAT  \n",
       "0       18.6  390.77   6.58  \n",
       "1       16.8  396.90   5.28  \n",
       "2       17.8  396.90   9.45  \n",
       "3       20.2  385.09  17.27  \n",
       "4       20.2  396.90  21.08  \n",
       "..       ...     ...    ...  \n",
       "349     18.0  393.53   3.57  \n",
       "350     20.2  396.21  18.68  \n",
       "351     19.6  396.90   7.70  \n",
       "352     20.2  396.90  23.60  \n",
       "353     20.2  354.70   7.12  \n",
       "\n",
       "[354 rows x 13 columns]"
      ]
     },
     "execution_count": 51,
     "metadata": {},
     "output_type": "execute_result"
    }
   ],
   "source": [
    "X_train = X_train.reset_index(drop=True)\n",
    "X_test= X_test.reset_index(drop=True)\n",
    "\n",
    "y_train = y_train.reset_index(drop=True)\n",
    "y_test= y_test.reset_index(drop=True)\n",
    "\n",
    "X_train"
   ]
  },
  {
   "cell_type": "code",
   "execution_count": 65,
   "metadata": {
    "ExecuteTime": {
     "end_time": "2023-06-03T13:02:00.251576Z",
     "start_time": "2023-06-03T13:02:00.110116Z"
    }
   },
   "outputs": [
    {
     "data": {
      "text/plain": [
       "0.7442292975830678"
      ]
     },
     "execution_count": 65,
     "metadata": {},
     "output_type": "execute_result"
    },
    {
     "data": {
      "image/png": "[encoded data removed]",
      "text/plain": [
       "<Figure size 432x288 with 1 Axes>"
      ]
     },
     "metadata": {
      "needs_background": "light"
     },
     "output_type": "display_data"
    }
   ],
   "source": [
    "plt.scatter(X_train['RM'], y_train)\n",
    "\n",
    "np.corrcoef(X_train['RM'], y_train)[0, 1]\n",
    "# X_train['RM'].corr(y_train)  <-- UWAGA: daje dziwny wynik!! (bardzo mała korelacja)"
   ]
  },
  {
   "cell_type": "markdown",
   "metadata": {},
   "source": [
    "### Model prosty (jedna zmienna)"
   ]
  },
  {
   "cell_type": "code",
   "execution_count": 53,
   "metadata": {
    "ExecuteTime": {
     "end_time": "2023-06-03T12:50:51.070962Z",
     "start_time": "2023-06-03T12:50:51.047693Z"
    }
   },
   "outputs": [
    {
     "data": {
      "text/html": [
       "<table class=\"simpletable\">\n",
       "<caption>OLS Regression Results</caption>\n",
       "<tr>\n",
       "  <th>Dep. Variable:</th>          <td>MEDV</td>       <th>  R-squared:         </th> <td>   0.554</td>\n",
       "</tr>\n",
       "<tr>\n",
       "  <th>Model:</th>                   <td>OLS</td>       <th>  Adj. R-squared:    </th> <td>   0.553</td>\n",
       "</tr>\n",
       "<tr>\n",
       "  <th>Method:</th>             <td>Least Squares</td>  <th>  F-statistic:       </th> <td>   437.0</td>\n",
       "</tr>\n",
       "<tr>\n",
       "  <th>Date:</th>             <td>Sat, 03 Jun 2023</td> <th>  Prob (F-statistic):</th> <td>1.15e-63</td>\n",
       "</tr>\n",
       "<tr>\n",
       "  <th>Time:</th>                 <td>14:50:51</td>     <th>  Log-Likelihood:    </th> <td> -1147.4</td>\n",
       "</tr>\n",
       "<tr>\n",
       "  <th>No. Observations:</th>      <td>   354</td>      <th>  AIC:               </th> <td>   2299.</td>\n",
       "</tr>\n",
       "<tr>\n",
       "  <th>Df Residuals:</th>          <td>   352</td>      <th>  BIC:               </th> <td>   2307.</td>\n",
       "</tr>\n",
       "<tr>\n",
       "  <th>Df Model:</th>              <td>     1</td>      <th>                     </th>     <td> </td>   \n",
       "</tr>\n",
       "<tr>\n",
       "  <th>Covariance Type:</th>      <td>nonrobust</td>    <th>                     </th>     <td> </td>   \n",
       "</tr>\n",
       "</table>\n",
       "<table class=\"simpletable\">\n",
       "<tr>\n",
       "    <td></td>       <th>coef</th>     <th>std err</th>      <th>t</th>      <th>P>|t|</th>  <th>[0.025</th>    <th>0.975]</th>  \n",
       "</tr>\n",
       "<tr>\n",
       "  <th>const</th> <td>  -38.7419</td> <td>    2.960</td> <td>  -13.086</td> <td> 0.000</td> <td>  -44.564</td> <td>  -32.919</td>\n",
       "</tr>\n",
       "<tr>\n",
       "  <th>RM</th>    <td>    9.7406</td> <td>    0.466</td> <td>   20.905</td> <td> 0.000</td> <td>    8.824</td> <td>   10.657</td>\n",
       "</tr>\n",
       "</table>\n",
       "<table class=\"simpletable\">\n",
       "<tr>\n",
       "  <th>Omnibus:</th>       <td>109.596</td> <th>  Durbin-Watson:     </th> <td>   2.031</td> \n",
       "</tr>\n",
       "<tr>\n",
       "  <th>Prob(Omnibus):</th> <td> 0.000</td>  <th>  Jarque-Bera (JB):  </th> <td> 918.146</td> \n",
       "</tr>\n",
       "<tr>\n",
       "  <th>Skew:</th>          <td> 1.037</td>  <th>  Prob(JB):          </th> <td>4.24e-200</td>\n",
       "</tr>\n",
       "<tr>\n",
       "  <th>Kurtosis:</th>      <td>10.612</td>  <th>  Cond. No.          </th> <td>    58.4</td> \n",
       "</tr>\n",
       "</table><br/><br/>Notes:<br/>[1] Standard Errors assume that the covariance matrix of the errors is correctly specified."
      ],
      "text/plain": [
       "<class 'statsmodels.iolib.summary.Summary'>\n",
       "\"\"\"\n",
       "                            OLS Regression Results                            \n",
       "==============================================================================\n",
       "Dep. Variable:                   MEDV   R-squared:                       0.554\n",
       "Model:                            OLS   Adj. R-squared:                  0.553\n",
       "Method:                 Least Squares   F-statistic:                     437.0\n",
       "Date:                Sat, 03 Jun 2023   Prob (F-statistic):           1.15e-63\n",
       "Time:                        14:50:51   Log-Likelihood:                -1147.4\n",
       "No. Observations:                 354   AIC:                             2299.\n",
       "Df Residuals:                     352   BIC:                             2307.\n",
       "Df Model:                           1                                         \n",
       "Covariance Type:            nonrobust                                         \n",
       "==============================================================================\n",
       "                 coef    std err          t      P>|t|      [0.025      0.975]\n",
       "------------------------------------------------------------------------------\n",
       "const        -38.7419      2.960    -13.086      0.000     -44.564     -32.919\n",
       "RM             9.7406      0.466     20.905      0.000       8.824      10.657\n",
       "==============================================================================\n",
       "Omnibus:                      109.596   Durbin-Watson:                   2.031\n",
       "Prob(Omnibus):                  0.000   Jarque-Bera (JB):              918.146\n",
       "Skew:                           1.037   Prob(JB):                    4.24e-200\n",
       "Kurtosis:                      10.612   Cond. No.                         58.4\n",
       "==============================================================================\n",
       "\n",
       "Notes:\n",
       "[1] Standard Errors assume that the covariance matrix of the errors is correctly specified.\n",
       "\"\"\""
      ]
     },
     "execution_count": 53,
     "metadata": {},
     "output_type": "execute_result"
    }
   ],
   "source": [
    "RM_train = X_train['RM']\n",
    "RM_train = sm.add_constant(RM_train)\n",
    "\n",
    "model = sm.OLS(endog = y_train, exog = RM_train)\n",
    "fitted_model = model.fit()\n",
    "\n",
    "fitted_model.summary()"
   ]
  },
  {
   "cell_type": "code",
   "execution_count": 54,
   "metadata": {
    "ExecuteTime": {
     "end_time": "2023-06-03T12:50:51.186653Z",
     "start_time": "2023-06-03T12:50:51.073406Z"
    }
   },
   "outputs": [
    {
     "data": {
      "image/png": "[encoded data removed]",
      "text/plain": [
       "<Figure size 432x288 with 1 Axes>"
      ]
     },
     "metadata": {
      "needs_background": "light"
     },
     "output_type": "display_data"
    },
    {
     "name": "stdout",
     "output_type": "stream",
     "text": [
      "Współczynnik determinacji R2 (R-squared): 0.5538772473809862\n"
     ]
    }
   ],
   "source": [
    "plt.scatter(X_train['RM'], y_train)\n",
    "plt.plot(X_train['RM'], fitted_model.predict(RM_train), color='red')\n",
    "\n",
    "plt.show()\n",
    "\n",
    "print(\"Współczynnik determinacji R^2 (R-squared): {}\".format(fitted_model.rsquared))"
   ]
  },
  {
   "cell_type": "code",
   "execution_count": 66,
   "metadata": {
    "ExecuteTime": {
     "end_time": "2023-06-03T13:12:05.209786Z",
     "start_time": "2023-06-03T13:12:04.770267Z"
    }
   },
   "outputs": [
    {
     "data": {
      "image/png": "[encoded data removed]",
      "text/plain": [
       "<Figure size 432x288 with 1 Axes>"
      ]
     },
     "metadata": {
      "needs_background": "light"
     },
     "output_type": "display_data"
    },
    {
     "data": {
      "image/png": "[encoded data removed]",
      "text/plain": [
       "<Figure size 432x288 with 1 Axes>"
      ]
     },
     "metadata": {
      "needs_background": "light"
     },
     "output_type": "display_data"
    },
    {
     "data": {
      "image/png": "[encoded data removed]",
      "text/plain": [
       "<Figure size 432x288 with 1 Axes>"
      ]
     },
     "metadata": {
      "needs_background": "light"
     },
     "output_type": "display_data"
    }
   ],
   "source": [
    "Ylin = np.linspace(y_train.min(), y_train.max(), 100)\n",
    "plt.scatter(y_train, fitted_model.fittedvalues)\n",
    "plt.plot(Ylin, Ylin, color='red')\n",
    "plt.show()\n",
    "\n",
    "# (i, e_i)\n",
    "xrang = np.arange(1, len(fitted_model.resid) + 1)\n",
    "plt.scatter(xrang, fitted_model.resid)\n",
    "plt.plot(xrang, np.repeat(0, len(xrang)), color='red')\n",
    "plt.show()\n",
    "\n",
    "# (\\hat{y}_i, e_i)\n",
    "xrang = np.arange(fitted_model.fittedvalues.min(), fitted_model.fittedvalues.max(), 0.1)\n",
    "plt.scatter(fitted_model.fittedvalues, fitted_model.resid)\n",
    "plt.plot(xrang, np.repeat(0, len(xrang)), color='red')\n",
    "plt.show()"
   ]
  },
  {
   "cell_type": "code",
   "execution_count": 60,
   "metadata": {
    "ExecuteTime": {
     "end_time": "2023-06-03T12:53:35.072132Z",
     "start_time": "2023-06-03T12:53:34.950096Z"
    }
   },
   "outputs": [
    {
     "data": {
      "image/png": "[encoded data removed]",
      "text/plain": [
       "<Figure size 432x180 with 1 Axes>"
      ]
     },
     "metadata": {
      "needs_background": "light"
     },
     "output_type": "display_data"
    }
   ],
   "source": [
    "import scipy as sp\n",
    "fig, ax = plt.subplots(figsize=(6, 2.5))\n",
    "sp.stats.probplot(fitted_model.resid, plot=ax, dist ='norm', fit=True)\n",
    "plt.show()"
   ]
  },
  {
   "cell_type": "code",
   "execution_count": 130,
   "metadata": {
    "ExecuteTime": {
     "end_time": "2023-06-03T14:12:40.168380Z",
     "start_time": "2023-06-03T14:12:40.153252Z"
    }
   },
   "outputs": [
    {
     "name": "stdout",
     "output_type": "stream",
     "text": [
      "R^2 0.5538772473809861\n",
      "MSE 38.27152901182499\n",
      "MAE 4.148568558220874\n",
      "mAE 2.673881525341125\n"
     ]
    }
   ],
   "source": [
    "# dopasowanie na zbiorze treningowym\n",
    "lm = LinearRegression()\n",
    "lm.fit(X=np.array(X_train['RM']).reshape(-1, 1), y=y_train)\n",
    "\n",
    "print('R^2', lm.score(np.array(X_train['RM']).reshape(-1, 1), y_train))\n",
    "\n",
    "print('MSE', metrics.mean_squared_error(y_train, lm.predict(np.array(X_train['RM']).reshape(-1, 1))))\n",
    "print('MAE', metrics.mean_absolute_error(y_train, lm.predict(np.array(X_train['RM']).reshape(-1, 1))))\n",
    "print('mAE', metrics.median_absolute_error(y_train, lm.predict(np.array(X_train['RM']).reshape(-1, 1))))"
   ]
  },
  {
   "cell_type": "code",
   "execution_count": 131,
   "metadata": {
    "ExecuteTime": {
     "end_time": "2023-06-03T14:12:41.525232Z",
     "start_time": "2023-06-03T14:12:41.457715Z"
    }
   },
   "outputs": [
    {
     "name": "stdout",
     "output_type": "stream",
     "text": [
      "R^2 0.5473867320121569\n",
      "MSE 38.93306290453348\n",
      "MAE 4.155936340683023\n",
      "mAE 2.5142007594847198\n"
     ]
    }
   ],
   "source": [
    "# cross-walidacja\n",
    "\n",
    "print('R^2', cross_val_score(lm, RM_train, y_train, cv = 3).mean())\n",
    "\n",
    "print('MSE', -cross_val_score(lm, RM_train, y_train, cv = 3, scoring ='neg_mean_squared_error').mean())\n",
    "print('MAE', -cross_val_score(lm, RM_train, y_train, cv = 3, scoring ='neg_mean_absolute_error').mean())\n",
    "print('mAE', -cross_val_score(lm, RM_train, y_train, cv = 3, scoring ='neg_median_absolute_error').mean())"
   ]
  },
  {
   "cell_type": "code",
   "execution_count": 132,
   "metadata": {
    "ExecuteTime": {
     "end_time": "2023-06-03T14:12:42.877150Z",
     "start_time": "2023-06-03T14:12:42.863329Z"
    }
   },
   "outputs": [
    {
     "name": "stdout",
     "output_type": "stream",
     "text": [
      "MSE 56.69163733537954\n",
      "MAE 5.128433836316634\n",
      "mAE 3.2955962461082073\n"
     ]
    }
   ],
   "source": [
    "# predykcja na zbiorze testowym\n",
    "\n",
    "print('MSE', metrics.mean_squared_error(y_test, lm.predict(np.array(X_test['RM']).reshape(-1, 1))))\n",
    "print('MAE', metrics.mean_absolute_error(y_test, lm.predict(np.array(X_test['RM']).reshape(-1, 1))))\n",
    "print('mAE', metrics.median_absolute_error(y_test, lm.predict(np.array(X_test['RM']).reshape(-1, 1))))"
   ]
  },
  {
   "cell_type": "markdown",
   "metadata": {
    "id": "J9HVsy_tAdyJ"
   },
   "source": [
    "## Model wielorakiej regresji liniowej\n",
    "\n",
    "5. Wyznacz model liniowy najlepiej opisujący zależność wielkości ceny domu od pozostałych dostępnych zmiennych:\n",
    "\n",
    "    a) Czy istnieje związek pomiędzy zmienną zależną, a którąkolwiek ze zmiennych niezależnych?\n",
    "    \n",
    "    b) Dla których zmiennych niezależnych Xj, j=1,...,10 można odrzucić hipotezę zerową  H0: βj = 0?\n",
    "    \n",
    "    c) Biorąc pod uwagę odpowiedź na poprzednie pytanie, wyznacz mniejszy model w oparciu tylko o zmienne, które faktycznie mają istotny wpływ na wielkość sprzedaży.\n",
    "    \n",
    "    d) Porównaj dopasowanie obu modeli (większego i mniejszego), sporządź wykresy diagnostyczne.\n",
    "    \n",
    "    e) Wyznacz i porównaj jakość dopasowania i predykcji dla modelu mniejszego i większego."
   ]
  },
  {
   "cell_type": "markdown",
   "metadata": {},
   "source": [
    "### Model pełny"
   ]
  },
  {
   "cell_type": "code",
   "execution_count": 96,
   "metadata": {
    "ExecuteTime": {
     "end_time": "2023-06-03T13:39:25.216426Z",
     "start_time": "2023-06-03T13:39:25.180127Z"
    }
   },
   "outputs": [
    {
     "data": {
      "text/html": [
       "<table class=\"simpletable\">\n",
       "<caption>OLS Regression Results</caption>\n",
       "<tr>\n",
       "  <th>Dep. Variable:</th>          <td>MEDV</td>       <th>  R-squared:         </th> <td>   0.765</td>\n",
       "</tr>\n",
       "<tr>\n",
       "  <th>Model:</th>                   <td>OLS</td>       <th>  Adj. R-squared:    </th> <td>   0.756</td>\n",
       "</tr>\n",
       "<tr>\n",
       "  <th>Method:</th>             <td>Least Squares</td>  <th>  F-statistic:       </th> <td>   85.00</td>\n",
       "</tr>\n",
       "<tr>\n",
       "  <th>Date:</th>             <td>Sat, 03 Jun 2023</td> <th>  Prob (F-statistic):</th> <td>2.44e-98</td>\n",
       "</tr>\n",
       "<tr>\n",
       "  <th>Time:</th>                 <td>15:39:25</td>     <th>  Log-Likelihood:    </th> <td> -1034.2</td>\n",
       "</tr>\n",
       "<tr>\n",
       "  <th>No. Observations:</th>      <td>   354</td>      <th>  AIC:               </th> <td>   2096.</td>\n",
       "</tr>\n",
       "<tr>\n",
       "  <th>Df Residuals:</th>          <td>   340</td>      <th>  BIC:               </th> <td>   2151.</td>\n",
       "</tr>\n",
       "<tr>\n",
       "  <th>Df Model:</th>              <td>    13</td>      <th>                     </th>     <td> </td>   \n",
       "</tr>\n",
       "<tr>\n",
       "  <th>Covariance Type:</th>      <td>nonrobust</td>    <th>                     </th>     <td> </td>   \n",
       "</tr>\n",
       "</table>\n",
       "<table class=\"simpletable\">\n",
       "<tr>\n",
       "     <td></td>        <th>coef</th>     <th>std err</th>      <th>t</th>      <th>P>|t|</th>  <th>[0.025</th>    <th>0.975]</th>  \n",
       "</tr>\n",
       "<tr>\n",
       "  <th>const</th>   <td>   28.9813</td> <td>    6.043</td> <td>    4.796</td> <td> 0.000</td> <td>   17.094</td> <td>   40.868</td>\n",
       "</tr>\n",
       "<tr>\n",
       "  <th>CRIM</th>    <td>   -0.1010</td> <td>    0.035</td> <td>   -2.909</td> <td> 0.004</td> <td>   -0.169</td> <td>   -0.033</td>\n",
       "</tr>\n",
       "<tr>\n",
       "  <th>ZN</th>      <td>    0.0400</td> <td>    0.016</td> <td>    2.551</td> <td> 0.011</td> <td>    0.009</td> <td>    0.071</td>\n",
       "</tr>\n",
       "<tr>\n",
       "  <th>INDUS</th>   <td>    0.0754</td> <td>    0.072</td> <td>    1.045</td> <td> 0.297</td> <td>   -0.067</td> <td>    0.217</td>\n",
       "</tr>\n",
       "<tr>\n",
       "  <th>CHAS</th>    <td>    0.2646</td> <td>    1.063</td> <td>    0.249</td> <td> 0.804</td> <td>   -1.826</td> <td>    2.355</td>\n",
       "</tr>\n",
       "<tr>\n",
       "  <th>NOX</th>     <td>  -14.3409</td> <td>    4.595</td> <td>   -3.121</td> <td> 0.002</td> <td>  -23.380</td> <td>   -5.302</td>\n",
       "</tr>\n",
       "<tr>\n",
       "  <th>RM</th>      <td>    4.8332</td> <td>    0.485</td> <td>    9.971</td> <td> 0.000</td> <td>    3.880</td> <td>    5.787</td>\n",
       "</tr>\n",
       "<tr>\n",
       "  <th>AGE</th>     <td>   -0.0074</td> <td>    0.015</td> <td>   -0.488</td> <td> 0.626</td> <td>   -0.037</td> <td>    0.023</td>\n",
       "</tr>\n",
       "<tr>\n",
       "  <th>DIS</th>     <td>   -1.3267</td> <td>    0.226</td> <td>   -5.879</td> <td> 0.000</td> <td>   -1.771</td> <td>   -0.883</td>\n",
       "</tr>\n",
       "<tr>\n",
       "  <th>RAD</th>     <td>    0.2735</td> <td>    0.075</td> <td>    3.660</td> <td> 0.000</td> <td>    0.126</td> <td>    0.420</td>\n",
       "</tr>\n",
       "<tr>\n",
       "  <th>TAX</th>     <td>   -0.0130</td> <td>    0.004</td> <td>   -3.059</td> <td> 0.002</td> <td>   -0.021</td> <td>   -0.005</td>\n",
       "</tr>\n",
       "<tr>\n",
       "  <th>PTRATIO</th> <td>   -0.9566</td> <td>    0.150</td> <td>   -6.372</td> <td> 0.000</td> <td>   -1.252</td> <td>   -0.661</td>\n",
       "</tr>\n",
       "<tr>\n",
       "  <th>B</th>       <td>    0.0064</td> <td>    0.003</td> <td>    1.965</td> <td> 0.050</td> <td>-7.31e-06</td> <td>    0.013</td>\n",
       "</tr>\n",
       "<tr>\n",
       "  <th>LSTAT</th>   <td>   -0.4866</td> <td>    0.061</td> <td>   -8.032</td> <td> 0.000</td> <td>   -0.606</td> <td>   -0.367</td>\n",
       "</tr>\n",
       "</table>\n",
       "<table class=\"simpletable\">\n",
       "<tr>\n",
       "  <th>Omnibus:</th>       <td>164.467</td> <th>  Durbin-Watson:     </th> <td>   2.149</td> \n",
       "</tr>\n",
       "<tr>\n",
       "  <th>Prob(Omnibus):</th> <td> 0.000</td>  <th>  Jarque-Bera (JB):  </th> <td>1012.790</td> \n",
       "</tr>\n",
       "<tr>\n",
       "  <th>Skew:</th>          <td> 1.865</td>  <th>  Prob(JB):          </th> <td>1.19e-220</td>\n",
       "</tr>\n",
       "<tr>\n",
       "  <th>Kurtosis:</th>      <td>10.399</td>  <th>  Cond. No.          </th> <td>1.55e+04</td> \n",
       "</tr>\n",
       "</table><br/><br/>Notes:<br/>[1] Standard Errors assume that the covariance matrix of the errors is correctly specified.<br/>[2] The condition number is large, 1.55e+04. This might indicate that there are<br/>strong multicollinearity or other numerical problems."
      ],
      "text/plain": [
       "<class 'statsmodels.iolib.summary.Summary'>\n",
       "\"\"\"\n",
       "                            OLS Regression Results                            \n",
       "==============================================================================\n",
       "Dep. Variable:                   MEDV   R-squared:                       0.765\n",
       "Model:                            OLS   Adj. R-squared:                  0.756\n",
       "Method:                 Least Squares   F-statistic:                     85.00\n",
       "Date:                Sat, 03 Jun 2023   Prob (F-statistic):           2.44e-98\n",
       "Time:                        15:39:25   Log-Likelihood:                -1034.2\n",
       "No. Observations:                 354   AIC:                             2096.\n",
       "Df Residuals:                     340   BIC:                             2151.\n",
       "Df Model:                          13                                         \n",
       "Covariance Type:            nonrobust                                         \n",
       "==============================================================================\n",
       "                 coef    std err          t      P>|t|      [0.025      0.975]\n",
       "------------------------------------------------------------------------------\n",
       "const         28.9813      6.043      4.796      0.000      17.094      40.868\n",
       "CRIM          -0.1010      0.035     -2.909      0.004      -0.169      -0.033\n",
       "ZN             0.0400      0.016      2.551      0.011       0.009       0.071\n",
       "INDUS          0.0754      0.072      1.045      0.297      -0.067       0.217\n",
       "CHAS           0.2646      1.063      0.249      0.804      -1.826       2.355\n",
       "NOX          -14.3409      4.595     -3.121      0.002     -23.380      -5.302\n",
       "RM             4.8332      0.485      9.971      0.000       3.880       5.787\n",
       "AGE           -0.0074      0.015     -0.488      0.626      -0.037       0.023\n",
       "DIS           -1.3267      0.226     -5.879      0.000      -1.771      -0.883\n",
       "RAD            0.2735      0.075      3.660      0.000       0.126       0.420\n",
       "TAX           -0.0130      0.004     -3.059      0.002      -0.021      -0.005\n",
       "PTRATIO       -0.9566      0.150     -6.372      0.000      -1.252      -0.661\n",
       "B              0.0064      0.003      1.965      0.050   -7.31e-06       0.013\n",
       "LSTAT         -0.4866      0.061     -8.032      0.000      -0.606      -0.367\n",
       "==============================================================================\n",
       "Omnibus:                      164.467   Durbin-Watson:                   2.149\n",
       "Prob(Omnibus):                  0.000   Jarque-Bera (JB):             1012.790\n",
       "Skew:                           1.865   Prob(JB):                    1.19e-220\n",
       "Kurtosis:                      10.399   Cond. No.                     1.55e+04\n",
       "==============================================================================\n",
       "\n",
       "Notes:\n",
       "[1] Standard Errors assume that the covariance matrix of the errors is correctly specified.\n",
       "[2] The condition number is large, 1.55e+04. This might indicate that there are\n",
       "strong multicollinearity or other numerical problems.\n",
       "\"\"\""
      ]
     },
     "execution_count": 96,
     "metadata": {},
     "output_type": "execute_result"
    }
   ],
   "source": [
    "train2 = sm.add_constant(X_train)\n",
    "\n",
    "model2 = sm.OLS(endog = y_train, exog = train2)\n",
    "fitted_model2 = model2.fit()\n",
    "fitted_model2.summary()"
   ]
  },
  {
   "cell_type": "code",
   "execution_count": 122,
   "metadata": {
    "ExecuteTime": {
     "end_time": "2023-06-03T14:04:28.266032Z",
     "start_time": "2023-06-03T14:04:27.736899Z"
    }
   },
   "outputs": [
    {
     "data": {
      "image/png": "[encoded data removed]",
      "text/plain": [
       "<Figure size 432x288 with 1 Axes>"
      ]
     },
     "metadata": {
      "needs_background": "light"
     },
     "output_type": "display_data"
    },
    {
     "data": {
      "image/png": "[encoded data removed]",
      "text/plain": [
       "<Figure size 432x288 with 1 Axes>"
      ]
     },
     "metadata": {
      "needs_background": "light"
     },
     "output_type": "display_data"
    },
    {
     "data": {
      "image/png": "[encoded data removed]",
      "text/plain": [
       "<Figure size 432x288 with 1 Axes>"
      ]
     },
     "metadata": {
      "needs_background": "light"
     },
     "output_type": "display_data"
    },
    {
     "data": {
      "image/png": "[encoded data removed]",
      "text/plain": [
       "<Figure size 432x180 with 1 Axes>"
      ]
     },
     "metadata": {
      "needs_background": "light"
     },
     "output_type": "display_data"
    }
   ],
   "source": [
    "Ylin = np.linspace(y_train.min(), y_train.max(), 100)\n",
    "plt.scatter(y_train, fitted_model2.fittedvalues)\n",
    "plt.plot(Ylin, Ylin, color='red')\n",
    "plt.show()\n",
    "\n",
    "# (i, e_i)\n",
    "xrang = np.arange(1, len(fitted_model2.resid) + 1)\n",
    "plt.scatter(xrang, fitted_model2.resid)\n",
    "plt.plot(xrang, np.repeat(0, len(xrang)), color='red')\n",
    "plt.show()\n",
    "\n",
    "# (\\hat{y}_i, e_i)\n",
    "xrang = np.arange(fitted_model2.fittedvalues.min(), fitted_model2.fittedvalues.max(), 0.1)\n",
    "plt.scatter(fitted_model2.fittedvalues, fitted_model2.resid)\n",
    "plt.plot(xrang, np.repeat(0, len(xrang)), color='red')\n",
    "plt.show()\n",
    "\n",
    "fig, ax = plt.subplots(figsize=(6, 2.5))\n",
    "sp.stats.probplot(fitted_model2.resid, plot=ax, dist ='norm', fit=True)\n",
    "plt.show()"
   ]
  },
  {
   "cell_type": "code",
   "execution_count": 128,
   "metadata": {
    "ExecuteTime": {
     "end_time": "2023-06-03T14:10:04.522822Z",
     "start_time": "2023-06-03T14:10:04.497491Z"
    }
   },
   "outputs": [
    {
     "name": "stdout",
     "output_type": "stream",
     "text": [
      "R^2 0.7647156501433012\n",
      "MSE 20.184336639873152\n",
      "MAE 3.1219958710301183\n",
      "mAE 2.3178984714778785\n"
     ]
    }
   ],
   "source": [
    "# dopasowanie na zbiorze treningowym\n",
    "lm2 = LinearRegression()\n",
    "lm2.fit(X=X_train, y=y_train)\n",
    "\n",
    "print('R^2', lm2.score(X_train, y_train))\n",
    "\n",
    "print('MSE', metrics.mean_squared_error(y_train, lm2.predict(X_train)))\n",
    "print('MAE', metrics.mean_absolute_error(y_train, lm2.predict(X_train)))\n",
    "print('mAE', metrics.median_absolute_error(y_train, lm2.predict(X_train)))"
   ]
  },
  {
   "cell_type": "code",
   "execution_count": 133,
   "metadata": {
    "ExecuteTime": {
     "end_time": "2023-06-03T14:13:05.537389Z",
     "start_time": "2023-06-03T14:13:05.522231Z"
    }
   },
   "outputs": [
    {
     "name": "stdout",
     "output_type": "stream",
     "text": [
      "MSE 28.405854810508163\n",
      "MAE 3.6913626771162664\n",
      "mAE 2.7094922194474282\n"
     ]
    }
   ],
   "source": [
    "# predykcja na zbiorze testowym\n",
    "\n",
    "print('MSE', metrics.mean_squared_error(y_test, lm2.predict(X_test)))\n",
    "print('MAE', metrics.mean_absolute_error(y_test, lm2.predict(X_test)))\n",
    "print('mAE', metrics.median_absolute_error(y_test, lm2.predict(X_test)))"
   ]
  },
  {
   "cell_type": "markdown",
   "metadata": {},
   "source": [
    "### Model zredukowany"
   ]
  },
  {
   "cell_type": "code",
   "execution_count": 121,
   "metadata": {
    "ExecuteTime": {
     "end_time": "2023-06-03T14:01:55.629106Z",
     "start_time": "2023-06-03T14:01:55.597728Z"
    }
   },
   "outputs": [
    {
     "data": {
      "text/html": [
       "<table class=\"simpletable\">\n",
       "<caption>OLS Regression Results</caption>\n",
       "<tr>\n",
       "  <th>Dep. Variable:</th>          <td>MEDV</td>       <th>  R-squared:         </th> <td>   0.761</td> \n",
       "</tr>\n",
       "<tr>\n",
       "  <th>Model:</th>                   <td>OLS</td>       <th>  Adj. R-squared:    </th> <td>   0.755</td> \n",
       "</tr>\n",
       "<tr>\n",
       "  <th>Method:</th>             <td>Least Squares</td>  <th>  F-statistic:       </th> <td>   121.8</td> \n",
       "</tr>\n",
       "<tr>\n",
       "  <th>Date:</th>             <td>Sat, 03 Jun 2023</td> <th>  Prob (F-statistic):</th> <td>2.47e-101</td>\n",
       "</tr>\n",
       "<tr>\n",
       "  <th>Time:</th>                 <td>16:01:55</td>     <th>  Log-Likelihood:    </th> <td> -1036.8</td> \n",
       "</tr>\n",
       "<tr>\n",
       "  <th>No. Observations:</th>      <td>   354</td>      <th>  AIC:               </th> <td>   2094.</td> \n",
       "</tr>\n",
       "<tr>\n",
       "  <th>Df Residuals:</th>          <td>   344</td>      <th>  BIC:               </th> <td>   2132.</td> \n",
       "</tr>\n",
       "<tr>\n",
       "  <th>Df Model:</th>              <td>     9</td>      <th>                     </th>     <td> </td>    \n",
       "</tr>\n",
       "<tr>\n",
       "  <th>Covariance Type:</th>      <td>nonrobust</td>    <th>                     </th>     <td> </td>    \n",
       "</tr>\n",
       "</table>\n",
       "<table class=\"simpletable\">\n",
       "<tr>\n",
       "     <td></td>        <th>coef</th>     <th>std err</th>      <th>t</th>      <th>P>|t|</th>  <th>[0.025</th>    <th>0.975]</th>  \n",
       "</tr>\n",
       "<tr>\n",
       "  <th>const</th>   <td>   32.2530</td> <td>    5.718</td> <td>    5.640</td> <td> 0.000</td> <td>   21.006</td> <td>   43.500</td>\n",
       "</tr>\n",
       "<tr>\n",
       "  <th>CRIM</th>    <td>   -0.1043</td> <td>    0.035</td> <td>   -3.008</td> <td> 0.003</td> <td>   -0.173</td> <td>   -0.036</td>\n",
       "</tr>\n",
       "<tr>\n",
       "  <th>ZN</th>      <td>    0.0394</td> <td>    0.016</td> <td>    2.537</td> <td> 0.012</td> <td>    0.009</td> <td>    0.070</td>\n",
       "</tr>\n",
       "<tr>\n",
       "  <th>NOX</th>     <td>  -13.9652</td> <td>    4.260</td> <td>   -3.278</td> <td> 0.001</td> <td>  -22.344</td> <td>   -5.586</td>\n",
       "</tr>\n",
       "<tr>\n",
       "  <th>RM</th>      <td>    4.6506</td> <td>    0.469</td> <td>    9.918</td> <td> 0.000</td> <td>    3.728</td> <td>    5.573</td>\n",
       "</tr>\n",
       "<tr>\n",
       "  <th>DIS</th>     <td>   -1.3625</td> <td>    0.213</td> <td>   -6.408</td> <td> 0.000</td> <td>   -1.781</td> <td>   -0.944</td>\n",
       "</tr>\n",
       "<tr>\n",
       "  <th>RAD</th>     <td>    0.2353</td> <td>    0.070</td> <td>    3.368</td> <td> 0.001</td> <td>    0.098</td> <td>    0.373</td>\n",
       "</tr>\n",
       "<tr>\n",
       "  <th>TAX</th>     <td>   -0.0113</td> <td>    0.004</td> <td>   -3.058</td> <td> 0.002</td> <td>   -0.019</td> <td>   -0.004</td>\n",
       "</tr>\n",
       "<tr>\n",
       "  <th>PTRATIO</th> <td>   -0.9310</td> <td>    0.148</td> <td>   -6.286</td> <td> 0.000</td> <td>   -1.222</td> <td>   -0.640</td>\n",
       "</tr>\n",
       "<tr>\n",
       "  <th>LSTAT</th>   <td>   -0.5126</td> <td>    0.056</td> <td>   -9.216</td> <td> 0.000</td> <td>   -0.622</td> <td>   -0.403</td>\n",
       "</tr>\n",
       "</table>\n",
       "<table class=\"simpletable\">\n",
       "<tr>\n",
       "  <th>Omnibus:</th>       <td>157.411</td> <th>  Durbin-Watson:     </th> <td>   2.156</td> \n",
       "</tr>\n",
       "<tr>\n",
       "  <th>Prob(Omnibus):</th> <td> 0.000</td>  <th>  Jarque-Bera (JB):  </th> <td> 912.527</td> \n",
       "</tr>\n",
       "<tr>\n",
       "  <th>Skew:</th>          <td> 1.791</td>  <th>  Prob(JB):          </th> <td>7.03e-199</td>\n",
       "</tr>\n",
       "<tr>\n",
       "  <th>Kurtosis:</th>      <td>10.002</td>  <th>  Cond. No.          </th> <td>1.14e+04</td> \n",
       "</tr>\n",
       "</table><br/><br/>Notes:<br/>[1] Standard Errors assume that the covariance matrix of the errors is correctly specified.<br/>[2] The condition number is large, 1.14e+04. This might indicate that there are<br/>strong multicollinearity or other numerical problems."
      ],
      "text/plain": [
       "<class 'statsmodels.iolib.summary.Summary'>\n",
       "\"\"\"\n",
       "                            OLS Regression Results                            \n",
       "==============================================================================\n",
       "Dep. Variable:                   MEDV   R-squared:                       0.761\n",
       "Model:                            OLS   Adj. R-squared:                  0.755\n",
       "Method:                 Least Squares   F-statistic:                     121.8\n",
       "Date:                Sat, 03 Jun 2023   Prob (F-statistic):          2.47e-101\n",
       "Time:                        16:01:55   Log-Likelihood:                -1036.8\n",
       "No. Observations:                 354   AIC:                             2094.\n",
       "Df Residuals:                     344   BIC:                             2132.\n",
       "Df Model:                           9                                         \n",
       "Covariance Type:            nonrobust                                         \n",
       "==============================================================================\n",
       "                 coef    std err          t      P>|t|      [0.025      0.975]\n",
       "------------------------------------------------------------------------------\n",
       "const         32.2530      5.718      5.640      0.000      21.006      43.500\n",
       "CRIM          -0.1043      0.035     -3.008      0.003      -0.173      -0.036\n",
       "ZN             0.0394      0.016      2.537      0.012       0.009       0.070\n",
       "NOX          -13.9652      4.260     -3.278      0.001     -22.344      -5.586\n",
       "RM             4.6506      0.469      9.918      0.000       3.728       5.573\n",
       "DIS           -1.3625      0.213     -6.408      0.000      -1.781      -0.944\n",
       "RAD            0.2353      0.070      3.368      0.001       0.098       0.373\n",
       "TAX           -0.0113      0.004     -3.058      0.002      -0.019      -0.004\n",
       "PTRATIO       -0.9310      0.148     -6.286      0.000      -1.222      -0.640\n",
       "LSTAT         -0.5126      0.056     -9.216      0.000      -0.622      -0.403\n",
       "==============================================================================\n",
       "Omnibus:                      157.411   Durbin-Watson:                   2.156\n",
       "Prob(Omnibus):                  0.000   Jarque-Bera (JB):              912.527\n",
       "Skew:                           1.791   Prob(JB):                    7.03e-199\n",
       "Kurtosis:                      10.002   Cond. No.                     1.14e+04\n",
       "==============================================================================\n",
       "\n",
       "Notes:\n",
       "[1] Standard Errors assume that the covariance matrix of the errors is correctly specified.\n",
       "[2] The condition number is large, 1.14e+04. This might indicate that there are\n",
       "strong multicollinearity or other numerical problems.\n",
       "\"\"\""
      ]
     },
     "execution_count": 121,
     "metadata": {},
     "output_type": "execute_result"
    }
   ],
   "source": [
    "subset_features = np.array(model2.exog_names)[fitted_model2.pvalues < 0.05][1:]\n",
    "\n",
    "fitted_red = sm.OLS(endog = y_train, exog = train2[subset_features])\n",
    "fitted_model_red = model_red.fit()\n",
    "fitted_model_red.summary()"
   ]
  },
  {
   "cell_type": "code",
   "execution_count": 124,
   "metadata": {
    "ExecuteTime": {
     "end_time": "2023-06-03T14:06:17.933018Z",
     "start_time": "2023-06-03T14:06:17.459806Z"
    }
   },
   "outputs": [
    {
     "data": {
      "image/png": "[encoded data removed]",
      "text/plain": [
       "<Figure size 432x288 with 1 Axes>"
      ]
     },
     "metadata": {
      "needs_background": "light"
     },
     "output_type": "display_data"
    },
    {
     "data": {
      "image/png": "[encoded data removed]",
      "text/plain": [
       "<Figure size 432x288 with 1 Axes>"
      ]
     },
     "metadata": {
      "needs_background": "light"
     },
     "output_type": "display_data"
    },
    {
     "data": {
      "image/png": "[encoded data removed]",
      "text/plain": [
       "<Figure size 432x288 with 1 Axes>"
      ]
     },
     "metadata": {
      "needs_background": "light"
     },
     "output_type": "display_data"
    },
    {
     "data": {
      "image/png": "[encoded data removed]",
      "text/plain": [
       "<Figure size 432x180 with 1 Axes>"
      ]
     },
     "metadata": {
      "needs_background": "light"
     },
     "output_type": "display_data"
    }
   ],
   "source": [
    "Ylin = np.linspace(y_train.min(), y_train.max(), 100)\n",
    "plt.scatter(y_train, fitted_model_red.fittedvalues)\n",
    "plt.plot(Ylin, Ylin, color='red')\n",
    "plt.show()\n",
    "\n",
    "# (i, e_i)\n",
    "xrang = np.arange(1, len(fitted_model_red.resid) + 1)\n",
    "plt.scatter(xrang, fitted_model_red.resid)\n",
    "plt.plot(xrang, np.repeat(0, len(xrang)), color='red')\n",
    "plt.show()\n",
    "\n",
    "# (\\hat{y}_i, e_i)\n",
    "xrang = np.arange(fitted_model_red.fittedvalues.min(), fitted_model_red.fittedvalues.max(), 0.1)\n",
    "plt.scatter(fitted_model_red.fittedvalues, fitted_model_red.resid)\n",
    "plt.plot(xrang, np.repeat(0, len(xrang)), color='red')\n",
    "plt.show()\n",
    "\n",
    "fig, ax = plt.subplots(figsize=(6, 2.5))\n",
    "sp.stats.probplot(fitted_model_red.resid, plot=ax, dist ='norm', fit=True)\n",
    "plt.show()"
   ]
  },
  {
   "cell_type": "code",
   "execution_count": 136,
   "metadata": {
    "ExecuteTime": {
     "end_time": "2023-06-03T14:16:55.339227Z",
     "start_time": "2023-06-03T14:16:55.308258Z"
    }
   },
   "outputs": [
    {
     "name": "stdout",
     "output_type": "stream",
     "text": [
      "R^2 0.7611884565947701\n",
      "MSE 20.48692396461831\n",
      "MAE 3.1751658828638867\n",
      "mAE 2.32548032356973\n"
     ]
    }
   ],
   "source": [
    "# dopasowanie na zbiorze treningowym\n",
    "lm_red = LinearRegression()\n",
    "lm_red.fit(X=X_train[subset_features], y=y_train)\n",
    "\n",
    "print('R^2', lm_red.score(X_train[subset_features], y_train))\n",
    "\n",
    "print('MSE', metrics.mean_squared_error(y_train, lm_red.predict(X_train[subset_features])))\n",
    "print('MAE', metrics.mean_absolute_error(y_train, lm_red.predict(X_train[subset_features])))\n",
    "print('mAE', metrics.median_absolute_error(y_train, lm_red.predict(X_train[subset_features])))"
   ]
  },
  {
   "cell_type": "code",
   "execution_count": 137,
   "metadata": {
    "ExecuteTime": {
     "end_time": "2023-06-03T14:16:57.381595Z",
     "start_time": "2023-06-03T14:16:57.361551Z"
    }
   },
   "outputs": [
    {
     "name": "stdout",
     "output_type": "stream",
     "text": [
      "MSE 29.664652667674964\n",
      "MAE 3.8001781882710297\n",
      "mAE 2.811748563457547\n"
     ]
    }
   ],
   "source": [
    "# predykcja na zbiorze testowym\n",
    "\n",
    "print('MSE', metrics.mean_squared_error(y_test, lm_red.predict(X_test[subset_features])))\n",
    "print('MAE', metrics.mean_absolute_error(y_test, lm_red.predict(X_test[subset_features])))\n",
    "print('mAE', metrics.median_absolute_error(y_test, lm_red.predict(X_test[subset_features])))"
   ]
  },
  {
   "cell_type": "markdown",
   "metadata": {
    "id": "8E9hUvDcAdyK"
   },
   "source": [
    "## Regularyzacja\n",
    "\n",
    "6. Zastosuj regularyzację\n",
    "\n",
    "    a) grzbietową\n",
    "    \n",
    "    b) Lasso\n"
   ]
  },
  {
   "cell_type": "markdown",
   "metadata": {},
   "source": [
    "### Ridge"
   ]
  },
  {
   "cell_type": "code",
   "execution_count": 138,
   "metadata": {
    "ExecuteTime": {
     "end_time": "2023-06-03T14:32:45.557869Z",
     "start_time": "2023-06-03T14:32:30.814209Z"
    }
   },
   "outputs": [
    {
     "data": {
      "text/html": [
       "<style>#sk-container-id-6 {color: black;background-color: white;}#sk-container-id-6 pre{padding: 0;}#sk-container-id-6 div.sk-toggleable {background-color: white;}#sk-container-id-6 label.sk-toggleable__label {cursor: pointer;display: block;width: 100%;margin-bottom: 0;padding: 0.3em;box-sizing: border-box;text-align: center;}#sk-container-id-6 label.sk-toggleable__label-arrow:before {content: \"▸\";float: left;margin-right: 0.25em;color: #696969;}#sk-container-id-6 label.sk-toggleable__label-arrow:hover:before {color: black;}#sk-container-id-6 div.sk-estimator:hover label.sk-toggleable__label-arrow:before {color: black;}#sk-container-id-6 div.sk-toggleable__content {max-height: 0;max-width: 0;overflow: hidden;text-align: left;background-color: #f0f8ff;}#sk-container-id-6 div.sk-toggleable__content pre {margin: 0.2em;color: black;border-radius: 0.25em;background-color: #f0f8ff;}#sk-container-id-6 input.sk-toggleable__control:checked~div.sk-toggleable__content {max-height: 200px;max-width: 100%;overflow: auto;}#sk-container-id-6 input.sk-toggleable__control:checked~label.sk-toggleable__label-arrow:before {content: \"▾\";}#sk-container-id-6 div.sk-estimator input.sk-toggleable__control:checked~label.sk-toggleable__label {background-color: #d4ebff;}#sk-container-id-6 div.sk-label input.sk-toggleable__control:checked~label.sk-toggleable__label {background-color: #d4ebff;}#sk-container-id-6 input.sk-hidden--visually {border: 0;clip: rect(1px 1px 1px 1px);clip: rect(1px, 1px, 1px, 1px);height: 1px;margin: -1px;overflow: hidden;padding: 0;position: absolute;width: 1px;}#sk-container-id-6 div.sk-estimator {font-family: monospace;background-color: #f0f8ff;border: 1px dotted black;border-radius: 0.25em;box-sizing: border-box;margin-bottom: 0.5em;}#sk-container-id-6 div.sk-estimator:hover {background-color: #d4ebff;}#sk-container-id-6 div.sk-parallel-item::after {content: \"\";width: 100%;border-bottom: 1px solid gray;flex-grow: 1;}#sk-container-id-6 div.sk-label:hover label.sk-toggleable__label {background-color: #d4ebff;}#sk-container-id-6 div.sk-serial::before {content: \"\";position: absolute;border-left: 1px solid gray;box-sizing: border-box;top: 0;bottom: 0;left: 50%;z-index: 0;}#sk-container-id-6 div.sk-serial {display: flex;flex-direction: column;align-items: center;background-color: white;padding-right: 0.2em;padding-left: 0.2em;position: relative;}#sk-container-id-6 div.sk-item {position: relative;z-index: 1;}#sk-container-id-6 div.sk-parallel {display: flex;align-items: stretch;justify-content: center;background-color: white;position: relative;}#sk-container-id-6 div.sk-item::before, #sk-container-id-6 div.sk-parallel-item::before {content: \"\";position: absolute;border-left: 1px solid gray;box-sizing: border-box;top: 0;bottom: 0;left: 50%;z-index: -1;}#sk-container-id-6 div.sk-parallel-item {display: flex;flex-direction: column;z-index: 1;position: relative;background-color: white;}#sk-container-id-6 div.sk-parallel-item:first-child::after {align-self: flex-end;width: 50%;}#sk-container-id-6 div.sk-parallel-item:last-child::after {align-self: flex-start;width: 50%;}#sk-container-id-6 div.sk-parallel-item:only-child::after {width: 0;}#sk-container-id-6 div.sk-dashed-wrapped {border: 1px dashed gray;margin: 0 0.4em 0.5em 0.4em;box-sizing: border-box;padding-bottom: 0.4em;background-color: white;}#sk-container-id-6 div.sk-label label {font-family: monospace;font-weight: bold;display: inline-block;line-height: 1.2em;}#sk-container-id-6 div.sk-label-container {text-align: center;}#sk-container-id-6 div.sk-container {/* jupyter's `normalize.less` sets `[hidden] { display: none; }` but bootstrap.min.css set `[hidden] { display: none !important; }` so we also need the `!important` here to be able to override the default hidden behavior on the sphinx rendered scikit-learn.org. See: https://github.com/scikit-learn/scikit-learn/issues/21755 */display: inline-block !important;position: relative;}#sk-container-id-6 div.sk-text-repr-fallback {display: none;}</style><div id=\"sk-container-id-6\" class=\"sk-top-container\"><div class=\"sk-text-repr-fallback\"><pre>GridSearchCV(cv=10,\n",
       "             estimator=Pipeline(steps=[(&#x27;standardscaler&#x27;, StandardScaler()),\n",
       "                                       (&#x27;ridge&#x27;, Ridge())]),\n",
       "             param_grid={&#x27;ridge__alpha&#x27;: array([1.00000000e-02, 1.61414141e-01, 3.12828283e-01, 4.64242424e-01,\n",
       "       6.15656566e-01, 7.67070707e-01, 9.18484848e-01, 1.06989899e+00,\n",
       "       1.22131313e+00, 1.37272727e+00, 1.52414141e+00, 1.67555556e+00,\n",
       "       1.82696970e+00, 1.97838384e+00, 2.129...\n",
       "       1.15174747e+01, 1.16688889e+01, 1.18203030e+01, 1.19717172e+01,\n",
       "       1.21231313e+01, 1.22745455e+01, 1.24259596e+01, 1.25773737e+01,\n",
       "       1.27287879e+01, 1.28802020e+01, 1.30316162e+01, 1.31830303e+01,\n",
       "       1.33344444e+01, 1.34858586e+01, 1.36372727e+01, 1.37886869e+01,\n",
       "       1.39401010e+01, 1.40915152e+01, 1.42429293e+01, 1.43943434e+01,\n",
       "       1.45457576e+01, 1.46971717e+01, 1.48485859e+01, 1.50000000e+01])},\n",
       "             scoring=&#x27;neg_mean_squared_error&#x27;)</pre><b>In a Jupyter environment, please rerun this cell to show the HTML representation or trust the notebook. <br />On GitHub, the HTML representation is unable to render, please try loading this page with nbviewer.org.</b></div><div class=\"sk-container\" hidden><div class=\"sk-item sk-dashed-wrapped\"><div class=\"sk-label-container\"><div class=\"sk-label sk-toggleable\"><input class=\"sk-toggleable__control sk-hidden--visually\" id=\"sk-estimator-id-6\" type=\"checkbox\" ><label for=\"sk-estimator-id-6\" class=\"sk-toggleable__label sk-toggleable__label-arrow\">GridSearchCV</label><div class=\"sk-toggleable__content\"><pre>GridSearchCV(cv=10,\n",
       "             estimator=Pipeline(steps=[(&#x27;standardscaler&#x27;, StandardScaler()),\n",
       "                                       (&#x27;ridge&#x27;, Ridge())]),\n",
       "             param_grid={&#x27;ridge__alpha&#x27;: array([1.00000000e-02, 1.61414141e-01, 3.12828283e-01, 4.64242424e-01,\n",
       "       6.15656566e-01, 7.67070707e-01, 9.18484848e-01, 1.06989899e+00,\n",
       "       1.22131313e+00, 1.37272727e+00, 1.52414141e+00, 1.67555556e+00,\n",
       "       1.82696970e+00, 1.97838384e+00, 2.129...\n",
       "       1.15174747e+01, 1.16688889e+01, 1.18203030e+01, 1.19717172e+01,\n",
       "       1.21231313e+01, 1.22745455e+01, 1.24259596e+01, 1.25773737e+01,\n",
       "       1.27287879e+01, 1.28802020e+01, 1.30316162e+01, 1.31830303e+01,\n",
       "       1.33344444e+01, 1.34858586e+01, 1.36372727e+01, 1.37886869e+01,\n",
       "       1.39401010e+01, 1.40915152e+01, 1.42429293e+01, 1.43943434e+01,\n",
       "       1.45457576e+01, 1.46971717e+01, 1.48485859e+01, 1.50000000e+01])},\n",
       "             scoring=&#x27;neg_mean_squared_error&#x27;)</pre></div></div></div><div class=\"sk-parallel\"><div class=\"sk-parallel-item\"><div class=\"sk-item\"><div class=\"sk-label-container\"><div class=\"sk-label sk-toggleable\"><input class=\"sk-toggleable__control sk-hidden--visually\" id=\"sk-estimator-id-7\" type=\"checkbox\" ><label for=\"sk-estimator-id-7\" class=\"sk-toggleable__label sk-toggleable__label-arrow\">estimator: Pipeline</label><div class=\"sk-toggleable__content\"><pre>Pipeline(steps=[(&#x27;standardscaler&#x27;, StandardScaler()), (&#x27;ridge&#x27;, Ridge())])</pre></div></div></div><div class=\"sk-serial\"><div class=\"sk-item\"><div class=\"sk-serial\"><div class=\"sk-item\"><div class=\"sk-estimator sk-toggleable\"><input class=\"sk-toggleable__control sk-hidden--visually\" id=\"sk-estimator-id-8\" type=\"checkbox\" ><label for=\"sk-estimator-id-8\" class=\"sk-toggleable__label sk-toggleable__label-arrow\">StandardScaler</label><div class=\"sk-toggleable__content\"><pre>StandardScaler()</pre></div></div></div><div class=\"sk-item\"><div class=\"sk-estimator sk-toggleable\"><input class=\"sk-toggleable__control sk-hidden--visually\" id=\"sk-estimator-id-9\" type=\"checkbox\" ><label for=\"sk-estimator-id-9\" class=\"sk-toggleable__label sk-toggleable__label-arrow\">Ridge</label><div class=\"sk-toggleable__content\"><pre>Ridge()</pre></div></div></div></div></div></div></div></div></div></div></div></div>"
      ],
      "text/plain": [
       "GridSearchCV(cv=10,\n",
       "             estimator=Pipeline(steps=[('standardscaler', StandardScaler()),\n",
       "                                       ('ridge', Ridge())]),\n",
       "             param_grid={'ridge__alpha': array([1.00000000e-02, 1.61414141e-01, 3.12828283e-01, 4.64242424e-01,\n",
       "       6.15656566e-01, 7.67070707e-01, 9.18484848e-01, 1.06989899e+00,\n",
       "       1.22131313e+00, 1.37272727e+00, 1.52414141e+00, 1.67555556e+00,\n",
       "       1.82696970e+00, 1.97838384e+00, 2.129...\n",
       "       1.15174747e+01, 1.16688889e+01, 1.18203030e+01, 1.19717172e+01,\n",
       "       1.21231313e+01, 1.22745455e+01, 1.24259596e+01, 1.25773737e+01,\n",
       "       1.27287879e+01, 1.28802020e+01, 1.30316162e+01, 1.31830303e+01,\n",
       "       1.33344444e+01, 1.34858586e+01, 1.36372727e+01, 1.37886869e+01,\n",
       "       1.39401010e+01, 1.40915152e+01, 1.42429293e+01, 1.43943434e+01,\n",
       "       1.45457576e+01, 1.46971717e+01, 1.48485859e+01, 1.50000000e+01])},\n",
       "             scoring='neg_mean_squared_error')"
      ]
     },
     "execution_count": 138,
     "metadata": {},
     "output_type": "execute_result"
    }
   ],
   "source": [
    "estimator_ridge = make_pipeline(StandardScaler(), Ridge())\n",
    "\n",
    "grid = GridSearchCV(estimator=estimator_ridge, \n",
    "                    param_grid = {'ridge__alpha': np.linspace(0.01, 15, 100)},\n",
    "                    scoring='neg_mean_squared_error',\n",
    "                    cv=10\n",
    "                    )\n",
    "\n",
    "grid.fit(X_train, y_train)"
   ]
  },
  {
   "cell_type": "code",
   "execution_count": 139,
   "metadata": {
    "ExecuteTime": {
     "end_time": "2023-06-03T14:33:21.101258Z",
     "start_time": "2023-06-03T14:33:21.094801Z"
    }
   },
   "outputs": [
    {
     "name": "stdout",
     "output_type": "stream",
     "text": [
      "{'ridge__alpha': 9.246262626262626}\n",
      "22.613145303041062\n"
     ]
    }
   ],
   "source": [
    "print(grid.best_params_)  # najlepsza alpha\n",
    "print(-grid.best_score_)  # MSE na zbiorze treningowym"
   ]
  },
  {
   "cell_type": "code",
   "execution_count": 146,
   "metadata": {
    "ExecuteTime": {
     "end_time": "2023-06-03T14:40:08.212614Z",
     "start_time": "2023-06-03T14:40:04.372908Z"
    }
   },
   "outputs": [
    {
     "data": {
      "text/html": [
       "<style>#sk-container-id-8 {color: black;background-color: white;}#sk-container-id-8 pre{padding: 0;}#sk-container-id-8 div.sk-toggleable {background-color: white;}#sk-container-id-8 label.sk-toggleable__label {cursor: pointer;display: block;width: 100%;margin-bottom: 0;padding: 0.3em;box-sizing: border-box;text-align: center;}#sk-container-id-8 label.sk-toggleable__label-arrow:before {content: \"▸\";float: left;margin-right: 0.25em;color: #696969;}#sk-container-id-8 label.sk-toggleable__label-arrow:hover:before {color: black;}#sk-container-id-8 div.sk-estimator:hover label.sk-toggleable__label-arrow:before {color: black;}#sk-container-id-8 div.sk-toggleable__content {max-height: 0;max-width: 0;overflow: hidden;text-align: left;background-color: #f0f8ff;}#sk-container-id-8 div.sk-toggleable__content pre {margin: 0.2em;color: black;border-radius: 0.25em;background-color: #f0f8ff;}#sk-container-id-8 input.sk-toggleable__control:checked~div.sk-toggleable__content {max-height: 200px;max-width: 100%;overflow: auto;}#sk-container-id-8 input.sk-toggleable__control:checked~label.sk-toggleable__label-arrow:before {content: \"▾\";}#sk-container-id-8 div.sk-estimator input.sk-toggleable__control:checked~label.sk-toggleable__label {background-color: #d4ebff;}#sk-container-id-8 div.sk-label input.sk-toggleable__control:checked~label.sk-toggleable__label {background-color: #d4ebff;}#sk-container-id-8 input.sk-hidden--visually {border: 0;clip: rect(1px 1px 1px 1px);clip: rect(1px, 1px, 1px, 1px);height: 1px;margin: -1px;overflow: hidden;padding: 0;position: absolute;width: 1px;}#sk-container-id-8 div.sk-estimator {font-family: monospace;background-color: #f0f8ff;border: 1px dotted black;border-radius: 0.25em;box-sizing: border-box;margin-bottom: 0.5em;}#sk-container-id-8 div.sk-estimator:hover {background-color: #d4ebff;}#sk-container-id-8 div.sk-parallel-item::after {content: \"\";width: 100%;border-bottom: 1px solid gray;flex-grow: 1;}#sk-container-id-8 div.sk-label:hover label.sk-toggleable__label {background-color: #d4ebff;}#sk-container-id-8 div.sk-serial::before {content: \"\";position: absolute;border-left: 1px solid gray;box-sizing: border-box;top: 0;bottom: 0;left: 50%;z-index: 0;}#sk-container-id-8 div.sk-serial {display: flex;flex-direction: column;align-items: center;background-color: white;padding-right: 0.2em;padding-left: 0.2em;position: relative;}#sk-container-id-8 div.sk-item {position: relative;z-index: 1;}#sk-container-id-8 div.sk-parallel {display: flex;align-items: stretch;justify-content: center;background-color: white;position: relative;}#sk-container-id-8 div.sk-item::before, #sk-container-id-8 div.sk-parallel-item::before {content: \"\";position: absolute;border-left: 1px solid gray;box-sizing: border-box;top: 0;bottom: 0;left: 50%;z-index: -1;}#sk-container-id-8 div.sk-parallel-item {display: flex;flex-direction: column;z-index: 1;position: relative;background-color: white;}#sk-container-id-8 div.sk-parallel-item:first-child::after {align-self: flex-end;width: 50%;}#sk-container-id-8 div.sk-parallel-item:last-child::after {align-self: flex-start;width: 50%;}#sk-container-id-8 div.sk-parallel-item:only-child::after {width: 0;}#sk-container-id-8 div.sk-dashed-wrapped {border: 1px dashed gray;margin: 0 0.4em 0.5em 0.4em;box-sizing: border-box;padding-bottom: 0.4em;background-color: white;}#sk-container-id-8 div.sk-label label {font-family: monospace;font-weight: bold;display: inline-block;line-height: 1.2em;}#sk-container-id-8 div.sk-label-container {text-align: center;}#sk-container-id-8 div.sk-container {/* jupyter's `normalize.less` sets `[hidden] { display: none; }` but bootstrap.min.css set `[hidden] { display: none !important; }` so we also need the `!important` here to be able to override the default hidden behavior on the sphinx rendered scikit-learn.org. See: https://github.com/scikit-learn/scikit-learn/issues/21755 */display: inline-block !important;position: relative;}#sk-container-id-8 div.sk-text-repr-fallback {display: none;}</style><div id=\"sk-container-id-8\" class=\"sk-top-container\"><div class=\"sk-text-repr-fallback\"><pre>Pipeline(steps=[(&#x27;standardscaler&#x27;, StandardScaler()),\n",
       "                (&#x27;ridgecv&#x27;,\n",
       "                 RidgeCV(alphas=array([1.00000000e-02, 1.61414141e-01, 3.12828283e-01, 4.64242424e-01,\n",
       "       6.15656566e-01, 7.67070707e-01, 9.18484848e-01, 1.06989899e+00,\n",
       "       1.22131313e+00, 1.37272727e+00, 1.52414141e+00, 1.67555556e+00,\n",
       "       1.82696970e+00, 1.97838384e+00, 2.12979798e+00, 2.28121212e+00,\n",
       "       2.43262626e+00, 2.58404040...\n",
       "       1.15174747e+01, 1.16688889e+01, 1.18203030e+01, 1.19717172e+01,\n",
       "       1.21231313e+01, 1.22745455e+01, 1.24259596e+01, 1.25773737e+01,\n",
       "       1.27287879e+01, 1.28802020e+01, 1.30316162e+01, 1.31830303e+01,\n",
       "       1.33344444e+01, 1.34858586e+01, 1.36372727e+01, 1.37886869e+01,\n",
       "       1.39401010e+01, 1.40915152e+01, 1.42429293e+01, 1.43943434e+01,\n",
       "       1.45457576e+01, 1.46971717e+01, 1.48485859e+01, 1.50000000e+01]),\n",
       "                         cv=10, scoring=&#x27;neg_mean_squared_error&#x27;))])</pre><b>In a Jupyter environment, please rerun this cell to show the HTML representation or trust the notebook. <br />On GitHub, the HTML representation is unable to render, please try loading this page with nbviewer.org.</b></div><div class=\"sk-container\" hidden><div class=\"sk-item sk-dashed-wrapped\"><div class=\"sk-label-container\"><div class=\"sk-label sk-toggleable\"><input class=\"sk-toggleable__control sk-hidden--visually\" id=\"sk-estimator-id-13\" type=\"checkbox\" ><label for=\"sk-estimator-id-13\" class=\"sk-toggleable__label sk-toggleable__label-arrow\">Pipeline</label><div class=\"sk-toggleable__content\"><pre>Pipeline(steps=[(&#x27;standardscaler&#x27;, StandardScaler()),\n",
       "                (&#x27;ridgecv&#x27;,\n",
       "                 RidgeCV(alphas=array([1.00000000e-02, 1.61414141e-01, 3.12828283e-01, 4.64242424e-01,\n",
       "       6.15656566e-01, 7.67070707e-01, 9.18484848e-01, 1.06989899e+00,\n",
       "       1.22131313e+00, 1.37272727e+00, 1.52414141e+00, 1.67555556e+00,\n",
       "       1.82696970e+00, 1.97838384e+00, 2.12979798e+00, 2.28121212e+00,\n",
       "       2.43262626e+00, 2.58404040...\n",
       "       1.15174747e+01, 1.16688889e+01, 1.18203030e+01, 1.19717172e+01,\n",
       "       1.21231313e+01, 1.22745455e+01, 1.24259596e+01, 1.25773737e+01,\n",
       "       1.27287879e+01, 1.28802020e+01, 1.30316162e+01, 1.31830303e+01,\n",
       "       1.33344444e+01, 1.34858586e+01, 1.36372727e+01, 1.37886869e+01,\n",
       "       1.39401010e+01, 1.40915152e+01, 1.42429293e+01, 1.43943434e+01,\n",
       "       1.45457576e+01, 1.46971717e+01, 1.48485859e+01, 1.50000000e+01]),\n",
       "                         cv=10, scoring=&#x27;neg_mean_squared_error&#x27;))])</pre></div></div></div><div class=\"sk-serial\"><div class=\"sk-item\"><div class=\"sk-estimator sk-toggleable\"><input class=\"sk-toggleable__control sk-hidden--visually\" id=\"sk-estimator-id-14\" type=\"checkbox\" ><label for=\"sk-estimator-id-14\" class=\"sk-toggleable__label sk-toggleable__label-arrow\">StandardScaler</label><div class=\"sk-toggleable__content\"><pre>StandardScaler()</pre></div></div></div><div class=\"sk-item\"><div class=\"sk-estimator sk-toggleable\"><input class=\"sk-toggleable__control sk-hidden--visually\" id=\"sk-estimator-id-15\" type=\"checkbox\" ><label for=\"sk-estimator-id-15\" class=\"sk-toggleable__label sk-toggleable__label-arrow\">RidgeCV</label><div class=\"sk-toggleable__content\"><pre>RidgeCV(alphas=array([1.00000000e-02, 1.61414141e-01, 3.12828283e-01, 4.64242424e-01,\n",
       "       6.15656566e-01, 7.67070707e-01, 9.18484848e-01, 1.06989899e+00,\n",
       "       1.22131313e+00, 1.37272727e+00, 1.52414141e+00, 1.67555556e+00,\n",
       "       1.82696970e+00, 1.97838384e+00, 2.12979798e+00, 2.28121212e+00,\n",
       "       2.43262626e+00, 2.58404040e+00, 2.73545455e+00, 2.88686869e+00,\n",
       "       3.03828283e+00, 3.18969697e+0...\n",
       "       1.15174747e+01, 1.16688889e+01, 1.18203030e+01, 1.19717172e+01,\n",
       "       1.21231313e+01, 1.22745455e+01, 1.24259596e+01, 1.25773737e+01,\n",
       "       1.27287879e+01, 1.28802020e+01, 1.30316162e+01, 1.31830303e+01,\n",
       "       1.33344444e+01, 1.34858586e+01, 1.36372727e+01, 1.37886869e+01,\n",
       "       1.39401010e+01, 1.40915152e+01, 1.42429293e+01, 1.43943434e+01,\n",
       "       1.45457576e+01, 1.46971717e+01, 1.48485859e+01, 1.50000000e+01]),\n",
       "        cv=10, scoring=&#x27;neg_mean_squared_error&#x27;)</pre></div></div></div></div></div></div></div>"
      ],
      "text/plain": [
       "Pipeline(steps=[('standardscaler', StandardScaler()),\n",
       "                ('ridgecv',\n",
       "                 RidgeCV(alphas=array([1.00000000e-02, 1.61414141e-01, 3.12828283e-01, 4.64242424e-01,\n",
       "       6.15656566e-01, 7.67070707e-01, 9.18484848e-01, 1.06989899e+00,\n",
       "       1.22131313e+00, 1.37272727e+00, 1.52414141e+00, 1.67555556e+00,\n",
       "       1.82696970e+00, 1.97838384e+00, 2.12979798e+00, 2.28121212e+00,\n",
       "       2.43262626e+00, 2.58404040...\n",
       "       1.15174747e+01, 1.16688889e+01, 1.18203030e+01, 1.19717172e+01,\n",
       "       1.21231313e+01, 1.22745455e+01, 1.24259596e+01, 1.25773737e+01,\n",
       "       1.27287879e+01, 1.28802020e+01, 1.30316162e+01, 1.31830303e+01,\n",
       "       1.33344444e+01, 1.34858586e+01, 1.36372727e+01, 1.37886869e+01,\n",
       "       1.39401010e+01, 1.40915152e+01, 1.42429293e+01, 1.43943434e+01,\n",
       "       1.45457576e+01, 1.46971717e+01, 1.48485859e+01, 1.50000000e+01]),\n",
       "                         cv=10, scoring='neg_mean_squared_error'))])"
      ]
     },
     "execution_count": 146,
     "metadata": {},
     "output_type": "execute_result"
    }
   ],
   "source": [
    "# inny sposób (ale nie działa dla siatki wielowymiarowej):\n",
    "\n",
    "ridgecv = make_pipeline(StandardScaler(),\n",
    "                        RidgeCV(alphas=np.linspace(0.01, 15, 100), scoring='neg_mean_squared_error', cv=10)\n",
    "                       )\n",
    "\n",
    "ridgecv.fit(X_train, y_train)"
   ]
  },
  {
   "cell_type": "code",
   "execution_count": 147,
   "metadata": {
    "ExecuteTime": {
     "end_time": "2023-06-03T14:40:10.592764Z",
     "start_time": "2023-06-03T14:40:10.585969Z"
    }
   },
   "outputs": [
    {
     "data": {
      "text/plain": [
       "8.792020202020202"
      ]
     },
     "execution_count": 147,
     "metadata": {},
     "output_type": "execute_result"
    }
   ],
   "source": [
    "ridgecv['ridgecv'].alpha_  # trochę inny wynik, ale dużo szybsze obliczenia!"
   ]
  },
  {
   "cell_type": "code",
   "execution_count": 148,
   "metadata": {
    "ExecuteTime": {
     "end_time": "2023-06-03T14:45:11.598111Z",
     "start_time": "2023-06-03T14:45:11.586040Z"
    }
   },
   "outputs": [],
   "source": [
    "# Ridge z najlepszym parametrem alpha\n",
    "\n",
    "ridge = make_pipeline(StandardScaler(), Ridge(alpha=ridgecv['ridgecv'].alpha_))\n",
    "fitted_ridge = ridge.fit(X_train, y_train)"
   ]
  },
  {
   "cell_type": "code",
   "execution_count": 150,
   "metadata": {
    "ExecuteTime": {
     "end_time": "2023-06-03T14:47:28.346872Z",
     "start_time": "2023-06-03T14:47:28.326156Z"
    }
   },
   "outputs": [
    {
     "name": "stdout",
     "output_type": "stream",
     "text": [
      "MSE 20.274235014597572\n",
      "MAE 3.0963449117894477\n",
      "mAE 2.3179864406853454\n"
     ]
    }
   ],
   "source": [
    "# dopasowanie na zbiorze treningowym\n",
    "\n",
    "print('MSE', metrics.mean_squared_error(y_train, fitted_ridge.predict(X_train)))\n",
    "print('MAE', metrics.mean_absolute_error(y_train, fitted_ridge.predict(X_train)))\n",
    "print('mAE', metrics.median_absolute_error(y_train, fitted_ridge.predict(X_train)))"
   ]
  },
  {
   "cell_type": "code",
   "execution_count": 151,
   "metadata": {
    "ExecuteTime": {
     "end_time": "2023-06-03T14:47:52.686219Z",
     "start_time": "2023-06-03T14:47:52.664218Z"
    }
   },
   "outputs": [
    {
     "name": "stdout",
     "output_type": "stream",
     "text": [
      "MSE 28.586751846475\n",
      "MAE 3.6477449677312004\n",
      "mAE 2.5398639689976523\n"
     ]
    }
   ],
   "source": [
    "# predykcja na zbiorze testowym\n",
    "\n",
    "print('MSE', metrics.mean_squared_error(y_test, fitted_ridge.predict(X_test)))\n",
    "print('MAE', metrics.mean_absolute_error(y_test, fitted_ridge.predict(X_test)))\n",
    "print('mAE', metrics.median_absolute_error(y_test, fitted_ridge.predict(X_test)))"
   ]
  },
  {
   "cell_type": "markdown",
   "metadata": {},
   "source": [
    "### Lasso"
   ]
  },
  {
   "cell_type": "code",
   "execution_count": 155,
   "metadata": {
    "ExecuteTime": {
     "end_time": "2023-06-03T14:53:16.131456Z",
     "start_time": "2023-06-03T14:52:52.836312Z"
    }
   },
   "outputs": [
    {
     "data": {
      "text/html": [
       "<style>#sk-container-id-10 {color: black;background-color: white;}#sk-container-id-10 pre{padding: 0;}#sk-container-id-10 div.sk-toggleable {background-color: white;}#sk-container-id-10 label.sk-toggleable__label {cursor: pointer;display: block;width: 100%;margin-bottom: 0;padding: 0.3em;box-sizing: border-box;text-align: center;}#sk-container-id-10 label.sk-toggleable__label-arrow:before {content: \"▸\";float: left;margin-right: 0.25em;color: #696969;}#sk-container-id-10 label.sk-toggleable__label-arrow:hover:before {color: black;}#sk-container-id-10 div.sk-estimator:hover label.sk-toggleable__label-arrow:before {color: black;}#sk-container-id-10 div.sk-toggleable__content {max-height: 0;max-width: 0;overflow: hidden;text-align: left;background-color: #f0f8ff;}#sk-container-id-10 div.sk-toggleable__content pre {margin: 0.2em;color: black;border-radius: 0.25em;background-color: #f0f8ff;}#sk-container-id-10 input.sk-toggleable__control:checked~div.sk-toggleable__content {max-height: 200px;max-width: 100%;overflow: auto;}#sk-container-id-10 input.sk-toggleable__control:checked~label.sk-toggleable__label-arrow:before {content: \"▾\";}#sk-container-id-10 div.sk-estimator input.sk-toggleable__control:checked~label.sk-toggleable__label {background-color: #d4ebff;}#sk-container-id-10 div.sk-label input.sk-toggleable__control:checked~label.sk-toggleable__label {background-color: #d4ebff;}#sk-container-id-10 input.sk-hidden--visually {border: 0;clip: rect(1px 1px 1px 1px);clip: rect(1px, 1px, 1px, 1px);height: 1px;margin: -1px;overflow: hidden;padding: 0;position: absolute;width: 1px;}#sk-container-id-10 div.sk-estimator {font-family: monospace;background-color: #f0f8ff;border: 1px dotted black;border-radius: 0.25em;box-sizing: border-box;margin-bottom: 0.5em;}#sk-container-id-10 div.sk-estimator:hover {background-color: #d4ebff;}#sk-container-id-10 div.sk-parallel-item::after {content: \"\";width: 100%;border-bottom: 1px solid gray;flex-grow: 1;}#sk-container-id-10 div.sk-label:hover label.sk-toggleable__label {background-color: #d4ebff;}#sk-container-id-10 div.sk-serial::before {content: \"\";position: absolute;border-left: 1px solid gray;box-sizing: border-box;top: 0;bottom: 0;left: 50%;z-index: 0;}#sk-container-id-10 div.sk-serial {display: flex;flex-direction: column;align-items: center;background-color: white;padding-right: 0.2em;padding-left: 0.2em;position: relative;}#sk-container-id-10 div.sk-item {position: relative;z-index: 1;}#sk-container-id-10 div.sk-parallel {display: flex;align-items: stretch;justify-content: center;background-color: white;position: relative;}#sk-container-id-10 div.sk-item::before, #sk-container-id-10 div.sk-parallel-item::before {content: \"\";position: absolute;border-left: 1px solid gray;box-sizing: border-box;top: 0;bottom: 0;left: 50%;z-index: -1;}#sk-container-id-10 div.sk-parallel-item {display: flex;flex-direction: column;z-index: 1;position: relative;background-color: white;}#sk-container-id-10 div.sk-parallel-item:first-child::after {align-self: flex-end;width: 50%;}#sk-container-id-10 div.sk-parallel-item:last-child::after {align-self: flex-start;width: 50%;}#sk-container-id-10 div.sk-parallel-item:only-child::after {width: 0;}#sk-container-id-10 div.sk-dashed-wrapped {border: 1px dashed gray;margin: 0 0.4em 0.5em 0.4em;box-sizing: border-box;padding-bottom: 0.4em;background-color: white;}#sk-container-id-10 div.sk-label label {font-family: monospace;font-weight: bold;display: inline-block;line-height: 1.2em;}#sk-container-id-10 div.sk-label-container {text-align: center;}#sk-container-id-10 div.sk-container {/* jupyter's `normalize.less` sets `[hidden] { display: none; }` but bootstrap.min.css set `[hidden] { display: none !important; }` so we also need the `!important` here to be able to override the default hidden behavior on the sphinx rendered scikit-learn.org. See: https://github.com/scikit-learn/scikit-learn/issues/21755 */display: inline-block !important;position: relative;}#sk-container-id-10 div.sk-text-repr-fallback {display: none;}</style><div id=\"sk-container-id-10\" class=\"sk-top-container\"><div class=\"sk-text-repr-fallback\"><pre>GridSearchCV(cv=10,\n",
       "             estimator=Pipeline(steps=[(&#x27;standardscaler&#x27;, StandardScaler()),\n",
       "                                       (&#x27;lasso&#x27;, Lasso())]),\n",
       "             param_grid={&#x27;lasso__alpha&#x27;: array([1.00000000e-03, 1.52505051e-01, 3.04010101e-01, 4.55515152e-01,\n",
       "       6.07020202e-01, 7.58525253e-01, 9.10030303e-01, 1.06153535e+00,\n",
       "       1.21304040e+00, 1.36454545e+00, 1.51605051e+00, 1.66755556e+00,\n",
       "       1.81906061e+00, 1.97056566e+00, 2.122...\n",
       "       1.15153838e+01, 1.16668889e+01, 1.18183939e+01, 1.19698990e+01,\n",
       "       1.21214040e+01, 1.22729091e+01, 1.24244141e+01, 1.25759192e+01,\n",
       "       1.27274242e+01, 1.28789293e+01, 1.30304343e+01, 1.31819394e+01,\n",
       "       1.33334444e+01, 1.34849495e+01, 1.36364545e+01, 1.37879596e+01,\n",
       "       1.39394646e+01, 1.40909697e+01, 1.42424747e+01, 1.43939798e+01,\n",
       "       1.45454848e+01, 1.46969899e+01, 1.48484949e+01, 1.50000000e+01])},\n",
       "             scoring=&#x27;neg_mean_squared_error&#x27;)</pre><b>In a Jupyter environment, please rerun this cell to show the HTML representation or trust the notebook. <br />On GitHub, the HTML representation is unable to render, please try loading this page with nbviewer.org.</b></div><div class=\"sk-container\" hidden><div class=\"sk-item sk-dashed-wrapped\"><div class=\"sk-label-container\"><div class=\"sk-label sk-toggleable\"><input class=\"sk-toggleable__control sk-hidden--visually\" id=\"sk-estimator-id-20\" type=\"checkbox\" ><label for=\"sk-estimator-id-20\" class=\"sk-toggleable__label sk-toggleable__label-arrow\">GridSearchCV</label><div class=\"sk-toggleable__content\"><pre>GridSearchCV(cv=10,\n",
       "             estimator=Pipeline(steps=[(&#x27;standardscaler&#x27;, StandardScaler()),\n",
       "                                       (&#x27;lasso&#x27;, Lasso())]),\n",
       "             param_grid={&#x27;lasso__alpha&#x27;: array([1.00000000e-03, 1.52505051e-01, 3.04010101e-01, 4.55515152e-01,\n",
       "       6.07020202e-01, 7.58525253e-01, 9.10030303e-01, 1.06153535e+00,\n",
       "       1.21304040e+00, 1.36454545e+00, 1.51605051e+00, 1.66755556e+00,\n",
       "       1.81906061e+00, 1.97056566e+00, 2.122...\n",
       "       1.15153838e+01, 1.16668889e+01, 1.18183939e+01, 1.19698990e+01,\n",
       "       1.21214040e+01, 1.22729091e+01, 1.24244141e+01, 1.25759192e+01,\n",
       "       1.27274242e+01, 1.28789293e+01, 1.30304343e+01, 1.31819394e+01,\n",
       "       1.33334444e+01, 1.34849495e+01, 1.36364545e+01, 1.37879596e+01,\n",
       "       1.39394646e+01, 1.40909697e+01, 1.42424747e+01, 1.43939798e+01,\n",
       "       1.45454848e+01, 1.46969899e+01, 1.48484949e+01, 1.50000000e+01])},\n",
       "             scoring=&#x27;neg_mean_squared_error&#x27;)</pre></div></div></div><div class=\"sk-parallel\"><div class=\"sk-parallel-item\"><div class=\"sk-item\"><div class=\"sk-label-container\"><div class=\"sk-label sk-toggleable\"><input class=\"sk-toggleable__control sk-hidden--visually\" id=\"sk-estimator-id-21\" type=\"checkbox\" ><label for=\"sk-estimator-id-21\" class=\"sk-toggleable__label sk-toggleable__label-arrow\">estimator: Pipeline</label><div class=\"sk-toggleable__content\"><pre>Pipeline(steps=[(&#x27;standardscaler&#x27;, StandardScaler()), (&#x27;lasso&#x27;, Lasso())])</pre></div></div></div><div class=\"sk-serial\"><div class=\"sk-item\"><div class=\"sk-serial\"><div class=\"sk-item\"><div class=\"sk-estimator sk-toggleable\"><input class=\"sk-toggleable__control sk-hidden--visually\" id=\"sk-estimator-id-22\" type=\"checkbox\" ><label for=\"sk-estimator-id-22\" class=\"sk-toggleable__label sk-toggleable__label-arrow\">StandardScaler</label><div class=\"sk-toggleable__content\"><pre>StandardScaler()</pre></div></div></div><div class=\"sk-item\"><div class=\"sk-estimator sk-toggleable\"><input class=\"sk-toggleable__control sk-hidden--visually\" id=\"sk-estimator-id-23\" type=\"checkbox\" ><label for=\"sk-estimator-id-23\" class=\"sk-toggleable__label sk-toggleable__label-arrow\">Lasso</label><div class=\"sk-toggleable__content\"><pre>Lasso()</pre></div></div></div></div></div></div></div></div></div></div></div></div>"
      ],
      "text/plain": [
       "GridSearchCV(cv=10,\n",
       "             estimator=Pipeline(steps=[('standardscaler', StandardScaler()),\n",
       "                                       ('lasso', Lasso())]),\n",
       "             param_grid={'lasso__alpha': array([1.00000000e-03, 1.52505051e-01, 3.04010101e-01, 4.55515152e-01,\n",
       "       6.07020202e-01, 7.58525253e-01, 9.10030303e-01, 1.06153535e+00,\n",
       "       1.21304040e+00, 1.36454545e+00, 1.51605051e+00, 1.66755556e+00,\n",
       "       1.81906061e+00, 1.97056566e+00, 2.122...\n",
       "       1.15153838e+01, 1.16668889e+01, 1.18183939e+01, 1.19698990e+01,\n",
       "       1.21214040e+01, 1.22729091e+01, 1.24244141e+01, 1.25759192e+01,\n",
       "       1.27274242e+01, 1.28789293e+01, 1.30304343e+01, 1.31819394e+01,\n",
       "       1.33334444e+01, 1.34849495e+01, 1.36364545e+01, 1.37879596e+01,\n",
       "       1.39394646e+01, 1.40909697e+01, 1.42424747e+01, 1.43939798e+01,\n",
       "       1.45454848e+01, 1.46969899e+01, 1.48484949e+01, 1.50000000e+01])},\n",
       "             scoring='neg_mean_squared_error')"
      ]
     },
     "execution_count": 155,
     "metadata": {},
     "output_type": "execute_result"
    }
   ],
   "source": [
    "estimator_lasso = make_pipeline(StandardScaler(), Lasso())\n",
    "\n",
    "grid = GridSearchCV(estimator=estimator_lasso, \n",
    "                    param_grid = {'lasso__alpha': np.linspace(0.001, 15, 100)},\n",
    "                    scoring='neg_mean_squared_error',\n",
    "                    cv=10\n",
    "                    )\n",
    "\n",
    "grid.fit(X_train, y_train)"
   ]
  },
  {
   "cell_type": "code",
   "execution_count": 157,
   "metadata": {
    "ExecuteTime": {
     "end_time": "2023-06-03T14:54:06.680313Z",
     "start_time": "2023-06-03T14:54:06.673628Z"
    }
   },
   "outputs": [
    {
     "name": "stdout",
     "output_type": "stream",
     "text": [
      "{'lasso__alpha': 0.001}\n",
      "22.719510452014998\n"
     ]
    }
   ],
   "source": [
    "print(grid.best_params_)  # najlepsza alpha\n",
    "print(-grid.best_score_)  # MSE na zbiorze treningowym"
   ]
  },
  {
   "cell_type": "code",
   "execution_count": 180,
   "metadata": {
    "ExecuteTime": {
     "end_time": "2023-06-03T16:06:11.299473Z",
     "start_time": "2023-06-03T16:06:11.132342Z"
    }
   },
   "outputs": [
    {
     "data": {
      "text/html": [
       "<style>#sk-container-id-15 {color: black;background-color: white;}#sk-container-id-15 pre{padding: 0;}#sk-container-id-15 div.sk-toggleable {background-color: white;}#sk-container-id-15 label.sk-toggleable__label {cursor: pointer;display: block;width: 100%;margin-bottom: 0;padding: 0.3em;box-sizing: border-box;text-align: center;}#sk-container-id-15 label.sk-toggleable__label-arrow:before {content: \"▸\";float: left;margin-right: 0.25em;color: #696969;}#sk-container-id-15 label.sk-toggleable__label-arrow:hover:before {color: black;}#sk-container-id-15 div.sk-estimator:hover label.sk-toggleable__label-arrow:before {color: black;}#sk-container-id-15 div.sk-toggleable__content {max-height: 0;max-width: 0;overflow: hidden;text-align: left;background-color: #f0f8ff;}#sk-container-id-15 div.sk-toggleable__content pre {margin: 0.2em;color: black;border-radius: 0.25em;background-color: #f0f8ff;}#sk-container-id-15 input.sk-toggleable__control:checked~div.sk-toggleable__content {max-height: 200px;max-width: 100%;overflow: auto;}#sk-container-id-15 input.sk-toggleable__control:checked~label.sk-toggleable__label-arrow:before {content: \"▾\";}#sk-container-id-15 div.sk-estimator input.sk-toggleable__control:checked~label.sk-toggleable__label {background-color: #d4ebff;}#sk-container-id-15 div.sk-label input.sk-toggleable__control:checked~label.sk-toggleable__label {background-color: #d4ebff;}#sk-container-id-15 input.sk-hidden--visually {border: 0;clip: rect(1px 1px 1px 1px);clip: rect(1px, 1px, 1px, 1px);height: 1px;margin: -1px;overflow: hidden;padding: 0;position: absolute;width: 1px;}#sk-container-id-15 div.sk-estimator {font-family: monospace;background-color: #f0f8ff;border: 1px dotted black;border-radius: 0.25em;box-sizing: border-box;margin-bottom: 0.5em;}#sk-container-id-15 div.sk-estimator:hover {background-color: #d4ebff;}#sk-container-id-15 div.sk-parallel-item::after {content: \"\";width: 100%;border-bottom: 1px solid gray;flex-grow: 1;}#sk-container-id-15 div.sk-label:hover label.sk-toggleable__label {background-color: #d4ebff;}#sk-container-id-15 div.sk-serial::before {content: \"\";position: absolute;border-left: 1px solid gray;box-sizing: border-box;top: 0;bottom: 0;left: 50%;z-index: 0;}#sk-container-id-15 div.sk-serial {display: flex;flex-direction: column;align-items: center;background-color: white;padding-right: 0.2em;padding-left: 0.2em;position: relative;}#sk-container-id-15 div.sk-item {position: relative;z-index: 1;}#sk-container-id-15 div.sk-parallel {display: flex;align-items: stretch;justify-content: center;background-color: white;position: relative;}#sk-container-id-15 div.sk-item::before, #sk-container-id-15 div.sk-parallel-item::before {content: \"\";position: absolute;border-left: 1px solid gray;box-sizing: border-box;top: 0;bottom: 0;left: 50%;z-index: -1;}#sk-container-id-15 div.sk-parallel-item {display: flex;flex-direction: column;z-index: 1;position: relative;background-color: white;}#sk-container-id-15 div.sk-parallel-item:first-child::after {align-self: flex-end;width: 50%;}#sk-container-id-15 div.sk-parallel-item:last-child::after {align-self: flex-start;width: 50%;}#sk-container-id-15 div.sk-parallel-item:only-child::after {width: 0;}#sk-container-id-15 div.sk-dashed-wrapped {border: 1px dashed gray;margin: 0 0.4em 0.5em 0.4em;box-sizing: border-box;padding-bottom: 0.4em;background-color: white;}#sk-container-id-15 div.sk-label label {font-family: monospace;font-weight: bold;display: inline-block;line-height: 1.2em;}#sk-container-id-15 div.sk-label-container {text-align: center;}#sk-container-id-15 div.sk-container {/* jupyter's `normalize.less` sets `[hidden] { display: none; }` but bootstrap.min.css set `[hidden] { display: none !important; }` so we also need the `!important` here to be able to override the default hidden behavior on the sphinx rendered scikit-learn.org. See: https://github.com/scikit-learn/scikit-learn/issues/21755 */display: inline-block !important;position: relative;}#sk-container-id-15 div.sk-text-repr-fallback {display: none;}</style><div id=\"sk-container-id-15\" class=\"sk-top-container\"><div class=\"sk-text-repr-fallback\"><pre>Pipeline(steps=[(&#x27;standardscaler&#x27;, StandardScaler()),\n",
       "                (&#x27;lassocv&#x27;, LassoCV(cv=10))])</pre><b>In a Jupyter environment, please rerun this cell to show the HTML representation or trust the notebook. <br />On GitHub, the HTML representation is unable to render, please try loading this page with nbviewer.org.</b></div><div class=\"sk-container\" hidden><div class=\"sk-item sk-dashed-wrapped\"><div class=\"sk-label-container\"><div class=\"sk-label sk-toggleable\"><input class=\"sk-toggleable__control sk-hidden--visually\" id=\"sk-estimator-id-36\" type=\"checkbox\" ><label for=\"sk-estimator-id-36\" class=\"sk-toggleable__label sk-toggleable__label-arrow\">Pipeline</label><div class=\"sk-toggleable__content\"><pre>Pipeline(steps=[(&#x27;standardscaler&#x27;, StandardScaler()),\n",
       "                (&#x27;lassocv&#x27;, LassoCV(cv=10))])</pre></div></div></div><div class=\"sk-serial\"><div class=\"sk-item\"><div class=\"sk-estimator sk-toggleable\"><input class=\"sk-toggleable__control sk-hidden--visually\" id=\"sk-estimator-id-37\" type=\"checkbox\" ><label for=\"sk-estimator-id-37\" class=\"sk-toggleable__label sk-toggleable__label-arrow\">StandardScaler</label><div class=\"sk-toggleable__content\"><pre>StandardScaler()</pre></div></div></div><div class=\"sk-item\"><div class=\"sk-estimator sk-toggleable\"><input class=\"sk-toggleable__control sk-hidden--visually\" id=\"sk-estimator-id-38\" type=\"checkbox\" ><label for=\"sk-estimator-id-38\" class=\"sk-toggleable__label sk-toggleable__label-arrow\">LassoCV</label><div class=\"sk-toggleable__content\"><pre>LassoCV(cv=10)</pre></div></div></div></div></div></div></div>"
      ],
      "text/plain": [
       "Pipeline(steps=[('standardscaler', StandardScaler()),\n",
       "                ('lassocv', LassoCV(cv=10))])"
      ]
     },
     "execution_count": 180,
     "metadata": {},
     "output_type": "execute_result"
    }
   ],
   "source": [
    "# inny sposób (ale nie działa dla siatki wielowymiarowej):\n",
    "\n",
    "lassocv = make_pipeline(StandardScaler(), LassoCV(cv=10))\n",
    "lassocv.fit(X_train, y_train)"
   ]
  },
  {
   "cell_type": "code",
   "execution_count": 183,
   "metadata": {
    "ExecuteTime": {
     "end_time": "2023-06-03T16:08:16.827611Z",
     "start_time": "2023-06-03T16:08:16.821261Z"
    }
   },
   "outputs": [
    {
     "data": {
      "text/plain": [
       "0.01707484919331912"
      ]
     },
     "execution_count": 183,
     "metadata": {},
     "output_type": "execute_result"
    }
   ],
   "source": [
    "lassocv['lassocv'].alpha_  # inny wynik, ale dużo szybsze obliczenia!"
   ]
  },
  {
   "cell_type": "code",
   "execution_count": 158,
   "metadata": {
    "ExecuteTime": {
     "end_time": "2023-06-03T14:55:38.595963Z",
     "start_time": "2023-06-03T14:55:38.582382Z"
    }
   },
   "outputs": [],
   "source": [
    "# Lasso z najlepszym parametrem alpha\n",
    "\n",
    "lasso = make_pipeline(StandardScaler(), Lasso(alpha=grid.best_params_['lasso__alpha']))\n",
    "fitted_lasso = lasso.fit(X_train, y_train)"
   ]
  },
  {
   "cell_type": "code",
   "execution_count": 159,
   "metadata": {
    "ExecuteTime": {
     "end_time": "2023-06-03T14:55:41.106662Z",
     "start_time": "2023-06-03T14:55:41.082578Z"
    }
   },
   "outputs": [
    {
     "name": "stdout",
     "output_type": "stream",
     "text": [
      "MSE 20.184404419210235\n",
      "MAE 3.1210836776924777\n",
      "mAE 2.3047299300515647\n"
     ]
    }
   ],
   "source": [
    "# dopasowanie na zbiorze treningowym\n",
    "\n",
    "print('MSE', metrics.mean_squared_error(y_train, fitted_lasso.predict(X_train)))\n",
    "print('MAE', metrics.mean_absolute_error(y_train, fitted_lasso.predict(X_train)))\n",
    "print('mAE', metrics.median_absolute_error(y_train, fitted_lasso.predict(X_train)))"
   ]
  },
  {
   "cell_type": "code",
   "execution_count": 160,
   "metadata": {
    "ExecuteTime": {
     "end_time": "2023-06-03T14:55:42.813938Z",
     "start_time": "2023-06-03T14:55:42.794716Z"
    }
   },
   "outputs": [
    {
     "name": "stdout",
     "output_type": "stream",
     "text": [
      "MSE 28.413256774673144\n",
      "MAE 3.6905530510930475\n",
      "mAE 2.711400663611766\n"
     ]
    }
   ],
   "source": [
    "# predykcja na zbiorze testowym\n",
    "\n",
    "print('MSE', metrics.mean_squared_error(y_test, fitted_lasso.predict(X_test)))\n",
    "print('MAE', metrics.mean_absolute_error(y_test, fitted_lasso.predict(X_test)))\n",
    "print('mAE', metrics.median_absolute_error(y_test, fitted_lasso.predict(X_test)))"
   ]
  },
  {
   "cell_type": "markdown",
   "metadata": {
    "id": "0j0OTW4VAdyL"
   },
   "source": [
    "## Model regresji wielomianowej\n",
    "\n",
    "7. Dopasuj model regresji wielomianowej:\n",
    "        \n",
    "    a) Znajdź optymalny stopień wielomianu.\n",
    "    \n",
    "    b) Zweryfikuj dopasowanie modelu, sporządź wykresy diagnostyczne.\n",
    "    \n",
    "    c) Zastosuj regularyzację znajdując najlepszy parametr $\\alpha$."
   ]
  },
  {
   "cell_type": "markdown",
   "metadata": {},
   "source": [
    "### Regresja wielomianowa"
   ]
  },
  {
   "cell_type": "code",
   "execution_count": 167,
   "metadata": {
    "ExecuteTime": {
     "end_time": "2023-06-03T15:07:40.319795Z",
     "start_time": "2023-06-03T15:07:37.923596Z"
    }
   },
   "outputs": [
    {
     "name": "stdout",
     "output_type": "stream",
     "text": [
      "{'polynomialfeatures__degree': 2}\n"
     ]
    }
   ],
   "source": [
    "estimator_degree = make_pipeline(PolynomialFeatures(), LinearRegression())\n",
    "\n",
    "grid = GridSearchCV(estimator=estimator_degree,\n",
    "                    param_grid={'polynomialfeatures__degree': np.arange(1, 5)},\n",
    "                    scoring = 'neg_median_absolute_error',\n",
    "                    cv = 10\n",
    "                   )\n",
    "\n",
    "grid.fit(X=X_train, y=y_train)\n",
    "print(grid.best_params_)  # najlepszy stopień wielomianu (UWAGA: zależy od użytego argmentu 'scoring')"
   ]
  },
  {
   "cell_type": "code",
   "execution_count": 192,
   "metadata": {
    "ExecuteTime": {
     "end_time": "2023-06-03T16:19:11.081535Z",
     "start_time": "2023-06-03T16:19:11.052791Z"
    }
   },
   "outputs": [
    {
     "data": {
      "text/html": [
       "<style>#sk-container-id-20 {color: black;background-color: white;}#sk-container-id-20 pre{padding: 0;}#sk-container-id-20 div.sk-toggleable {background-color: white;}#sk-container-id-20 label.sk-toggleable__label {cursor: pointer;display: block;width: 100%;margin-bottom: 0;padding: 0.3em;box-sizing: border-box;text-align: center;}#sk-container-id-20 label.sk-toggleable__label-arrow:before {content: \"▸\";float: left;margin-right: 0.25em;color: #696969;}#sk-container-id-20 label.sk-toggleable__label-arrow:hover:before {color: black;}#sk-container-id-20 div.sk-estimator:hover label.sk-toggleable__label-arrow:before {color: black;}#sk-container-id-20 div.sk-toggleable__content {max-height: 0;max-width: 0;overflow: hidden;text-align: left;background-color: #f0f8ff;}#sk-container-id-20 div.sk-toggleable__content pre {margin: 0.2em;color: black;border-radius: 0.25em;background-color: #f0f8ff;}#sk-container-id-20 input.sk-toggleable__control:checked~div.sk-toggleable__content {max-height: 200px;max-width: 100%;overflow: auto;}#sk-container-id-20 input.sk-toggleable__control:checked~label.sk-toggleable__label-arrow:before {content: \"▾\";}#sk-container-id-20 div.sk-estimator input.sk-toggleable__control:checked~label.sk-toggleable__label {background-color: #d4ebff;}#sk-container-id-20 div.sk-label input.sk-toggleable__control:checked~label.sk-toggleable__label {background-color: #d4ebff;}#sk-container-id-20 input.sk-hidden--visually {border: 0;clip: rect(1px 1px 1px 1px);clip: rect(1px, 1px, 1px, 1px);height: 1px;margin: -1px;overflow: hidden;padding: 0;position: absolute;width: 1px;}#sk-container-id-20 div.sk-estimator {font-family: monospace;background-color: #f0f8ff;border: 1px dotted black;border-radius: 0.25em;box-sizing: border-box;margin-bottom: 0.5em;}#sk-container-id-20 div.sk-estimator:hover {background-color: #d4ebff;}#sk-container-id-20 div.sk-parallel-item::after {content: \"\";width: 100%;border-bottom: 1px solid gray;flex-grow: 1;}#sk-container-id-20 div.sk-label:hover label.sk-toggleable__label {background-color: #d4ebff;}#sk-container-id-20 div.sk-serial::before {content: \"\";position: absolute;border-left: 1px solid gray;box-sizing: border-box;top: 0;bottom: 0;left: 50%;z-index: 0;}#sk-container-id-20 div.sk-serial {display: flex;flex-direction: column;align-items: center;background-color: white;padding-right: 0.2em;padding-left: 0.2em;position: relative;}#sk-container-id-20 div.sk-item {position: relative;z-index: 1;}#sk-container-id-20 div.sk-parallel {display: flex;align-items: stretch;justify-content: center;background-color: white;position: relative;}#sk-container-id-20 div.sk-item::before, #sk-container-id-20 div.sk-parallel-item::before {content: \"\";position: absolute;border-left: 1px solid gray;box-sizing: border-box;top: 0;bottom: 0;left: 50%;z-index: -1;}#sk-container-id-20 div.sk-parallel-item {display: flex;flex-direction: column;z-index: 1;position: relative;background-color: white;}#sk-container-id-20 div.sk-parallel-item:first-child::after {align-self: flex-end;width: 50%;}#sk-container-id-20 div.sk-parallel-item:last-child::after {align-self: flex-start;width: 50%;}#sk-container-id-20 div.sk-parallel-item:only-child::after {width: 0;}#sk-container-id-20 div.sk-dashed-wrapped {border: 1px dashed gray;margin: 0 0.4em 0.5em 0.4em;box-sizing: border-box;padding-bottom: 0.4em;background-color: white;}#sk-container-id-20 div.sk-label label {font-family: monospace;font-weight: bold;display: inline-block;line-height: 1.2em;}#sk-container-id-20 div.sk-label-container {text-align: center;}#sk-container-id-20 div.sk-container {/* jupyter's `normalize.less` sets `[hidden] { display: none; }` but bootstrap.min.css set `[hidden] { display: none !important; }` so we also need the `!important` here to be able to override the default hidden behavior on the sphinx rendered scikit-learn.org. See: https://github.com/scikit-learn/scikit-learn/issues/21755 */display: inline-block !important;position: relative;}#sk-container-id-20 div.sk-text-repr-fallback {display: none;}</style><div id=\"sk-container-id-20\" class=\"sk-top-container\"><div class=\"sk-text-repr-fallback\"><pre>Pipeline(steps=[(&#x27;polynomialfeatures&#x27;, PolynomialFeatures()),\n",
       "                (&#x27;linearregression&#x27;, LinearRegression())])</pre><b>In a Jupyter environment, please rerun this cell to show the HTML representation or trust the notebook. <br />On GitHub, the HTML representation is unable to render, please try loading this page with nbviewer.org.</b></div><div class=\"sk-container\" hidden><div class=\"sk-item sk-dashed-wrapped\"><div class=\"sk-label-container\"><div class=\"sk-label sk-toggleable\"><input class=\"sk-toggleable__control sk-hidden--visually\" id=\"sk-estimator-id-49\" type=\"checkbox\" ><label for=\"sk-estimator-id-49\" class=\"sk-toggleable__label sk-toggleable__label-arrow\">Pipeline</label><div class=\"sk-toggleable__content\"><pre>Pipeline(steps=[(&#x27;polynomialfeatures&#x27;, PolynomialFeatures()),\n",
       "                (&#x27;linearregression&#x27;, LinearRegression())])</pre></div></div></div><div class=\"sk-serial\"><div class=\"sk-item\"><div class=\"sk-estimator sk-toggleable\"><input class=\"sk-toggleable__control sk-hidden--visually\" id=\"sk-estimator-id-50\" type=\"checkbox\" ><label for=\"sk-estimator-id-50\" class=\"sk-toggleable__label sk-toggleable__label-arrow\">PolynomialFeatures</label><div class=\"sk-toggleable__content\"><pre>PolynomialFeatures()</pre></div></div></div><div class=\"sk-item\"><div class=\"sk-estimator sk-toggleable\"><input class=\"sk-toggleable__control sk-hidden--visually\" id=\"sk-estimator-id-51\" type=\"checkbox\" ><label for=\"sk-estimator-id-51\" class=\"sk-toggleable__label sk-toggleable__label-arrow\">LinearRegression</label><div class=\"sk-toggleable__content\"><pre>LinearRegression()</pre></div></div></div></div></div></div></div>"
      ],
      "text/plain": [
       "Pipeline(steps=[('polynomialfeatures', PolynomialFeatures()),\n",
       "                ('linearregression', LinearRegression())])"
      ]
     },
     "execution_count": 192,
     "metadata": {},
     "output_type": "execute_result"
    }
   ],
   "source": [
    "estimator_degree = make_pipeline(PolynomialFeatures(degree=2), LinearRegression())\n",
    "estimator_degree.fit(X=X_train, y=y_train)"
   ]
  },
  {
   "cell_type": "code",
   "execution_count": 177,
   "metadata": {
    "ExecuteTime": {
     "end_time": "2023-06-03T15:54:19.340125Z",
     "start_time": "2023-06-03T15:54:19.312254Z"
    }
   },
   "outputs": [
    {
     "name": "stdout",
     "output_type": "stream",
     "text": [
      "MSE 5.762505467241369\n",
      "MAE 1.8074838952156107\n",
      "mAE 1.4391179621219656\n"
     ]
    }
   ],
   "source": [
    "# dopasowanie na zbiorze treningowym\n",
    "\n",
    "print('MSE', metrics.mean_squared_error(y_train, estimator_degree.predict(X_train)))\n",
    "print('MAE', metrics.mean_absolute_error(y_train, estimator_degree.predict(X_train)))\n",
    "print('mAE', metrics.median_absolute_error(y_train, estimator_degree.predict(X_train)))"
   ]
  },
  {
   "cell_type": "code",
   "execution_count": 172,
   "metadata": {
    "ExecuteTime": {
     "end_time": "2023-06-03T15:51:17.590244Z",
     "start_time": "2023-06-03T15:51:17.547689Z"
    }
   },
   "outputs": [
    {
     "name": "stdout",
     "output_type": "stream",
     "text": [
      "MSE 22.83623305025278\n",
      "MAE 3.022858551615163\n",
      "mAE 2.322455102205277\n"
     ]
    }
   ],
   "source": [
    "# predykcja na zbiorze testowym\n",
    "\n",
    "print('MSE', metrics.mean_squared_error(y_test, estimator_degree.predict(X_test)))\n",
    "print('MAE', metrics.mean_absolute_error(y_test, estimator_degree.predict(X_test)))\n",
    "print('mAE', metrics.median_absolute_error(y_test, estimator_degree.predict(X_test)))"
   ]
  },
  {
   "cell_type": "code",
   "execution_count": 184,
   "metadata": {
    "ExecuteTime": {
     "end_time": "2023-06-03T16:11:23.988634Z",
     "start_time": "2023-06-03T16:11:23.799676Z"
    }
   },
   "outputs": [
    {
     "data": {
      "image/png": "[encoded data removed]",
      "text/plain": [
       "<Figure size 432x288 with 1 Axes>"
      ]
     },
     "metadata": {
      "needs_background": "light"
     },
     "output_type": "display_data"
    }
   ],
   "source": [
    "Ylin = np.linspace(y_train.min(), y_train.max(), 100)\n",
    "plt.scatter(y_train, estimator_degree.predict(X_train))\n",
    "plt.plot(Ylin, Ylin, color='red')\n",
    "plt.show()"
   ]
  },
  {
   "cell_type": "markdown",
   "metadata": {},
   "source": [
    "### Regularyzacja"
   ]
  },
  {
   "cell_type": "code",
   "execution_count": 195,
   "metadata": {
    "ExecuteTime": {
     "end_time": "2023-06-03T16:31:03.611350Z",
     "start_time": "2023-06-03T16:31:03.600831Z"
    }
   },
   "outputs": [
    {
     "data": {
      "text/html": [
       "<style>#sk-container-id-22 {color: black;background-color: white;}#sk-container-id-22 pre{padding: 0;}#sk-container-id-22 div.sk-toggleable {background-color: white;}#sk-container-id-22 label.sk-toggleable__label {cursor: pointer;display: block;width: 100%;margin-bottom: 0;padding: 0.3em;box-sizing: border-box;text-align: center;}#sk-container-id-22 label.sk-toggleable__label-arrow:before {content: \"▸\";float: left;margin-right: 0.25em;color: #696969;}#sk-container-id-22 label.sk-toggleable__label-arrow:hover:before {color: black;}#sk-container-id-22 div.sk-estimator:hover label.sk-toggleable__label-arrow:before {color: black;}#sk-container-id-22 div.sk-toggleable__content {max-height: 0;max-width: 0;overflow: hidden;text-align: left;background-color: #f0f8ff;}#sk-container-id-22 div.sk-toggleable__content pre {margin: 0.2em;color: black;border-radius: 0.25em;background-color: #f0f8ff;}#sk-container-id-22 input.sk-toggleable__control:checked~div.sk-toggleable__content {max-height: 200px;max-width: 100%;overflow: auto;}#sk-container-id-22 input.sk-toggleable__control:checked~label.sk-toggleable__label-arrow:before {content: \"▾\";}#sk-container-id-22 div.sk-estimator input.sk-toggleable__control:checked~label.sk-toggleable__label {background-color: #d4ebff;}#sk-container-id-22 div.sk-label input.sk-toggleable__control:checked~label.sk-toggleable__label {background-color: #d4ebff;}#sk-container-id-22 input.sk-hidden--visually {border: 0;clip: rect(1px 1px 1px 1px);clip: rect(1px, 1px, 1px, 1px);height: 1px;margin: -1px;overflow: hidden;padding: 0;position: absolute;width: 1px;}#sk-container-id-22 div.sk-estimator {font-family: monospace;background-color: #f0f8ff;border: 1px dotted black;border-radius: 0.25em;box-sizing: border-box;margin-bottom: 0.5em;}#sk-container-id-22 div.sk-estimator:hover {background-color: #d4ebff;}#sk-container-id-22 div.sk-parallel-item::after {content: \"\";width: 100%;border-bottom: 1px solid gray;flex-grow: 1;}#sk-container-id-22 div.sk-label:hover label.sk-toggleable__label {background-color: #d4ebff;}#sk-container-id-22 div.sk-serial::before {content: \"\";position: absolute;border-left: 1px solid gray;box-sizing: border-box;top: 0;bottom: 0;left: 50%;z-index: 0;}#sk-container-id-22 div.sk-serial {display: flex;flex-direction: column;align-items: center;background-color: white;padding-right: 0.2em;padding-left: 0.2em;position: relative;}#sk-container-id-22 div.sk-item {position: relative;z-index: 1;}#sk-container-id-22 div.sk-parallel {display: flex;align-items: stretch;justify-content: center;background-color: white;position: relative;}#sk-container-id-22 div.sk-item::before, #sk-container-id-22 div.sk-parallel-item::before {content: \"\";position: absolute;border-left: 1px solid gray;box-sizing: border-box;top: 0;bottom: 0;left: 50%;z-index: -1;}#sk-container-id-22 div.sk-parallel-item {display: flex;flex-direction: column;z-index: 1;position: relative;background-color: white;}#sk-container-id-22 div.sk-parallel-item:first-child::after {align-self: flex-end;width: 50%;}#sk-container-id-22 div.sk-parallel-item:last-child::after {align-self: flex-start;width: 50%;}#sk-container-id-22 div.sk-parallel-item:only-child::after {width: 0;}#sk-container-id-22 div.sk-dashed-wrapped {border: 1px dashed gray;margin: 0 0.4em 0.5em 0.4em;box-sizing: border-box;padding-bottom: 0.4em;background-color: white;}#sk-container-id-22 div.sk-label label {font-family: monospace;font-weight: bold;display: inline-block;line-height: 1.2em;}#sk-container-id-22 div.sk-label-container {text-align: center;}#sk-container-id-22 div.sk-container {/* jupyter's `normalize.less` sets `[hidden] { display: none; }` but bootstrap.min.css set `[hidden] { display: none !important; }` so we also need the `!important` here to be able to override the default hidden behavior on the sphinx rendered scikit-learn.org. See: https://github.com/scikit-learn/scikit-learn/issues/21755 */display: inline-block !important;position: relative;}#sk-container-id-22 div.sk-text-repr-fallback {display: none;}</style><div id=\"sk-container-id-22\" class=\"sk-top-container\"><div class=\"sk-text-repr-fallback\"><pre>Pipeline(steps=[(&#x27;polynomialfeatures&#x27;, PolynomialFeatures(include_bias=False)),\n",
       "                (&#x27;standardscaler&#x27;, StandardScaler()), (&#x27;ridge&#x27;, Ridge())])</pre><b>In a Jupyter environment, please rerun this cell to show the HTML representation or trust the notebook. <br />On GitHub, the HTML representation is unable to render, please try loading this page with nbviewer.org.</b></div><div class=\"sk-container\" hidden><div class=\"sk-item sk-dashed-wrapped\"><div class=\"sk-label-container\"><div class=\"sk-label sk-toggleable\"><input class=\"sk-toggleable__control sk-hidden--visually\" id=\"sk-estimator-id-55\" type=\"checkbox\" ><label for=\"sk-estimator-id-55\" class=\"sk-toggleable__label sk-toggleable__label-arrow\">Pipeline</label><div class=\"sk-toggleable__content\"><pre>Pipeline(steps=[(&#x27;polynomialfeatures&#x27;, PolynomialFeatures(include_bias=False)),\n",
       "                (&#x27;standardscaler&#x27;, StandardScaler()), (&#x27;ridge&#x27;, Ridge())])</pre></div></div></div><div class=\"sk-serial\"><div class=\"sk-item\"><div class=\"sk-estimator sk-toggleable\"><input class=\"sk-toggleable__control sk-hidden--visually\" id=\"sk-estimator-id-56\" type=\"checkbox\" ><label for=\"sk-estimator-id-56\" class=\"sk-toggleable__label sk-toggleable__label-arrow\">PolynomialFeatures</label><div class=\"sk-toggleable__content\"><pre>PolynomialFeatures(include_bias=False)</pre></div></div></div><div class=\"sk-item\"><div class=\"sk-estimator sk-toggleable\"><input class=\"sk-toggleable__control sk-hidden--visually\" id=\"sk-estimator-id-57\" type=\"checkbox\" ><label for=\"sk-estimator-id-57\" class=\"sk-toggleable__label sk-toggleable__label-arrow\">StandardScaler</label><div class=\"sk-toggleable__content\"><pre>StandardScaler()</pre></div></div></div><div class=\"sk-item\"><div class=\"sk-estimator sk-toggleable\"><input class=\"sk-toggleable__control sk-hidden--visually\" id=\"sk-estimator-id-58\" type=\"checkbox\" ><label for=\"sk-estimator-id-58\" class=\"sk-toggleable__label sk-toggleable__label-arrow\">Ridge</label><div class=\"sk-toggleable__content\"><pre>Ridge()</pre></div></div></div></div></div></div></div>"
      ],
      "text/plain": [
       "Pipeline(steps=[('polynomialfeatures', PolynomialFeatures(include_bias=False)),\n",
       "                ('standardscaler', StandardScaler()), ('ridge', Ridge())])"
      ]
     },
     "execution_count": 195,
     "metadata": {},
     "output_type": "execute_result"
    }
   ],
   "source": [
    "poly_ridge_estimator = make_pipeline(PolynomialFeatures(include_bias=False), StandardScaler(), Ridge())\n",
    "poly_ridge_estimator"
   ]
  },
  {
   "cell_type": "code",
   "execution_count": 207,
   "metadata": {
    "ExecuteTime": {
     "end_time": "2023-06-03T16:43:10.281365Z",
     "start_time": "2023-06-03T16:43:02.226548Z"
    }
   },
   "outputs": [
    {
     "data": {
      "text/html": [
       "<style>#sk-container-id-26 {color: black;background-color: white;}#sk-container-id-26 pre{padding: 0;}#sk-container-id-26 div.sk-toggleable {background-color: white;}#sk-container-id-26 label.sk-toggleable__label {cursor: pointer;display: block;width: 100%;margin-bottom: 0;padding: 0.3em;box-sizing: border-box;text-align: center;}#sk-container-id-26 label.sk-toggleable__label-arrow:before {content: \"▸\";float: left;margin-right: 0.25em;color: #696969;}#sk-container-id-26 label.sk-toggleable__label-arrow:hover:before {color: black;}#sk-container-id-26 div.sk-estimator:hover label.sk-toggleable__label-arrow:before {color: black;}#sk-container-id-26 div.sk-toggleable__content {max-height: 0;max-width: 0;overflow: hidden;text-align: left;background-color: #f0f8ff;}#sk-container-id-26 div.sk-toggleable__content pre {margin: 0.2em;color: black;border-radius: 0.25em;background-color: #f0f8ff;}#sk-container-id-26 input.sk-toggleable__control:checked~div.sk-toggleable__content {max-height: 200px;max-width: 100%;overflow: auto;}#sk-container-id-26 input.sk-toggleable__control:checked~label.sk-toggleable__label-arrow:before {content: \"▾\";}#sk-container-id-26 div.sk-estimator input.sk-toggleable__control:checked~label.sk-toggleable__label {background-color: #d4ebff;}#sk-container-id-26 div.sk-label input.sk-toggleable__control:checked~label.sk-toggleable__label {background-color: #d4ebff;}#sk-container-id-26 input.sk-hidden--visually {border: 0;clip: rect(1px 1px 1px 1px);clip: rect(1px, 1px, 1px, 1px);height: 1px;margin: -1px;overflow: hidden;padding: 0;position: absolute;width: 1px;}#sk-container-id-26 div.sk-estimator {font-family: monospace;background-color: #f0f8ff;border: 1px dotted black;border-radius: 0.25em;box-sizing: border-box;margin-bottom: 0.5em;}#sk-container-id-26 div.sk-estimator:hover {background-color: #d4ebff;}#sk-container-id-26 div.sk-parallel-item::after {content: \"\";width: 100%;border-bottom: 1px solid gray;flex-grow: 1;}#sk-container-id-26 div.sk-label:hover label.sk-toggleable__label {background-color: #d4ebff;}#sk-container-id-26 div.sk-serial::before {content: \"\";position: absolute;border-left: 1px solid gray;box-sizing: border-box;top: 0;bottom: 0;left: 50%;z-index: 0;}#sk-container-id-26 div.sk-serial {display: flex;flex-direction: column;align-items: center;background-color: white;padding-right: 0.2em;padding-left: 0.2em;position: relative;}#sk-container-id-26 div.sk-item {position: relative;z-index: 1;}#sk-container-id-26 div.sk-parallel {display: flex;align-items: stretch;justify-content: center;background-color: white;position: relative;}#sk-container-id-26 div.sk-item::before, #sk-container-id-26 div.sk-parallel-item::before {content: \"\";position: absolute;border-left: 1px solid gray;box-sizing: border-box;top: 0;bottom: 0;left: 50%;z-index: -1;}#sk-container-id-26 div.sk-parallel-item {display: flex;flex-direction: column;z-index: 1;position: relative;background-color: white;}#sk-container-id-26 div.sk-parallel-item:first-child::after {align-self: flex-end;width: 50%;}#sk-container-id-26 div.sk-parallel-item:last-child::after {align-self: flex-start;width: 50%;}#sk-container-id-26 div.sk-parallel-item:only-child::after {width: 0;}#sk-container-id-26 div.sk-dashed-wrapped {border: 1px dashed gray;margin: 0 0.4em 0.5em 0.4em;box-sizing: border-box;padding-bottom: 0.4em;background-color: white;}#sk-container-id-26 div.sk-label label {font-family: monospace;font-weight: bold;display: inline-block;line-height: 1.2em;}#sk-container-id-26 div.sk-label-container {text-align: center;}#sk-container-id-26 div.sk-container {/* jupyter's `normalize.less` sets `[hidden] { display: none; }` but bootstrap.min.css set `[hidden] { display: none !important; }` so we also need the `!important` here to be able to override the default hidden behavior on the sphinx rendered scikit-learn.org. See: https://github.com/scikit-learn/scikit-learn/issues/21755 */display: inline-block !important;position: relative;}#sk-container-id-26 div.sk-text-repr-fallback {display: none;}</style><div id=\"sk-container-id-26\" class=\"sk-top-container\"><div class=\"sk-text-repr-fallback\"><pre>GridSearchCV(cv=10,\n",
       "             estimator=Pipeline(steps=[(&#x27;polynomialfeatures&#x27;,\n",
       "                                        PolynomialFeatures(include_bias=False)),\n",
       "                                       (&#x27;standardscaler&#x27;, StandardScaler()),\n",
       "                                       (&#x27;ridge&#x27;, Ridge())]),\n",
       "             param_grid={&#x27;polynomialfeatures__degree&#x27;: [1, 2, 3],\n",
       "                         &#x27;ridge__alpha&#x27;: array([ 5.        ,  5.52631579,  6.05263158,  6.57894737,  7.10526316,\n",
       "        7.63157895,  8.15789474,  8.68421053,  9.21052632,  9.73684211,\n",
       "       10.26315789, 10.78947368, 11.31578947, 11.84210526, 12.36842105,\n",
       "       12.89473684, 13.42105263, 13.94736842, 14.47368421, 15.        ])},\n",
       "             scoring=&#x27;neg_mean_squared_error&#x27;)</pre><b>In a Jupyter environment, please rerun this cell to show the HTML representation or trust the notebook. <br />On GitHub, the HTML representation is unable to render, please try loading this page with nbviewer.org.</b></div><div class=\"sk-container\" hidden><div class=\"sk-item sk-dashed-wrapped\"><div class=\"sk-label-container\"><div class=\"sk-label sk-toggleable\"><input class=\"sk-toggleable__control sk-hidden--visually\" id=\"sk-estimator-id-74\" type=\"checkbox\" ><label for=\"sk-estimator-id-74\" class=\"sk-toggleable__label sk-toggleable__label-arrow\">GridSearchCV</label><div class=\"sk-toggleable__content\"><pre>GridSearchCV(cv=10,\n",
       "             estimator=Pipeline(steps=[(&#x27;polynomialfeatures&#x27;,\n",
       "                                        PolynomialFeatures(include_bias=False)),\n",
       "                                       (&#x27;standardscaler&#x27;, StandardScaler()),\n",
       "                                       (&#x27;ridge&#x27;, Ridge())]),\n",
       "             param_grid={&#x27;polynomialfeatures__degree&#x27;: [1, 2, 3],\n",
       "                         &#x27;ridge__alpha&#x27;: array([ 5.        ,  5.52631579,  6.05263158,  6.57894737,  7.10526316,\n",
       "        7.63157895,  8.15789474,  8.68421053,  9.21052632,  9.73684211,\n",
       "       10.26315789, 10.78947368, 11.31578947, 11.84210526, 12.36842105,\n",
       "       12.89473684, 13.42105263, 13.94736842, 14.47368421, 15.        ])},\n",
       "             scoring=&#x27;neg_mean_squared_error&#x27;)</pre></div></div></div><div class=\"sk-parallel\"><div class=\"sk-parallel-item\"><div class=\"sk-item\"><div class=\"sk-label-container\"><div class=\"sk-label sk-toggleable\"><input class=\"sk-toggleable__control sk-hidden--visually\" id=\"sk-estimator-id-75\" type=\"checkbox\" ><label for=\"sk-estimator-id-75\" class=\"sk-toggleable__label sk-toggleable__label-arrow\">estimator: Pipeline</label><div class=\"sk-toggleable__content\"><pre>Pipeline(steps=[(&#x27;polynomialfeatures&#x27;, PolynomialFeatures(include_bias=False)),\n",
       "                (&#x27;standardscaler&#x27;, StandardScaler()), (&#x27;ridge&#x27;, Ridge())])</pre></div></div></div><div class=\"sk-serial\"><div class=\"sk-item\"><div class=\"sk-serial\"><div class=\"sk-item\"><div class=\"sk-estimator sk-toggleable\"><input class=\"sk-toggleable__control sk-hidden--visually\" id=\"sk-estimator-id-76\" type=\"checkbox\" ><label for=\"sk-estimator-id-76\" class=\"sk-toggleable__label sk-toggleable__label-arrow\">PolynomialFeatures</label><div class=\"sk-toggleable__content\"><pre>PolynomialFeatures(include_bias=False)</pre></div></div></div><div class=\"sk-item\"><div class=\"sk-estimator sk-toggleable\"><input class=\"sk-toggleable__control sk-hidden--visually\" id=\"sk-estimator-id-77\" type=\"checkbox\" ><label for=\"sk-estimator-id-77\" class=\"sk-toggleable__label sk-toggleable__label-arrow\">StandardScaler</label><div class=\"sk-toggleable__content\"><pre>StandardScaler()</pre></div></div></div><div class=\"sk-item\"><div class=\"sk-estimator sk-toggleable\"><input class=\"sk-toggleable__control sk-hidden--visually\" id=\"sk-estimator-id-78\" type=\"checkbox\" ><label for=\"sk-estimator-id-78\" class=\"sk-toggleable__label sk-toggleable__label-arrow\">Ridge</label><div class=\"sk-toggleable__content\"><pre>Ridge()</pre></div></div></div></div></div></div></div></div></div></div></div></div>"
      ],
      "text/plain": [
       "GridSearchCV(cv=10,\n",
       "             estimator=Pipeline(steps=[('polynomialfeatures',\n",
       "                                        PolynomialFeatures(include_bias=False)),\n",
       "                                       ('standardscaler', StandardScaler()),\n",
       "                                       ('ridge', Ridge())]),\n",
       "             param_grid={'polynomialfeatures__degree': [1, 2, 3],\n",
       "                         'ridge__alpha': array([ 5.        ,  5.52631579,  6.05263158,  6.57894737,  7.10526316,\n",
       "        7.63157895,  8.15789474,  8.68421053,  9.21052632,  9.73684211,\n",
       "       10.26315789, 10.78947368, 11.31578947, 11.84210526, 12.36842105,\n",
       "       12.89473684, 13.42105263, 13.94736842, 14.47368421, 15.        ])},\n",
       "             scoring='neg_mean_squared_error')"
      ]
     },
     "execution_count": 207,
     "metadata": {},
     "output_type": "execute_result"
    }
   ],
   "source": [
    "grid2 = GridSearchCV(estimator=poly_ridge_estimator,\n",
    "                     param_grid={'polynomialfeatures__degree': [1, 2, 3],\n",
    "                                 'ridge__alpha': np.linspace(5, 15, 20)\n",
    "                                },\n",
    "                     scoring='neg_mean_squared_error',\n",
    "                     cv=10\n",
    "                     )\n",
    "\n",
    "grid2.fit(X_train, y_train)"
   ]
  },
  {
   "cell_type": "code",
   "execution_count": 208,
   "metadata": {
    "ExecuteTime": {
     "end_time": "2023-06-03T16:43:13.350961Z",
     "start_time": "2023-06-03T16:43:13.344247Z"
    }
   },
   "outputs": [
    {
     "data": {
      "text/plain": [
       "{'polynomialfeatures__degree': 3, 'ridge__alpha': 11.31578947368421}"
      ]
     },
     "execution_count": 208,
     "metadata": {},
     "output_type": "execute_result"
    }
   ],
   "source": [
    "grid2.best_params_ # optymalne parametry"
   ]
  },
  {
   "cell_type": "code",
   "execution_count": 209,
   "metadata": {
    "ExecuteTime": {
     "end_time": "2023-06-03T16:43:15.247645Z",
     "start_time": "2023-06-03T16:43:15.202119Z"
    }
   },
   "outputs": [
    {
     "data": {
      "text/html": [
       "<style>#sk-container-id-27 {color: black;background-color: white;}#sk-container-id-27 pre{padding: 0;}#sk-container-id-27 div.sk-toggleable {background-color: white;}#sk-container-id-27 label.sk-toggleable__label {cursor: pointer;display: block;width: 100%;margin-bottom: 0;padding: 0.3em;box-sizing: border-box;text-align: center;}#sk-container-id-27 label.sk-toggleable__label-arrow:before {content: \"▸\";float: left;margin-right: 0.25em;color: #696969;}#sk-container-id-27 label.sk-toggleable__label-arrow:hover:before {color: black;}#sk-container-id-27 div.sk-estimator:hover label.sk-toggleable__label-arrow:before {color: black;}#sk-container-id-27 div.sk-toggleable__content {max-height: 0;max-width: 0;overflow: hidden;text-align: left;background-color: #f0f8ff;}#sk-container-id-27 div.sk-toggleable__content pre {margin: 0.2em;color: black;border-radius: 0.25em;background-color: #f0f8ff;}#sk-container-id-27 input.sk-toggleable__control:checked~div.sk-toggleable__content {max-height: 200px;max-width: 100%;overflow: auto;}#sk-container-id-27 input.sk-toggleable__control:checked~label.sk-toggleable__label-arrow:before {content: \"▾\";}#sk-container-id-27 div.sk-estimator input.sk-toggleable__control:checked~label.sk-toggleable__label {background-color: #d4ebff;}#sk-container-id-27 div.sk-label input.sk-toggleable__control:checked~label.sk-toggleable__label {background-color: #d4ebff;}#sk-container-id-27 input.sk-hidden--visually {border: 0;clip: rect(1px 1px 1px 1px);clip: rect(1px, 1px, 1px, 1px);height: 1px;margin: -1px;overflow: hidden;padding: 0;position: absolute;width: 1px;}#sk-container-id-27 div.sk-estimator {font-family: monospace;background-color: #f0f8ff;border: 1px dotted black;border-radius: 0.25em;box-sizing: border-box;margin-bottom: 0.5em;}#sk-container-id-27 div.sk-estimator:hover {background-color: #d4ebff;}#sk-container-id-27 div.sk-parallel-item::after {content: \"\";width: 100%;border-bottom: 1px solid gray;flex-grow: 1;}#sk-container-id-27 div.sk-label:hover label.sk-toggleable__label {background-color: #d4ebff;}#sk-container-id-27 div.sk-serial::before {content: \"\";position: absolute;border-left: 1px solid gray;box-sizing: border-box;top: 0;bottom: 0;left: 50%;z-index: 0;}#sk-container-id-27 div.sk-serial {display: flex;flex-direction: column;align-items: center;background-color: white;padding-right: 0.2em;padding-left: 0.2em;position: relative;}#sk-container-id-27 div.sk-item {position: relative;z-index: 1;}#sk-container-id-27 div.sk-parallel {display: flex;align-items: stretch;justify-content: center;background-color: white;position: relative;}#sk-container-id-27 div.sk-item::before, #sk-container-id-27 div.sk-parallel-item::before {content: \"\";position: absolute;border-left: 1px solid gray;box-sizing: border-box;top: 0;bottom: 0;left: 50%;z-index: -1;}#sk-container-id-27 div.sk-parallel-item {display: flex;flex-direction: column;z-index: 1;position: relative;background-color: white;}#sk-container-id-27 div.sk-parallel-item:first-child::after {align-self: flex-end;width: 50%;}#sk-container-id-27 div.sk-parallel-item:last-child::after {align-self: flex-start;width: 50%;}#sk-container-id-27 div.sk-parallel-item:only-child::after {width: 0;}#sk-container-id-27 div.sk-dashed-wrapped {border: 1px dashed gray;margin: 0 0.4em 0.5em 0.4em;box-sizing: border-box;padding-bottom: 0.4em;background-color: white;}#sk-container-id-27 div.sk-label label {font-family: monospace;font-weight: bold;display: inline-block;line-height: 1.2em;}#sk-container-id-27 div.sk-label-container {text-align: center;}#sk-container-id-27 div.sk-container {/* jupyter's `normalize.less` sets `[hidden] { display: none; }` but bootstrap.min.css set `[hidden] { display: none !important; }` so we also need the `!important` here to be able to override the default hidden behavior on the sphinx rendered scikit-learn.org. See: https://github.com/scikit-learn/scikit-learn/issues/21755 */display: inline-block !important;position: relative;}#sk-container-id-27 div.sk-text-repr-fallback {display: none;}</style><div id=\"sk-container-id-27\" class=\"sk-top-container\"><div class=\"sk-text-repr-fallback\"><pre>Pipeline(steps=[(&#x27;polynomialfeatures&#x27;, PolynomialFeatures(degree=3)),\n",
       "                (&#x27;standardscaler&#x27;, StandardScaler()),\n",
       "                (&#x27;ridge&#x27;, Ridge(alpha=11.31578947368421))])</pre><b>In a Jupyter environment, please rerun this cell to show the HTML representation or trust the notebook. <br />On GitHub, the HTML representation is unable to render, please try loading this page with nbviewer.org.</b></div><div class=\"sk-container\" hidden><div class=\"sk-item sk-dashed-wrapped\"><div class=\"sk-label-container\"><div class=\"sk-label sk-toggleable\"><input class=\"sk-toggleable__control sk-hidden--visually\" id=\"sk-estimator-id-79\" type=\"checkbox\" ><label for=\"sk-estimator-id-79\" class=\"sk-toggleable__label sk-toggleable__label-arrow\">Pipeline</label><div class=\"sk-toggleable__content\"><pre>Pipeline(steps=[(&#x27;polynomialfeatures&#x27;, PolynomialFeatures(degree=3)),\n",
       "                (&#x27;standardscaler&#x27;, StandardScaler()),\n",
       "                (&#x27;ridge&#x27;, Ridge(alpha=11.31578947368421))])</pre></div></div></div><div class=\"sk-serial\"><div class=\"sk-item\"><div class=\"sk-estimator sk-toggleable\"><input class=\"sk-toggleable__control sk-hidden--visually\" id=\"sk-estimator-id-80\" type=\"checkbox\" ><label for=\"sk-estimator-id-80\" class=\"sk-toggleable__label sk-toggleable__label-arrow\">PolynomialFeatures</label><div class=\"sk-toggleable__content\"><pre>PolynomialFeatures(degree=3)</pre></div></div></div><div class=\"sk-item\"><div class=\"sk-estimator sk-toggleable\"><input class=\"sk-toggleable__control sk-hidden--visually\" id=\"sk-estimator-id-81\" type=\"checkbox\" ><label for=\"sk-estimator-id-81\" class=\"sk-toggleable__label sk-toggleable__label-arrow\">StandardScaler</label><div class=\"sk-toggleable__content\"><pre>StandardScaler()</pre></div></div></div><div class=\"sk-item\"><div class=\"sk-estimator sk-toggleable\"><input class=\"sk-toggleable__control sk-hidden--visually\" id=\"sk-estimator-id-82\" type=\"checkbox\" ><label for=\"sk-estimator-id-82\" class=\"sk-toggleable__label sk-toggleable__label-arrow\">Ridge</label><div class=\"sk-toggleable__content\"><pre>Ridge(alpha=11.31578947368421)</pre></div></div></div></div></div></div></div>"
      ],
      "text/plain": [
       "Pipeline(steps=[('polynomialfeatures', PolynomialFeatures(degree=3)),\n",
       "                ('standardscaler', StandardScaler()),\n",
       "                ('ridge', Ridge(alpha=11.31578947368421))])"
      ]
     },
     "execution_count": 209,
     "metadata": {},
     "output_type": "execute_result"
    }
   ],
   "source": [
    "ridge_poly = make_pipeline(PolynomialFeatures(degree=3), StandardScaler(), Ridge(alpha=grid2.best_params_['ridge__alpha']))\n",
    "ridge_poly.fit(X_train, y_train)"
   ]
  },
  {
   "cell_type": "code",
   "execution_count": 210,
   "metadata": {
    "ExecuteTime": {
     "end_time": "2023-06-03T16:43:33.572114Z",
     "start_time": "2023-06-03T16:43:33.530788Z"
    }
   },
   "outputs": [
    {
     "name": "stdout",
     "output_type": "stream",
     "text": [
      "MSE 6.5854787475955545\n",
      "MAE 1.8078592028404077\n",
      "mAE 1.2506970009136538\n"
     ]
    }
   ],
   "source": [
    "# dopasowanie na zbiorze treningowym\n",
    "\n",
    "print('MSE', metrics.mean_squared_error(y_train, ridge_poly.predict(X_train)))\n",
    "print('MAE', metrics.mean_absolute_error(y_train, ridge_poly.predict(X_train)))\n",
    "print('mAE', metrics.median_absolute_error(y_train, ridge_poly.predict(X_train)))"
   ]
  },
  {
   "cell_type": "code",
   "execution_count": 211,
   "metadata": {
    "ExecuteTime": {
     "end_time": "2023-06-03T16:43:35.493568Z",
     "start_time": "2023-06-03T16:43:35.446932Z"
    }
   },
   "outputs": [
    {
     "name": "stdout",
     "output_type": "stream",
     "text": [
      "MSE 16.725851496001347\n",
      "MAE 2.5175894953917735\n",
      "mAE 1.6628086791066323\n"
     ]
    }
   ],
   "source": [
    "# predykcja na zbiorze testowym\n",
    "\n",
    "print('MSE', metrics.mean_squared_error(y_test, ridge_poly.predict(X_test)))\n",
    "print('MAE', metrics.mean_absolute_error(y_test, ridge_poly.predict(X_test)))\n",
    "print('mAE', metrics.median_absolute_error(y_test, ridge_poly.predict(X_test)))"
   ]
  },
  {
   "cell_type": "code",
   "execution_count": 212,
   "metadata": {
    "ExecuteTime": {
     "end_time": "2023-06-03T16:43:39.742234Z",
     "start_time": "2023-06-03T16:43:39.592312Z"
    }
   },
   "outputs": [
    {
     "data": {
      "image/png": "[encoded data removed]",
      "text/plain": [
       "<Figure size 432x288 with 1 Axes>"
      ]
     },
     "metadata": {
      "needs_background": "light"
     },
     "output_type": "display_data"
    }
   ],
   "source": [
    "Ylin = np.linspace(y_train.min(), y_train.max(), 100)\n",
    "plt.scatter(y_train, ridge_poly.predict(X_train))\n",
    "plt.plot(Ylin, Ylin, color='red')\n",
    "plt.show()"
   ]
  },
  {
   "cell_type": "markdown",
   "metadata": {
    "id": "wLosUAo6AdyM"
   },
   "source": [
    "## Podsumowanie\n",
    "\n",
    "8. Dokonaj porównania dopasowanych powyżej modeli regresji pod względem błędu dopasowania i błędu predykcji (dane końcowe przedstaw za pomocą tabeli). \n",
    "    \n",
    "**Pamiętaj o graficznej ewaluacji modeli regresji!!!**"
   ]
  },
  {
   "cell_type": "code",
   "execution_count": 215,
   "metadata": {
    "ExecuteTime": {
     "end_time": "2023-06-03T17:25:33.527374Z",
     "start_time": "2023-06-03T17:25:33.521908Z"
    }
   },
   "outputs": [],
   "source": [
    "def pred_scores(model, X, y):\n",
    "    \n",
    "    MSE = metrics.mean_squared_error(y_true=y, y_pred=model.predict(X))\n",
    "    MAE = metrics.mean_absolute_error(y_true=y, y_pred=model.predict(X))\n",
    "    mAE = metrics.median_absolute_error(y_true=y, y_pred=model.predict(X))\n",
    "\n",
    "    results = {}\n",
    "    results['MSE'] = MSE\n",
    "    results['MAE'] = MAE\n",
    "    results['mAE'] = mAE\n",
    "    \n",
    "    return results"
   ]
  },
  {
   "cell_type": "code",
   "execution_count": 220,
   "metadata": {
    "ExecuteTime": {
     "end_time": "2023-06-03T17:46:17.722787Z",
     "start_time": "2023-06-03T17:46:17.660824Z"
    }
   },
   "outputs": [],
   "source": [
    "models_train = {}\n",
    "\n",
    "models_train['lm'] = pred_scores(lm, np.array(X_train['RM']).reshape(-1, 1), y_train)\n",
    "models_train['lm2'] = pred_scores(lm2, X_train, y_train)\n",
    "models_train['lm_red'] = pred_scores(lm_red, X_train[subset_features], y_train)\n",
    "models_train['ridge'] = pred_scores(ridge, X_train, y_train)\n",
    "models_train['lasso'] = pred_scores(lasso, X_train, y_train)\n",
    "models_train['poly'] = pred_scores(estimator_degree, X_train, y_train)\n",
    "models_train['ridge_poly'] = pred_scores(ridge_poly, X_train, y_train)"
   ]
  },
  {
   "cell_type": "code",
   "execution_count": 223,
   "metadata": {
    "ExecuteTime": {
     "end_time": "2023-06-03T17:56:26.167420Z",
     "start_time": "2023-06-03T17:56:26.108438Z"
    }
   },
   "outputs": [],
   "source": [
    "models_test = {}\n",
    "\n",
    "models_test['lm'] = pred_scores(lm, np.array(X_test['RM']).reshape(-1, 1), y_test)\n",
    "models_test['lm2'] = pred_scores(lm2, X_test, y_test)\n",
    "models_test['lm_red'] = pred_scores(lm_red, X_test[subset_features], y_test)\n",
    "models_test['ridge'] = pred_scores(ridge, X_test, y_test)\n",
    "models_test['lasso'] = pred_scores(lasso, X_test, y_test)\n",
    "models_test['poly'] = pred_scores(estimator_degree, X_test, y_test)\n",
    "models_test['ridge_poly'] = pred_scores(ridge_poly, X_test, y_test)"
   ]
  },
  {
   "cell_type": "code",
   "execution_count": 236,
   "metadata": {
    "ExecuteTime": {
     "end_time": "2023-06-03T18:11:12.244746Z",
     "start_time": "2023-06-03T18:11:12.227741Z"
    }
   },
   "outputs": [
    {
     "data": {
      "text/html": [
       "<div>\n",
       "<style scoped>\n",
       "    .dataframe tbody tr th:only-of-type {\n",
       "        vertical-align: middle;\n",
       "    }\n",
       "\n",
       "    .dataframe tbody tr th {\n",
       "        vertical-align: top;\n",
       "    }\n",
       "\n",
       "    .dataframe thead th {\n",
       "        text-align: right;\n",
       "    }\n",
       "</style>\n",
       "<table border=\"1\" class=\"dataframe\">\n",
       "  <thead>\n",
       "    <tr style=\"text-align: right;\">\n",
       "      <th></th>\n",
       "      <th>lm</th>\n",
       "      <th>lm2</th>\n",
       "      <th>lm_red</th>\n",
       "      <th>ridge</th>\n",
       "      <th>lasso</th>\n",
       "      <th>poly</th>\n",
       "      <th>ridge_poly</th>\n",
       "    </tr>\n",
       "  </thead>\n",
       "  <tbody>\n",
       "    <tr>\n",
       "      <th>MSE</th>\n",
       "      <td>38.271529</td>\n",
       "      <td>20.184337</td>\n",
       "      <td>20.486924</td>\n",
       "      <td>20.274235</td>\n",
       "      <td>20.184404</td>\n",
       "      <td>5.762505</td>\n",
       "      <td>6.585479</td>\n",
       "    </tr>\n",
       "    <tr>\n",
       "      <th>MAE</th>\n",
       "      <td>4.148569</td>\n",
       "      <td>3.121996</td>\n",
       "      <td>3.175166</td>\n",
       "      <td>3.096345</td>\n",
       "      <td>3.121084</td>\n",
       "      <td>1.807484</td>\n",
       "      <td>1.807859</td>\n",
       "    </tr>\n",
       "    <tr>\n",
       "      <th>mAE</th>\n",
       "      <td>2.673882</td>\n",
       "      <td>2.317898</td>\n",
       "      <td>2.325480</td>\n",
       "      <td>2.317986</td>\n",
       "      <td>2.304730</td>\n",
       "      <td>1.439118</td>\n",
       "      <td>1.250697</td>\n",
       "    </tr>\n",
       "  </tbody>\n",
       "</table>\n",
       "</div>"
      ],
      "text/plain": [
       "            lm        lm2     lm_red      ridge      lasso      poly  \\\n",
       "MSE  38.271529  20.184337  20.486924  20.274235  20.184404  5.762505   \n",
       "MAE   4.148569   3.121996   3.175166   3.096345   3.121084  1.807484   \n",
       "mAE   2.673882   2.317898   2.325480   2.317986   2.304730  1.439118   \n",
       "\n",
       "     ridge_poly  \n",
       "MSE    6.585479  \n",
       "MAE    1.807859  \n",
       "mAE    1.250697  "
      ]
     },
     "execution_count": 236,
     "metadata": {},
     "output_type": "execute_result"
    }
   ],
   "source": [
    "pd.DataFrame(models_train)"
   ]
  },
  {
   "cell_type": "code",
   "execution_count": 237,
   "metadata": {
    "ExecuteTime": {
     "end_time": "2023-06-03T18:11:14.750436Z",
     "start_time": "2023-06-03T18:11:14.738969Z"
    }
   },
   "outputs": [
    {
     "data": {
      "text/html": [
       "<div>\n",
       "<style scoped>\n",
       "    .dataframe tbody tr th:only-of-type {\n",
       "        vertical-align: middle;\n",
       "    }\n",
       "\n",
       "    .dataframe tbody tr th {\n",
       "        vertical-align: top;\n",
       "    }\n",
       "\n",
       "    .dataframe thead th {\n",
       "        text-align: right;\n",
       "    }\n",
       "</style>\n",
       "<table border=\"1\" class=\"dataframe\">\n",
       "  <thead>\n",
       "    <tr style=\"text-align: right;\">\n",
       "      <th></th>\n",
       "      <th>lm</th>\n",
       "      <th>lm2</th>\n",
       "      <th>lm_red</th>\n",
       "      <th>ridge</th>\n",
       "      <th>lasso</th>\n",
       "      <th>poly</th>\n",
       "      <th>ridge_poly</th>\n",
       "    </tr>\n",
       "  </thead>\n",
       "  <tbody>\n",
       "    <tr>\n",
       "      <th>MSE</th>\n",
       "      <td>56.691637</td>\n",
       "      <td>28.405855</td>\n",
       "      <td>29.664653</td>\n",
       "      <td>28.586752</td>\n",
       "      <td>28.413257</td>\n",
       "      <td>22.836233</td>\n",
       "      <td>16.725851</td>\n",
       "    </tr>\n",
       "    <tr>\n",
       "      <th>MAE</th>\n",
       "      <td>5.128434</td>\n",
       "      <td>3.691363</td>\n",
       "      <td>3.800178</td>\n",
       "      <td>3.647745</td>\n",
       "      <td>3.690553</td>\n",
       "      <td>3.022859</td>\n",
       "      <td>2.517589</td>\n",
       "    </tr>\n",
       "    <tr>\n",
       "      <th>mAE</th>\n",
       "      <td>3.295596</td>\n",
       "      <td>2.709492</td>\n",
       "      <td>2.811749</td>\n",
       "      <td>2.539864</td>\n",
       "      <td>2.711401</td>\n",
       "      <td>2.322455</td>\n",
       "      <td>1.662809</td>\n",
       "    </tr>\n",
       "  </tbody>\n",
       "</table>\n",
       "</div>"
      ],
      "text/plain": [
       "            lm        lm2     lm_red      ridge      lasso       poly  \\\n",
       "MSE  56.691637  28.405855  29.664653  28.586752  28.413257  22.836233   \n",
       "MAE   5.128434   3.691363   3.800178   3.647745   3.690553   3.022859   \n",
       "mAE   3.295596   2.709492   2.811749   2.539864   2.711401   2.322455   \n",
       "\n",
       "     ridge_poly  \n",
       "MSE   16.725851  \n",
       "MAE    2.517589  \n",
       "mAE    1.662809  "
      ]
     },
     "execution_count": 237,
     "metadata": {},
     "output_type": "execute_result"
    }
   ],
   "source": [
    "pd.DataFrame(models_test)"
   ]
  }
 ],
 "metadata": {
  "colab": {
   "provenance": []
  },
  "hide_input": false,
  "kernelspec": {
   "display_name": "Python 3 (ipykernel)",
   "language": "python",
   "name": "python3"
  },
  "language_info": {
   "codemirror_mode": {
    "name": "ipython",
    "version": 3
   },
   "file_extension": ".py",
   "mimetype": "text/x-python",
   "name": "python",
   "nbconvert_exporter": "python",
   "pygments_lexer": "ipython3",
   "version": "3.10.6"
  },
  "toc": {
   "base_numbering": 1,
   "nav_menu": {},
   "number_sections": true,
   "sideBar": true,
   "skip_h1_title": true,
   "title_cell": "Table of Contents",
   "title_sidebar": "Contents",
   "toc_cell": false,
   "toc_position": {},
   "toc_section_display": true,
   "toc_window_display": false
  },
  "varInspector": {
   "cols": {
    "lenName": 16,
    "lenType": 16,
    "lenVar": 40
   },
   "kernels_config": {
    "python": {
     "delete_cmd_postfix": "",
     "delete_cmd_prefix": "del ",
     "library": "var_list.py",
     "varRefreshCmd": "print(var_dic_list())"
    },
    "r": {
     "delete_cmd_postfix": ") ",
     "delete_cmd_prefix": "rm(",
     "library": "var_list.r",
     "varRefreshCmd": "cat(var_dic_list()) "
    }
   },
   "types_to_exclude": [
    "module",
    "function",
    "builtin_function_or_method",
    "instance",
    "_Feature"
   ],
   "window_display": false
  }
 },
 "nbformat": 4,
 "nbformat_minor": 1
}
