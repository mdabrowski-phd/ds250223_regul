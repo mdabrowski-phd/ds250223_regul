{
 "cells": [
  {
   "cell_type": "markdown",
   "metadata": {
    "id": "ifucWN3XfvUA"
   },
   "source": [
    "# Ewaluacja predykcji szeregów czasowych"
   ]
  },
  {
   "cell_type": "code",
   "execution_count": null,
   "metadata": {
    "id": "rKwoJ86FfvUE"
   },
   "outputs": [],
   "source": [
    "import numpy as np\n",
    "import pandas as pd\n",
    "import matplotlib.pyplot as plt\n",
    "\n",
    "import scipy.stats as stats\n",
    "import statsmodels.api as sm\n",
    "\n",
    "from statsmodels.tsa.seasonal import seasonal_decompose\n",
    "from statsmodels.graphics.tsaplots import plot_acf, plot_pacf\n",
    "from statsmodels.tsa.arima_model import ARIMA\n",
    "\n",
    "import warnings\n",
    "warnings.filterwarnings('ignore')"
   ]
  },
  {
   "cell_type": "code",
   "execution_count": null,
   "metadata": {
    "id": "dbAEkREEtRnE"
   },
   "outputs": [],
   "source": [
    "from statsmodels.tsa.stattools import adfuller\n",
    "\n",
    "def check_time_series_stationary(y, rolling_len=12):\n",
    "    \n",
    "    y = pd.Series(y)\n",
    "    df_test = adfuller(y)\n",
    "    \n",
    "    if df_test[1] < 0.05:\n",
    "        print('Szereg jest stacjonarny')\n",
    "    \n",
    "    else:\n",
    "        print('Szereg jest niestacjonarny')\n",
    "    \n",
    "    print(\"{0:^32s}\".format(\"Dickey-Fuller Test\"))\n",
    "    print(\"-\"*32+\"\\n\")\n",
    "    \n",
    "    print(\"{0:<20s}: {1:>10.4f}\".format('Test Statistic', df_test[0]))\n",
    "    print(\"{0:<20s}: {1:>10.4f}\".format('p-value', df_test[1]))\n",
    "    print(\"-\"*32+\"\\n\")\n",
    "    \n",
    "    rolling_mean = y.rolling(rolling_len).mean()\n",
    "    rolling_var = y.rolling(rolling_len).var()\n",
    "\n",
    "    plt.plot(y)\n",
    "    plt.plot(rolling_mean, label=\"Rolling mean\")\n",
    "    plt.plot(rolling_var, label=\"Rolling var\")\n",
    "    plt.legend()\n",
    "    plt.show()\n",
    "    \n",
    "    print(\"{0:^32s}\".format(\"Autocorrelation plot\"))\n",
    "    print(\"-\"*32+\"\\n\")\n",
    "    \n",
    "    pd.plotting.autocorrelation_plot(y)\n",
    "    plt.show()"
   ]
  },
  {
   "cell_type": "code",
   "execution_count": null,
   "metadata": {
    "id": "uSQC9HXSR6BT"
   },
   "outputs": [],
   "source": [
    "usgdp = pd.read_csv('USGDP.csv', parse_dates=['DATE'], index_col='DATE')\n",
    "usgdp.head()"
   ]
  },
  {
   "cell_type": "code",
   "execution_count": null,
   "metadata": {},
   "outputs": [],
   "source": [
    "check_time_series_stationary(usgdp.GDPC1)"
   ]
  },
  {
   "cell_type": "markdown",
   "metadata": {
    "id": "949ShtGcfvUH"
   },
   "source": [
    "### Podział na część treningową i część testową\n",
    "\n",
    "Ocena dokładności na podstawie tych samych danych, które były wykorzystane do konstrukcji prognozu, nie pozwala na w pełni wiarygodną ocenę skuteczności i może prowadzić do błędnych wniosków. Aby wiarygodnie porównać skuteczność różnych metod prognozowania, powinniśmy wykorzystać niezależne dane testowe.\n",
    "\n",
    "W tym celu szereg dzielimy na:\n",
    "- **część treningową** - wykorzystaną do dopasowania modelu i konstrukcji prognoz,\n",
    "- **część testową** - wykorzystaną do oceny dokładności prognoz."
   ]
  },
  {
   "cell_type": "code",
   "execution_count": null,
   "metadata": {
    "id": "h-aNWNMpR_mn"
   },
   "outputs": [],
   "source": []
  },
  {
   "cell_type": "markdown",
   "metadata": {
    "id": "I8uKWpDkfvUM"
   },
   "source": [
    "## Zadanie 1\n",
    "\n",
    "Napisz funkcję, która znajdzie najlepszy model ARMA - pamiętaj o podziale zbioru na część treningową i testową."
   ]
  },
  {
   "cell_type": "code",
   "execution_count": null,
   "metadata": {
    "id": "4ruOuEpdfvUM"
   },
   "outputs": [],
   "source": [
    "def mse(y, yhat):\n",
    "    return np.mean((y - yhat)**2)\n",
    "\n",
    "def mae(y, yhat):\n",
    "    return np.median(np.abs(y - yhat))"
   ]
  },
  {
   "cell_type": "code",
   "execution_count": null,
   "metadata": {
    "id": "ysZKawX6fvUN"
   },
   "outputs": [],
   "source": [
    "def find_the_best_arma(ts, max_p=10, max_q=10, split=0.8):\n",
    "    \n",
    "    k = int(ts.size * split)\n",
    "    ts_train = ts[:k]\n",
    "    ts_test = ts[k:]\n",
    "\n",
    "    aic = np.zeros((max_p, max_q))\n",
    "    bic = np.zeros((max_p, max_q))\n",
    "    mse2 = np.zeros((max_p, max_q))\n",
    "    mae2 = np.zeros((max_p, max_q))\n",
    "    \n",
    "    for i in range(max_p):\n",
    "        for j in range(max_q):\n",
    "            \n",
    "            try:\n",
    "                arma = ARIMA(ts_train, order=(i + 1, 0, j + 1)).fit()\n",
    "                aic[i, j] = arma.aic\n",
    "                bic[i, j] = arma.bic\n",
    "                print('ARMA(%d, %d): AIC=%f, BIC=%f' % (i+1, j+1, arma.aic, arma.bic))\n",
    "\n",
    "                arma_pred = arma.predict(start=str(np.min(ts_test.index).year), end=str(np.max(ts_test.index).year), \n",
    "                                         dynamic=True)\n",
    "                \n",
    "                mse2[i, j] = mse(ts_test.values, arma_pred.values)\n",
    "                mae2[i, j] = mae(ts_test.values, arma_pred.values)\n",
    "            \n",
    "            except:\n",
    "                aic[i, j] = bic[i, j] = mse2[i, j] = mae2[i, j] = np.Inf\n",
    "            \n",
    "    print(\"-\" * 30)\n",
    "    min_aic = np.min(aic)\n",
    "    min_arg_aic = np.argwhere(aic == min_aic)[0]\n",
    "    print(\"MINIMUM AIC=%f dla p=%d, q=%d\" % (min_aic, min_arg_aic[0] + 1, min_arg_aic[1] + 1))\n",
    "    \n",
    "    min_bic = np.min(bic)\n",
    "    min_arg_bic = np.argwhere(bic == min_bic)[0]\n",
    "    print(\"MINIMUM BIC=%f dla p=%d, q=%d\" % (min_bic, min_arg_bic[0] + 1, min_arg_bic[1] + 1))\n",
    "    \n",
    "    min_mse = np.min(mse2)\n",
    "    min_arg_mse = np.argwhere(mse2 == min_mse)[0]\n",
    "    print(\"MINIMUM MSE=%f dla p=%d, q=%d\" % (min_mse, min_arg_mse[0] + 1, min_arg_mse[1] + 1))\n",
    "    \n",
    "    min_mae = np.min(mae2)\n",
    "    min_arg_mae = np.argwhere(mae2 == min_mae)[0]\n",
    "    print(\"MINIMUM MAE=%f dla p=%d, q=%d\" % (min_mae, min_arg_mae[0] + 1, min_arg_mae[1] + 1))"
   ]
  },
  {
   "cell_type": "code",
   "execution_count": null,
   "metadata": {
    "id": "r7pjIc2NSN17"
   },
   "outputs": [],
   "source": []
  },
  {
   "cell_type": "markdown",
   "metadata": {
    "id": "2t3DULqYfvUP"
   },
   "source": [
    "## Kroswalidacja"
   ]
  },
  {
   "cell_type": "markdown",
   "metadata": {
    "id": "BBK30f2NfvUQ"
   },
   "source": [
    "- kroswalidacja w szeregach czasowych wygląda nieco inaczej na początek bierzemy pierwszą jedną czwartą zbioru do uczenia i kolejną jedną czwartą do testowego\n",
    "- następnie bierzemy pierwszą dwie czwarte zbioru do uczenia i kolejną jedną czwartą do testowego\n",
    "- na koniec pierwszą trzy czwarte zbioru do uczenia i ostatnią jedną czwartą do testowego"
   ]
  },
  {
   "cell_type": "code",
   "execution_count": null,
   "metadata": {
    "id": "YnqBT1z0fvUP"
   },
   "outputs": [],
   "source": [
    "from sklearn.model_selection import TimeSeriesSplit"
   ]
  },
  {
   "cell_type": "markdown",
   "metadata": {
    "id": "PhKkkRjufvUQ"
   },
   "source": [
    "## Zadanie 2\n",
    "\n",
    "Napisz funkcję, która znajdzie najlepszy model ARMA - użyj kroswalidacji."
   ]
  },
  {
   "cell_type": "code",
   "execution_count": null,
   "metadata": {
    "id": "1cciHG8pfvUQ"
   },
   "outputs": [],
   "source": [
    "def find_the_best_arma_crossal(ts, max_p=10, max_q=10, ar=False, cross=5):\n",
    "    \n",
    "    tscv = TimeSeriesSplit(n_splits=cross)\n",
    "    \n",
    "    aic = np.zeros((max_p + 1, max_q + 1))\n",
    "    bic = np.zeros((max_p + 1, max_q + 1))\n",
    "    mae_values = np.zeros((max_p + 1, max_q + 1))\n",
    "    mse_values = np.zeros((max_p + 1, max_q + 1))\n",
    "    \n",
    "    for i in range(max_p + 1):\n",
    "        for j in range(max_q + 1):\n",
    "            \n",
    "            if (i == j == 0):\n",
    "                aic[0, 0] = bic[0, 0] = mae_values[0, 0] = mse_values[0, 0] = np.Inf\n",
    "            \n",
    "            elif (i == 0) | ((not ar) & (j == 0)):\n",
    "                aic[i, j] = bic[i, j] = mae_values[i, j] = mse_values[i, j] = np.Inf\n",
    "            \n",
    "            else:\n",
    "                \n",
    "                aic_cross, bic_cross, mse_cross, mae_cross = [], [], [], []\n",
    "                for train_index, test_index in tscv.split(ts.values):\n",
    "                    \n",
    "                    train, test = ts.iloc[train_index], ts.iloc[test_index]\n",
    "                    arma = ARIMA(train, order=(i, 0, j)).fit()\n",
    "                    aic_cross.append(arma.aic)\n",
    "                    bic_cross.append(arma.bic)\n",
    "                    pred = arma.predict(start=str(np.min(test.index).year), end=str(np.max(test.index).year), dynamic=True)\n",
    "                    mse_cross.append(mse(test.values, pred.values))\n",
    "                    mae_cross.append(mae(test.values, pred.values))\n",
    "                    \n",
    "                aic[i, j] = np.mean(aic_cross)\n",
    "                bic[i, j] = np.mean(arma.bic)\n",
    "                mae_values[i, j] = np.nanmean(mae_cross)\n",
    "                mse_values[i, j] = np.nanmean(mse_cross)\n",
    "                print(\"ARMA(%d, %d): AIC=%f; BIC=%f; MSE=%f; MAE=%f\" % (i, j, arma.aic, arma.bic, \n",
    "                                                                        mse_values[i, j], mae_values[i, j]))\n",
    "\n",
    "    print(\"-\" * 30)\n",
    "    min_aic = np.nanmin(aic)\n",
    "    min_arg_aic = np.argwhere(aic == min_aic)[0] \n",
    "    print(\"MINIMUM AIC=%f for p=%d, q=%d\" % (min_aic, min_arg_aic[0], min_arg_aic[1]))\n",
    "    \n",
    "    min_bic = np.nanmin(bic)\n",
    "    min_arg_bic = np.argwhere(bic == min_bic)[0] \n",
    "    print(\"MINIMUM BIC=%f for p=%d, q=%d\" % (min_bic, min_arg_bic[0], min_arg_bic[1]))\n",
    "    \n",
    "    min_mse = np.nanmin(mse_values)\n",
    "    min_arg_mse = np.argwhere(mse_values == min_mse)[0]\n",
    "    print(\"MINIMUM MSE=%f for p=%d, q=%d\" % (min_mse, min_arg_mse[0], min_arg_mse[1]))\n",
    "    \n",
    "    min_mae = np.nanmin(mae_values)\n",
    "    min_arg_mae = np.argwhere(mae_values == min_mae)[0]\n",
    "    print(\"MINIMUM MAE=%f for p=%d, q=%d\" % (min_mae, min_arg_mae[0], min_arg_mae[1]))"
   ]
  },
  {
   "cell_type": "markdown",
   "metadata": {
    "id": "Cxk4nnJifvUR"
   },
   "source": [
    "# Predykcja z wykorzystaniem danych historycznych"
   ]
  },
  {
   "cell_type": "markdown",
   "metadata": {
    "id": "0KtGCtl9fvUR"
   },
   "source": [
    "- tutaj tworzymy predykcję dla obserwacji na podstawie struktury opisanej w modelu i konkretnych danych, które mają wcześniejsze indeksy czasowe\n",
    "- w kolejnym kroku nie bierzemy predykcji, którą uzyskaliśmy, tylko prawdziwą wartość szeregu "
   ]
  },
  {
   "cell_type": "code",
   "execution_count": null,
   "metadata": {},
   "outputs": [],
   "source": []
  }
 ],
 "metadata": {
  "colab": {
   "provenance": []
  },
  "hide_input": false,
  "kernelspec": {
   "display_name": "Python 3 (ipykernel)",
   "language": "python",
   "name": "python3"
  },
  "language_info": {
   "codemirror_mode": {
    "name": "ipython",
    "version": 3
   },
   "file_extension": ".py",
   "mimetype": "text/x-python",
   "name": "python",
   "nbconvert_exporter": "python",
   "pygments_lexer": "ipython3",
   "version": "3.10.6"
  },
  "toc": {
   "base_numbering": 1,
   "nav_menu": {},
   "number_sections": true,
   "sideBar": true,
   "skip_h1_title": true,
   "title_cell": "Table of Contents",
   "title_sidebar": "Contents",
   "toc_cell": false,
   "toc_position": {},
   "toc_section_display": true,
   "toc_window_display": false
  },
  "varInspector": {
   "cols": {
    "lenName": 16,
    "lenType": 16,
    "lenVar": 40
   },
   "kernels_config": {
    "python": {
     "delete_cmd_postfix": "",
     "delete_cmd_prefix": "del ",
     "library": "var_list.py",
     "varRefreshCmd": "print(var_dic_list())"
    },
    "r": {
     "delete_cmd_postfix": ") ",
     "delete_cmd_prefix": "rm(",
     "library": "var_list.r",
     "varRefreshCmd": "cat(var_dic_list()) "
    }
   },
   "types_to_exclude": [
    "module",
    "function",
    "builtin_function_or_method",
    "instance",
    "_Feature"
   ],
   "window_display": false
  }
 },
 "nbformat": 4,
 "nbformat_minor": 1
}
