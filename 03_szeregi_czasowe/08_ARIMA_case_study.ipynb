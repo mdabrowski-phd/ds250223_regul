{
 "cells": [
  {
   "cell_type": "markdown",
   "metadata": {
    "id": "bhawgb0-1bdu"
   },
   "source": [
    "# Modelowanie ARIMA - case study"
   ]
  },
  {
   "cell_type": "code",
   "execution_count": null,
   "metadata": {
    "id": "T_MAQCma1bd2"
   },
   "outputs": [],
   "source": [
    "import numpy as np\n",
    "import pandas as pd\n",
    "import matplotlib.pyplot as plt\n",
    "\n",
    "import scipy.stats as stats\n",
    "import statsmodels.api as sm\n",
    "\n",
    "from statsmodels.graphics.api import qqplot\n",
    "from statsmodels.tsa.statespace.sarimax import SARIMAX\n",
    "from statsmodels.tsa.seasonal import seasonal_decompose\n",
    "from statsmodels.graphics.tsaplots import plot_acf, plot_pacf\n",
    "from statsmodels.tsa.arima_model import ARIMA\n",
    "\n",
    "from sklearn.model_selection import TimeSeriesSplit\n",
    "\n",
    "import warnings\n",
    "warnings.filterwarnings('ignore')"
   ]
  },
  {
   "cell_type": "code",
   "execution_count": null,
   "metadata": {
    "id": "TYT9j9wQ7C-e"
   },
   "outputs": [],
   "source": [
    "from statsmodels.tsa.stattools import adfuller\n",
    "\n",
    "def check_time_series_stationary(y, rolling_len=12):\n",
    "    \n",
    "    y = pd.Series(y)\n",
    "    df_test = adfuller(y)\n",
    "    \n",
    "    if df_test[1] < 0.05:\n",
    "        print('Szereg jest stacjonarny')\n",
    "    \n",
    "    else:\n",
    "        print('Szereg jest niestacjonarny')\n",
    "    \n",
    "    print(\"{0:^32s}\".format(\"Dickey-Fuller Test\"))\n",
    "    print(\"-\"*32+\"\\n\")\n",
    "    \n",
    "    print(\"{0:<20s}: {1:>10.4f}\".format('Test Statistic', df_test[0]))\n",
    "    print(\"{0:<20s}: {1:>10.4f}\".format('p-value', df_test[1]))\n",
    "    print(\"-\"*32+\"\\n\")\n",
    "    \n",
    "    rolling_mean = y.rolling(rolling_len).mean()\n",
    "    rolling_var = y.rolling(rolling_len).var()\n",
    "\n",
    "    plt.plot(y)\n",
    "    plt.plot(rolling_mean, label=\"Rolling mean\")\n",
    "    plt.plot(rolling_var, label=\"Rolling var\")\n",
    "    plt.legend()\n",
    "    plt.show()\n",
    "    \n",
    "    print(\"{0:^32s}\".format(\"Autocorrelation plot\"))\n",
    "    print(\"-\"*32+\"\\n\")\n",
    "    \n",
    "    pd.plotting.autocorrelation_plot(y)\n",
    "    plt.show()"
   ]
  },
  {
   "cell_type": "markdown",
   "metadata": {
    "id": "vAb6lGt51bd4"
   },
   "source": [
    "# Zadanie - case study\n",
    "\n",
    "Dokonaj analizy szeregu czasowego `AirPassengers`. \n",
    "\n",
    "a) Przekształć szereg do postaci stacjonarnej.\n",
    "\n",
    "b) Dopasuj odpowiedni model za pomocą kroswalidacji dla szeregów czasowych.\n",
    "\n",
    "c) Dokonaj predykcji na zbiorze testowym przy użyciu modelu zbudowanego na zbiorze treningowym."
   ]
  },
  {
   "cell_type": "code",
   "execution_count": null,
   "metadata": {
    "id": "a8x3JcSLB945"
   },
   "outputs": [],
   "source": [
    "air_passengers = pd.read_csv('../data/AirPassengers.csv', parse_dates=['Month'], index_col='Month')"
   ]
  }
 ],
 "metadata": {
  "colab": {
   "provenance": []
  },
  "hide_input": false,
  "kernelspec": {
   "display_name": "Python 3 (ipykernel)",
   "language": "python",
   "name": "python3"
  },
  "language_info": {
   "codemirror_mode": {
    "name": "ipython",
    "version": 3
   },
   "file_extension": ".py",
   "mimetype": "text/x-python",
   "name": "python",
   "nbconvert_exporter": "python",
   "pygments_lexer": "ipython3",
   "version": "3.10.6"
  },
  "toc": {
   "base_numbering": 1,
   "nav_menu": {},
   "number_sections": true,
   "sideBar": true,
   "skip_h1_title": true,
   "title_cell": "Table of Contents",
   "title_sidebar": "Contents",
   "toc_cell": false,
   "toc_position": {},
   "toc_section_display": true,
   "toc_window_display": false
  },
  "varInspector": {
   "cols": {
    "lenName": 16,
    "lenType": 16,
    "lenVar": 40
   },
   "kernels_config": {
    "python": {
     "delete_cmd_postfix": "",
     "delete_cmd_prefix": "del ",
     "library": "var_list.py",
     "varRefreshCmd": "print(var_dic_list())"
    },
    "r": {
     "delete_cmd_postfix": ") ",
     "delete_cmd_prefix": "rm(",
     "library": "var_list.r",
     "varRefreshCmd": "cat(var_dic_list()) "
    }
   },
   "types_to_exclude": [
    "module",
    "function",
    "builtin_function_or_method",
    "instance",
    "_Feature"
   ],
   "window_display": false
  }
 },
 "nbformat": 4,
 "nbformat_minor": 1
}
