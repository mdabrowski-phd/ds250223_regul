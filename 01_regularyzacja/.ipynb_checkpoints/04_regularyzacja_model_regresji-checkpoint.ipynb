{
 "cells": [
  {
   "cell_type": "markdown",
   "metadata": {
    "id": "pHsnX3oayf25"
   },
   "source": [
    "# Regularyzacja w modelu regresji - zbiór `longley`"
   ]
  },
  {
   "cell_type": "code",
   "execution_count": null,
   "metadata": {
    "id": "DsdCn418yf3A"
   },
   "outputs": [],
   "source": [
    "import numpy as np\n",
    "import pandas as pd\n",
    "\n",
    "import statsmodels.api as sm\n",
    "import statsmodels.formula.api as smf\n",
    "from patsy import dmatrices\n",
    "\n",
    "import matplotlib.pyplot as plt\n",
    "%matplotlib inline\n",
    "from matplotlib.pylab import rcParams\n",
    "rcParams['figure.figsize'] = 12, 10\n",
    "\n",
    "from sklearn.linear_model import LinearRegression\n",
    "from sklearn.linear_model import Ridge\n",
    "from sklearn.linear_model import Lasso\n",
    "from sklearn.preprocessing import StandardScaler\n",
    "from sklearn.pipeline import make_pipeline\n",
    "from sklearn.preprocessing import PolynomialFeatures\n",
    "\n",
    "from sklearn.model_selection import GridSearchCV, cross_val_score, train_test_split\n",
    "import sklearn.metrics as metrics\n",
    "\n",
    "from scipy import stats\n",
    "\n",
    "import warnings\n",
    "warnings.filterwarnings('ignore')"
   ]
  },
  {
   "cell_type": "markdown",
   "metadata": {
    "id": "qXSugtcqyf3C"
   },
   "source": [
    "# Zadanie - `longley`"
   ]
  },
  {
   "cell_type": "markdown",
   "metadata": {
    "id": "4ZbarMSiyf3D"
   },
   "source": [
    "Zbiór danych `longley` zawiera różne zmienne makroekonomiczne w USA, o których wiadomo, że są wysoce współliniowe.\n",
    "\n",
    "`GNPDEFL` GNP implicit price deflator (1954=100)\n",
    "\n",
    "`GNP` Gross National Produc\n",
    "\n",
    "`UNEMP` number of unemployed.\n",
    "\n",
    "`ARMED` number of people in the armed forces.\n",
    "\n",
    "`POP` ‘noninstitutionalized’ population ≥ 14 years of age.\n",
    "\n",
    "`YEAR` the year (time).\n",
    "\n",
    "`TOTEMP` number of people employed."
   ]
  },
  {
   "cell_type": "markdown",
   "metadata": {
    "id": "ZfV1wZaMyf3E"
   },
   "source": [
    "1. Podziel zbiór na częśc treningową i testową w stosunku 7:3\n",
    "\n",
    "\n",
    "2. Dopasuj na danych treningowych model regresji liniowej, w którym zmienną zależną jest zmienna `TOTEMP` a pozostałe cechy zmiennymi niezależnymi. Wyznacz jakość predykcji modelu obliczając na zbiorze testowym:\n",
    "   - błąd średniokwadratowy, \n",
    "   - medianę błędu bezwzględnego. \n",
    "   \n",
    "    \n",
    "3. Dopasuj na danych treningowych model regresji grzbietowej:\n",
    "   - znajdź optymalną wartość parametru $\\alpha$ (GridSearchCV)\n",
    "   - sporządź wykres wartości współczynników regresji względem parametru $\\alpha$.\n",
    "   - wyznacz jakość predykcji modelu obliczając na zbiorze testowym:\n",
    "      - błąd średniokwadratowy, \n",
    "      - medianę błędu bezwzględnego.    \n",
    "\n",
    "\n",
    "4. Dopasuj na danych treningowych model regresji Lasso:\n",
    "   - znajdź optymalną wartość parametru $\\alpha$ (GridSearchCV)\n",
    "   - sporządź wykres wartości współczynników regresji względem parametru $\\alpha$.\n",
    "   - wyznacz jakość predykcji modelu obliczając na zbiorze testowym:\n",
    "      - błąd średniokwadratowy, \n",
    "      - medianę błędu bezwzględnego. \n",
    "   \n",
    "5. Dopasuj na danych treningowych model regresji wielomianowej z regularyzacją grzbietową:\n",
    "   - znajdź optymalny stopień wielomianu i optymalną wartość parametru $\\alpha$,\n",
    "   - wyznacz jakość predykcji modelu obliczając na zbiorze testowym:\n",
    "      - błąd średniokwadratowy, \n",
    "      - medianę błędu bezwzględnego. \n",
    "\n",
    "6. Dopasuj na danych treningowych model regresji wielomianowej z regularyzacją Lasso:\n",
    "   - znajdź optymalny stopień wielomianu i optymalną wartość parametru $\\alpha$,\n",
    "   - wyznacz jakość predykcji modelu obliczając na zbiorze testowym:\n",
    "      - błąd średniokwadratowy, \n",
    "      - medianę błędu bezwzględnego.\n",
    "\n",
    "Rozwiązując powyższe zadanie staraj się automatyzować swoją analizę, tj. napisz funkcje:\n",
    "- `pred_scores`, która zwraca słownik/ramkę danych miar predykcji dla zbudowanego modelu;\n",
    "- `grid_search_alpha`, która znajduje optymalną wartość $\\alpha$ dla modelu regresji z regularyzacją Ridge lub Lasso;\n",
    "- `plot_coef_vs_alpha`, która służy do tworzenia wykresu zmian wartości współczynników w zależności od wzrostu parametru $\\alpha$;\n",
    "- `grid_search_power_and_alpha`, która znajduje optymalny stopień wielomianu oraz parametr $\\alpha$ dla regresji wielomianowej z regularyzacją Ridge lub Lasso.\n",
    "\n",
    "Przygotuj tak analizę aby na koniec przedstawić wszystkie wyniki w jednej tabeli."
   ]
  },
  {
   "cell_type": "code",
   "execution_count": null,
   "metadata": {
    "id": "jxEv7Ctgyf3F"
   },
   "outputs": [],
   "source": [
    "longley = sm.datasets.longley.load_pandas()\n",
    "longley.data.head()"
   ]
  },
  {
   "cell_type": "code",
   "execution_count": null,
   "metadata": {
    "id": "eC-U4dDTyf3H"
   },
   "outputs": [],
   "source": [
    "#zmienna niezależne i zależna \n",
    "X, y = longley.data.iloc[:, longley.data.columns != 'TOTEMP'], longley.data['TOTEMP']"
   ]
  },
  {
   "cell_type": "code",
   "execution_count": null,
   "metadata": {
    "id": "1ORzng-Byf3I"
   },
   "outputs": [],
   "source": [
    "#funkcja licząca miary dla modelu\n",
    "def pred_scores(model, X, y):\n",
    "    \n",
    "    mse = metrics.mean_squared_error(y_true=y, y_pred=model.predict(X))\n",
    "    mae = metrics.median_absolute_error(y_true=y, y_pred=model.predict(X))\n",
    "\n",
    "    results = {}\n",
    "    results['mse'] = mse\n",
    "    results['mae'] = mae\n",
    "    \n",
    "    return results"
   ]
  },
  {
   "cell_type": "code",
   "execution_count": null,
   "metadata": {
    "id": "D6S2nXMhyf3I"
   },
   "outputs": [],
   "source": [
    "#funkcja mająca znaleźć najlepszą alphę w regresji ridge czy lasso za pomocą kroswalidacji (zwraca najlepszą alphę)\n",
    "def grid_search_alpha(model,X,y,params,scoring,cv = 10):\n",
    "    \n",
    "    grid = GridSearchCV(make_pipeline(StandardScaler(), model),\n",
    "                        params, scoring = scoring, cv = cv)\n",
    "    \n",
    "    grid.fit(X,y)\n",
    "    return grid.best_params_"
   ]
  },
  {
   "cell_type": "code",
   "execution_count": null,
   "metadata": {
    "id": "2udGynMzyf3J"
   },
   "outputs": [],
   "source": [
    "models = {}\n",
    "\n",
    "models['linear'] = pred_scores()\n",
    "\n",
    "models['ridge_%.3g' % best_alpha_ridge['ridge__alpha']] = pred_scores()\n",
    "\n",
    "\n",
    "models['lasso_%.3g' % best_alpha_lasso['lasso__alpha']] = pred_scores()"
   ]
  },
  {
   "cell_type": "code",
   "execution_count": null,
   "metadata": {
    "id": "q_g_ilAjyf3J"
   },
   "outputs": [],
   "source": [
    "pd.DataFrame(models)"
   ]
  },
  {
   "cell_type": "code",
   "execution_count": null,
   "metadata": {
    "id": "44SdvFFxyf3K"
   },
   "outputs": [],
   "source": [
    "#funkcja do stworzenia wykresu zmiany wartości współczynnika beta w zależności od zmiany alpha\n",
    "def plot_coef_vs_alpha(model_name, min_alpha, max_alpha, poly_degree=1):\n",
    "    \n",
    "    alpha_vec =  np.linspace(min_alpha, max_alpha, 100)\n",
    "    \n",
    "    if (model_name == 'lasso'):\n",
    "        model = Lasso(max_iter=1e5)\n",
    "    \n",
    "    elif(model_name == 'ridge'):\n",
    "        model = Ridge()\n",
    "\n",
    "    coefs = []\n",
    "    for a in alpha_vec:\n",
    "        \n",
    "        model.alpha = a\n",
    "        model_reg = make_pipeline(PolynomialFeatures(poly_degree), StandardScaler(), model)\n",
    "        \n",
    "        model_reg.fit(X_train, y_train)\n",
    "        coefs.append(model_reg.named_steps[model_name].coef_[1:])\n",
    "\n",
    "    plt.plot(alpha_vec, coefs)\n",
    "    plt.plot([np.min(alpha_vec), np.max(alpha_vec)], [0, 0], '-.', color = 'black')\n",
    "    plt.xlabel('alpha')\n",
    "    plt.ylabel('coefficients')\n",
    "    plt.legend(X_train.columns)\n",
    "    plt.show()"
   ]
  },
  {
   "cell_type": "code",
   "execution_count": null,
   "metadata": {
    "id": "B5tQuhf1tk0v"
   },
   "outputs": [],
   "source": []
  },
  {
   "cell_type": "code",
   "execution_count": null,
   "metadata": {
    "id": "-SAucsgq5riF"
   },
   "outputs": [],
   "source": [
    "#funkcja do znajdywania najlepszego zestawu parametrów degree i alpha\n",
    "def grid_search_power_and_alpha(model,X,y,params,scoring,cv = 10):\n",
    "    \n",
    "    grid = GridSearchCV(make_pipeline(PolynomialFeatures(), StandardScaler(), model),\n",
    "                        params, scoring = scoring, cv = cv)\n",
    "    \n",
    "    grid.fit(X,y)\n",
    "    return grid.best_params_"
   ]
  },
  {
   "cell_type": "code",
   "execution_count": null,
   "metadata": {
    "id": "zHpnkIPd5_vt"
   },
   "outputs": [],
   "source": [
    "models2 = {}"
   ]
  },
  {
   "cell_type": "code",
   "execution_count": null,
   "metadata": {
    "id": "2Vv66C5M7CJN"
   },
   "outputs": [],
   "source": [
    "models2['ridge_%.3g_%d' % (best_params_ridge['ridge__alpha'],\n",
    "                       best_params_ridge['polynomialfeatures__degree'])] = pred_scores()"
   ]
  },
  {
   "cell_type": "code",
   "execution_count": null,
   "metadata": {
    "id": "G1AEVwlX8Uh5"
   },
   "outputs": [],
   "source": [
    "models2['lasso_%.3g_%d' % (best_params_lasso['lasso__alpha'],\n",
    "                       best_params_lasso['polynomialfeatures__degree'])] = pred_scores()"
   ]
  },
  {
   "cell_type": "code",
   "execution_count": null,
   "metadata": {
    "id": "O7lM0BAe9ELk"
   },
   "outputs": [],
   "source": [
    "#wyniki końcowe\n",
    "results = pd.concat([pd.DataFrame(models),pd.DataFrame(models2)],axis =1,sort = False)\n",
    "results"
   ]
  }
 ],
 "metadata": {
  "colab": {
   "provenance": []
  },
  "hide_input": false,
  "kernelspec": {
   "display_name": "Python 3 (ipykernel)",
   "language": "python",
   "name": "python3"
  },
  "language_info": {
   "codemirror_mode": {
    "name": "ipython",
    "version": 3
   },
   "file_extension": ".py",
   "mimetype": "text/x-python",
   "name": "python",
   "nbconvert_exporter": "python",
   "pygments_lexer": "ipython3",
   "version": "3.10.6"
  },
  "toc": {
   "base_numbering": 1,
   "nav_menu": {},
   "number_sections": true,
   "sideBar": true,
   "skip_h1_title": true,
   "title_cell": "Table of Contents",
   "title_sidebar": "Contents",
   "toc_cell": false,
   "toc_position": {},
   "toc_section_display": true,
   "toc_window_display": false
  },
  "varInspector": {
   "cols": {
    "lenName": 16,
    "lenType": 16,
    "lenVar": 40
   },
   "kernels_config": {
    "python": {
     "delete_cmd_postfix": "",
     "delete_cmd_prefix": "del ",
     "library": "var_list.py",
     "varRefreshCmd": "print(var_dic_list())"
    },
    "r": {
     "delete_cmd_postfix": ") ",
     "delete_cmd_prefix": "rm(",
     "library": "var_list.r",
     "varRefreshCmd": "cat(var_dic_list()) "
    }
   },
   "types_to_exclude": [
    "module",
    "function",
    "builtin_function_or_method",
    "instance",
    "_Feature"
   ],
   "window_display": false
  }
 },
 "nbformat": 4,
 "nbformat_minor": 1
}
