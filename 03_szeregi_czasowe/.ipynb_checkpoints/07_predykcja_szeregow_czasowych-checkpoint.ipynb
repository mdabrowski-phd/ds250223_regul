{
 "cells": [
  {
   "cell_type": "markdown",
   "metadata": {
    "id": "ifucWN3XfvUA"
   },
   "source": [
    "# Ewaluacja predykcji szeregów czasowych"
   ]
  },
  {
   "cell_type": "code",
   "execution_count": 12,
   "metadata": {
    "ExecuteTime": {
     "end_time": "2023-06-04T14:36:17.267228Z",
     "start_time": "2023-06-04T14:36:17.261586Z"
    },
    "id": "rKwoJ86FfvUE"
   },
   "outputs": [],
   "source": [
    "import numpy as np\n",
    "import pandas as pd\n",
    "import matplotlib.pyplot as plt\n",
    "\n",
    "import scipy.stats as stats\n",
    "import statsmodels.api as sm\n",
    "\n",
    "from statsmodels.tsa.seasonal import seasonal_decompose\n",
    "from statsmodels.graphics.tsaplots import plot_acf, plot_pacf\n",
    "from statsmodels.tsa.arima.model import ARIMA\n",
    "\n",
    "from statsmodels.tsa.stattools import adfuller\n",
    "\n",
    "from statsmodels.graphics.api import qqplot\n",
    "from statsmodels.tsa.statespace.sarimax import SARIMAX\n",
    "\n",
    "from sklearn.model_selection import TimeSeriesSplit\n",
    "\n",
    "import warnings\n",
    "warnings.filterwarnings('ignore')"
   ]
  },
  {
   "cell_type": "code",
   "execution_count": 2,
   "metadata": {
    "ExecuteTime": {
     "end_time": "2023-06-04T14:25:44.259831Z",
     "start_time": "2023-06-04T14:25:44.251638Z"
    },
    "id": "dbAEkREEtRnE"
   },
   "outputs": [],
   "source": [
    "def check_time_series_stationary(y, rolling_len=12):\n",
    "    \n",
    "    y = pd.Series(y)\n",
    "    df_test = adfuller(y)\n",
    "    \n",
    "    if df_test[1] < 0.05:\n",
    "        print('Szereg jest stacjonarny')\n",
    "    \n",
    "    else:\n",
    "        print('Szereg jest niestacjonarny')\n",
    "    \n",
    "    print(\"{0:^32s}\".format(\"Dickey-Fuller Test\"))\n",
    "    print(\"-\"*32+\"\\n\")\n",
    "    \n",
    "    print(\"{0:<20s}: {1:>10.4f}\".format('Test Statistic', df_test[0]))\n",
    "    print(\"{0:<20s}: {1:>10.4f}\".format('p-value', df_test[1]))\n",
    "    print(\"-\"*32+\"\\n\")\n",
    "    \n",
    "    rolling_mean = y.rolling(rolling_len).mean()\n",
    "    rolling_var = y.rolling(rolling_len).var()\n",
    "\n",
    "    plt.plot(y)\n",
    "    plt.plot(rolling_mean, label=\"Rolling mean\")\n",
    "    plt.plot(rolling_var, label=\"Rolling var\")\n",
    "    plt.legend()\n",
    "    plt.show()\n",
    "    \n",
    "    print(\"{0:^32s}\".format(\"Autocorrelation plot\"))\n",
    "    print(\"-\"*32+\"\\n\")\n",
    "    \n",
    "    pd.plotting.autocorrelation_plot(y)\n",
    "    plt.show()"
   ]
  },
  {
   "cell_type": "code",
   "execution_count": 4,
   "metadata": {
    "ExecuteTime": {
     "end_time": "2023-06-04T14:25:58.970899Z",
     "start_time": "2023-06-04T14:25:58.938087Z"
    },
    "id": "uSQC9HXSR6BT"
   },
   "outputs": [
    {
     "data": {
      "text/html": [
       "<div>\n",
       "<style scoped>\n",
       "    .dataframe tbody tr th:only-of-type {\n",
       "        vertical-align: middle;\n",
       "    }\n",
       "\n",
       "    .dataframe tbody tr th {\n",
       "        vertical-align: top;\n",
       "    }\n",
       "\n",
       "    .dataframe thead th {\n",
       "        text-align: right;\n",
       "    }\n",
       "</style>\n",
       "<table border=\"1\" class=\"dataframe\">\n",
       "  <thead>\n",
       "    <tr style=\"text-align: right;\">\n",
       "      <th></th>\n",
       "      <th>GDPC1</th>\n",
       "    </tr>\n",
       "    <tr>\n",
       "      <th>DATE</th>\n",
       "      <th></th>\n",
       "    </tr>\n",
       "  </thead>\n",
       "  <tbody>\n",
       "    <tr>\n",
       "      <th>1947-01-01</th>\n",
       "      <td>2033.061</td>\n",
       "    </tr>\n",
       "    <tr>\n",
       "      <th>1947-04-01</th>\n",
       "      <td>2027.639</td>\n",
       "    </tr>\n",
       "    <tr>\n",
       "      <th>1947-07-01</th>\n",
       "      <td>2023.452</td>\n",
       "    </tr>\n",
       "    <tr>\n",
       "      <th>1947-10-01</th>\n",
       "      <td>2055.103</td>\n",
       "    </tr>\n",
       "    <tr>\n",
       "      <th>1948-01-01</th>\n",
       "      <td>2086.017</td>\n",
       "    </tr>\n",
       "  </tbody>\n",
       "</table>\n",
       "</div>"
      ],
      "text/plain": [
       "               GDPC1\n",
       "DATE                \n",
       "1947-01-01  2033.061\n",
       "1947-04-01  2027.639\n",
       "1947-07-01  2023.452\n",
       "1947-10-01  2055.103\n",
       "1948-01-01  2086.017"
      ]
     },
     "execution_count": 4,
     "metadata": {},
     "output_type": "execute_result"
    }
   ],
   "source": [
    "usgdp = pd.read_csv('../data/USGDP.csv', parse_dates=['DATE'], index_col='DATE')\n",
    "usgdp.head()"
   ]
  },
  {
   "cell_type": "code",
   "execution_count": 5,
   "metadata": {
    "ExecuteTime": {
     "end_time": "2023-06-04T14:26:10.299539Z",
     "start_time": "2023-06-04T14:26:09.928236Z"
    }
   },
   "outputs": [
    {
     "name": "stdout",
     "output_type": "stream",
     "text": [
      "Szereg jest niestacjonarny\n",
      "       Dickey-Fuller Test       \n",
      "--------------------------------\n",
      "\n",
      "Test Statistic      :     2.9819\n",
      "p-value             :     1.0000\n",
      "--------------------------------\n",
      "\n"
     ]
    },
    {
     "data": {
      "image/png": "[encoded data removed]",
      "text/plain": [
       "<Figure size 432x288 with 1 Axes>"
      ]
     },
     "metadata": {
      "needs_background": "light"
     },
     "output_type": "display_data"
    },
    {
     "name": "stdout",
     "output_type": "stream",
     "text": [
      "      Autocorrelation plot      \n",
      "--------------------------------\n",
      "\n"
     ]
    },
    {
     "data": {
      "image/png": "[encoded data removed]",
      "text/plain": [
       "<Figure size 432x288 with 1 Axes>"
      ]
     },
     "metadata": {
      "needs_background": "light"
     },
     "output_type": "display_data"
    }
   ],
   "source": [
    "check_time_series_stationary(usgdp.GDPC1)"
   ]
  },
  {
   "cell_type": "markdown",
   "metadata": {
    "id": "949ShtGcfvUH"
   },
   "source": [
    "### Podział na część treningową i część testową\n",
    "\n",
    "Ocena dokładności na podstawie tych samych danych, które były wykorzystane do konstrukcji prognozu, nie pozwala na w pełni wiarygodną ocenę skuteczności i może prowadzić do błędnych wniosków. Aby wiarygodnie porównać skuteczność różnych metod prognozowania, powinniśmy wykorzystać niezależne dane testowe.\n",
    "\n",
    "W tym celu szereg dzielimy na:\n",
    "- **część treningową** - wykorzystaną do dopasowania modelu i konstrukcji prognoz,\n",
    "- **część testową** - wykorzystaną do oceny dokładności prognoz."
   ]
  },
  {
   "cell_type": "code",
   "execution_count": 9,
   "metadata": {
    "ExecuteTime": {
     "end_time": "2023-06-04T14:31:49.096392Z",
     "start_time": "2023-06-04T14:31:49.091506Z"
    }
   },
   "outputs": [],
   "source": [
    "k = int(0.8 * usgdp.GDPC1.size)  # podział danych\n",
    "usgdp_train, usgdp_test = usgdp[:k], usgdp[k:]"
   ]
  },
  {
   "cell_type": "code",
   "execution_count": 10,
   "metadata": {
    "ExecuteTime": {
     "end_time": "2023-06-04T14:33:28.365996Z",
     "start_time": "2023-06-04T14:33:28.188825Z"
    }
   },
   "outputs": [
    {
     "data": {
      "image/png": "[encoded data removed]",
      "text/plain": [
       "<Figure size 432x288 with 1 Axes>"
      ]
     },
     "metadata": {
      "needs_background": "light"
     },
     "output_type": "display_data"
    }
   ],
   "source": [
    "plt.plot(usgdp_train, label='trening')\n",
    "plt.plot(usgdp_test, label='test')\n",
    "\n",
    "plt.legend()\n",
    "plt.show()"
   ]
  },
  {
   "cell_type": "code",
   "execution_count": 13,
   "metadata": {
    "ExecuteTime": {
     "end_time": "2023-06-04T14:36:22.862182Z",
     "start_time": "2023-06-04T14:36:22.635668Z"
    },
    "scrolled": true
   },
   "outputs": [
    {
     "data": {
      "text/html": [
       "<table class=\"simpletable\">\n",
       "<caption>SARIMAX Results</caption>\n",
       "<tr>\n",
       "  <th>Dep. Variable:</th>         <td>GDPC1</td>      <th>  No. Observations:  </th>    <td>232</td>   \n",
       "</tr>\n",
       "<tr>\n",
       "  <th>Model:</th>            <td>ARIMA(3, 1, 2)</td>  <th>  Log Likelihood     </th>  <td>758.409</td> \n",
       "</tr>\n",
       "<tr>\n",
       "  <th>Date:</th>            <td>Sun, 04 Jun 2023</td> <th>  AIC                </th> <td>-1502.817</td>\n",
       "</tr>\n",
       "<tr>\n",
       "  <th>Time:</th>                <td>16:36:22</td>     <th>  BIC                </th> <td>-1478.720</td>\n",
       "</tr>\n",
       "<tr>\n",
       "  <th>Sample:</th>             <td>01-01-1947</td>    <th>  HQIC               </th> <td>-1493.098</td>\n",
       "</tr>\n",
       "<tr>\n",
       "  <th></th>                   <td>- 10-01-2004</td>   <th>                     </th>     <td> </td>    \n",
       "</tr>\n",
       "<tr>\n",
       "  <th>Covariance Type:</th>        <td>opg</td>       <th>                     </th>     <td> </td>    \n",
       "</tr>\n",
       "</table>\n",
       "<table class=\"simpletable\">\n",
       "<tr>\n",
       "     <td></td>       <th>coef</th>     <th>std err</th>      <th>z</th>      <th>P>|z|</th>  <th>[0.025</th>    <th>0.975]</th>  \n",
       "</tr>\n",
       "<tr>\n",
       "  <th>x1</th>     <td>    0.0085</td> <td>    0.001</td> <td>   16.995</td> <td> 0.000</td> <td>    0.008</td> <td>    0.010</td>\n",
       "</tr>\n",
       "<tr>\n",
       "  <th>ar.L1</th>  <td>    1.0918</td> <td>    0.343</td> <td>    3.186</td> <td> 0.001</td> <td>    0.420</td> <td>    1.763</td>\n",
       "</tr>\n",
       "<tr>\n",
       "  <th>ar.L2</th>  <td>   -0.0032</td> <td>    0.439</td> <td>   -0.007</td> <td> 0.994</td> <td>   -0.863</td> <td>    0.857</td>\n",
       "</tr>\n",
       "<tr>\n",
       "  <th>ar.L3</th>  <td>   -0.2463</td> <td>    0.126</td> <td>   -1.949</td> <td> 0.051</td> <td>   -0.494</td> <td>    0.001</td>\n",
       "</tr>\n",
       "<tr>\n",
       "  <th>ma.L1</th>  <td>   -0.7978</td> <td>    0.348</td> <td>   -2.291</td> <td> 0.022</td> <td>   -1.480</td> <td>   -0.115</td>\n",
       "</tr>\n",
       "<tr>\n",
       "  <th>ma.L2</th>  <td>   -0.0841</td> <td>    0.337</td> <td>   -0.250</td> <td> 0.803</td> <td>   -0.744</td> <td>    0.576</td>\n",
       "</tr>\n",
       "<tr>\n",
       "  <th>sigma2</th> <td> 8.218e-05</td> <td> 5.79e-06</td> <td>   14.203</td> <td> 0.000</td> <td> 7.08e-05</td> <td> 9.35e-05</td>\n",
       "</tr>\n",
       "</table>\n",
       "<table class=\"simpletable\">\n",
       "<tr>\n",
       "  <th>Ljung-Box (L1) (Q):</th>     <td>0.01</td> <th>  Jarque-Bera (JB):  </th> <td>27.16</td>\n",
       "</tr>\n",
       "<tr>\n",
       "  <th>Prob(Q):</th>                <td>0.94</td> <th>  Prob(JB):          </th> <td>0.00</td> \n",
       "</tr>\n",
       "<tr>\n",
       "  <th>Heteroskedasticity (H):</th> <td>0.19</td> <th>  Skew:              </th> <td>0.08</td> \n",
       "</tr>\n",
       "<tr>\n",
       "  <th>Prob(H) (two-sided):</th>    <td>0.00</td> <th>  Kurtosis:          </th> <td>4.67</td> \n",
       "</tr>\n",
       "</table><br/><br/>Warnings:<br/>[1] Covariance matrix calculated using the outer product of gradients (complex-step)."
      ],
      "text/plain": [
       "<class 'statsmodels.iolib.summary.Summary'>\n",
       "\"\"\"\n",
       "                               SARIMAX Results                                \n",
       "==============================================================================\n",
       "Dep. Variable:                  GDPC1   No. Observations:                  232\n",
       "Model:                 ARIMA(3, 1, 2)   Log Likelihood                 758.409\n",
       "Date:                Sun, 04 Jun 2023   AIC                          -1502.817\n",
       "Time:                        16:36:22   BIC                          -1478.720\n",
       "Sample:                    01-01-1947   HQIC                         -1493.098\n",
       "                         - 10-01-2004                                         \n",
       "Covariance Type:                  opg                                         \n",
       "==============================================================================\n",
       "                 coef    std err          z      P>|z|      [0.025      0.975]\n",
       "------------------------------------------------------------------------------\n",
       "x1             0.0085      0.001     16.995      0.000       0.008       0.010\n",
       "ar.L1          1.0918      0.343      3.186      0.001       0.420       1.763\n",
       "ar.L2         -0.0032      0.439     -0.007      0.994      -0.863       0.857\n",
       "ar.L3         -0.2463      0.126     -1.949      0.051      -0.494       0.001\n",
       "ma.L1         -0.7978      0.348     -2.291      0.022      -1.480      -0.115\n",
       "ma.L2         -0.0841      0.337     -0.250      0.803      -0.744       0.576\n",
       "sigma2      8.218e-05   5.79e-06     14.203      0.000    7.08e-05    9.35e-05\n",
       "===================================================================================\n",
       "Ljung-Box (L1) (Q):                   0.01   Jarque-Bera (JB):                27.16\n",
       "Prob(Q):                              0.94   Prob(JB):                         0.00\n",
       "Heteroskedasticity (H):               0.19   Skew:                             0.08\n",
       "Prob(H) (two-sided):                  0.00   Kurtosis:                         4.67\n",
       "===================================================================================\n",
       "\n",
       "Warnings:\n",
       "[1] Covariance matrix calculated using the outer product of gradients (complex-step).\n",
       "\"\"\""
      ]
     },
     "execution_count": 13,
     "metadata": {},
     "output_type": "execute_result"
    }
   ],
   "source": [
    "log_usgdp_train = np.log(usgdp_train)\n",
    "\n",
    "m1 = ARIMA(endog=log_usgdp_train, order=(3, 1, 2), trend='t').fit()\n",
    "m1.summary()"
   ]
  },
  {
   "cell_type": "code",
   "execution_count": 16,
   "metadata": {
    "ExecuteTime": {
     "end_time": "2023-06-04T14:41:03.431926Z",
     "start_time": "2023-06-04T14:41:03.402443Z"
    }
   },
   "outputs": [],
   "source": [
    "# usgdp_test\n",
    "predict_test = np.exp(m1.predict(start='2005-01-01', end='2019-07-01', dynamic=True))"
   ]
  },
  {
   "cell_type": "markdown",
   "metadata": {
    "id": "I8uKWpDkfvUM"
   },
   "source": [
    "## Zadanie 1\n",
    "\n",
    "Napisz funkcję, która znajdzie najlepszy model ARMA - pamiętaj o podziale zbioru na część treningową i testową."
   ]
  },
  {
   "cell_type": "code",
   "execution_count": 15,
   "metadata": {
    "ExecuteTime": {
     "end_time": "2023-06-04T14:40:30.949563Z",
     "start_time": "2023-06-04T14:40:30.944354Z"
    },
    "id": "4ruOuEpdfvUM"
   },
   "outputs": [],
   "source": [
    "def mse(y, yhat):\n",
    "    return np.mean((y - yhat)**2)\n",
    "\n",
    "def mae(y, yhat):\n",
    "    return np.median(np.abs(y - yhat))"
   ]
  },
  {
   "cell_type": "code",
   "execution_count": 19,
   "metadata": {
    "ExecuteTime": {
     "end_time": "2023-06-04T14:42:15.609911Z",
     "start_time": "2023-06-04T14:42:15.603175Z"
    }
   },
   "outputs": [
    {
     "name": "stdout",
     "output_type": "stream",
     "text": [
      "16280626.684223467\n",
      "2739.640028385511\n"
     ]
    }
   ],
   "source": [
    "print(mse(usgdp_test.values, predict_test.values))\n",
    "print(mae(usgdp_test.values, predict_test.values))"
   ]
  },
  {
   "cell_type": "code",
   "execution_count": 20,
   "metadata": {
    "ExecuteTime": {
     "end_time": "2023-06-04T14:44:18.793480Z",
     "start_time": "2023-06-04T14:44:18.584775Z"
    }
   },
   "outputs": [
    {
     "data": {
      "image/png": "[encoded data removed]",
      "text/plain": [
       "<Figure size 432x288 with 1 Axes>"
      ]
     },
     "metadata": {
      "needs_background": "light"
     },
     "output_type": "display_data"
    }
   ],
   "source": [
    "# część testowa odbiega od zachowania części treningowej, stąd duży błąd przewidywania\n",
    "\n",
    "plt.plot(usgdp_train, label='trening')\n",
    "plt.plot(usgdp_test, label='test')\n",
    "plt.plot(predict_test, 'g-.', label='forecast')\n",
    "\n",
    "plt.legend()\n",
    "plt.show()"
   ]
  },
  {
   "cell_type": "code",
   "execution_count": 24,
   "metadata": {
    "ExecuteTime": {
     "end_time": "2023-06-04T14:48:05.880199Z",
     "start_time": "2023-06-04T14:48:05.869128Z"
    },
    "id": "ysZKawX6fvUN"
   },
   "outputs": [],
   "source": [
    "def find_the_best_arima(ts, max_p=10, max_q=10, split=0.8):\n",
    "    \n",
    "    k = int(ts.size * split)\n",
    "    ts_train = ts[:k]\n",
    "    ts_test = ts[k:]\n",
    "\n",
    "    aic = np.zeros((max_p, max_q))\n",
    "    bic = np.zeros((max_p, max_q))\n",
    "    mse2 = np.zeros((max_p, max_q))\n",
    "    mae2 = np.zeros((max_p, max_q))\n",
    "    \n",
    "    for i in range(max_p):\n",
    "        for j in range(max_q):\n",
    "            \n",
    "            try:\n",
    "                arma = ARIMA(ts_train, order=(i + 1, 1, j + 1), trend='t').fit()\n",
    "                aic[i, j] = arma.aic\n",
    "                bic[i, j] = arma.bic\n",
    "                print('ARIMA(%d, %d): AIC=%f, BIC=%f' % (i+1, j+1, arma.aic, arma.bic))\n",
    "\n",
    "                arma_pred = arma.predict(start=str(np.min(ts_test.index).year), end=str(np.max(ts_test.index).year), \n",
    "                                         dynamic=True)\n",
    "                \n",
    "                mse2[i, j] = mse(ts_test.values, arma_pred.values)\n",
    "                mae2[i, j] = mae(ts_test.values, arma_pred.values)\n",
    "            \n",
    "            except:\n",
    "                aic[i, j] = bic[i, j] = mse2[i, j] = mae2[i, j] = np.Inf\n",
    "            \n",
    "    print(\"-\" * 30)\n",
    "    min_aic = np.min(aic)\n",
    "    min_arg_aic = np.argwhere(aic == min_aic)[0]\n",
    "    print(\"MINIMUM AIC=%f dla p=%d, q=%d\" % (min_aic, min_arg_aic[0] + 1, min_arg_aic[1] + 1))\n",
    "    \n",
    "    min_bic = np.min(bic)\n",
    "    min_arg_bic = np.argwhere(bic == min_bic)[0]\n",
    "    print(\"MINIMUM BIC=%f dla p=%d, q=%d\" % (min_bic, min_arg_bic[0] + 1, min_arg_bic[1] + 1))\n",
    "    \n",
    "    min_mse = np.min(mse2)\n",
    "    min_arg_mse = np.argwhere(mse2 == min_mse)[0]\n",
    "    print(\"MINIMUM MSE=%f dla p=%d, q=%d\" % (min_mse, min_arg_mse[0] + 1, min_arg_mse[1] + 1))\n",
    "    \n",
    "    min_mae = np.min(mae2)\n",
    "    min_arg_mae = np.argwhere(mae2 == min_mae)[0]\n",
    "    print(\"MINIMUM MAE=%f dla p=%d, q=%d\" % (min_mae, min_arg_mae[0] + 1, min_arg_mae[1] + 1))"
   ]
  },
  {
   "cell_type": "markdown",
   "metadata": {
    "id": "2t3DULqYfvUP"
   },
   "source": [
    "## Kroswalidacja"
   ]
  },
  {
   "cell_type": "code",
   "execution_count": null,
   "metadata": {
    "ExecuteTime": {
     "start_time": "2023-06-04T14:51:20.797Z"
    }
   },
   "outputs": [],
   "source": [
    "# używamy tylko części treningowej (z której jest wybierana część walidacyjna)\n",
    "find_the_best_arima(log_usgdp_train, max_p=5, max_q=5)"
   ]
  },
  {
   "cell_type": "markdown",
   "metadata": {
    "id": "BBK30f2NfvUQ"
   },
   "source": [
    "- kroswalidacja w szeregach czasowych wygląda nieco inaczej na początek bierzemy pierwszą jedną czwartą zbioru do uczenia i kolejną jedną czwartą do testowego\n",
    "- następnie bierzemy pierwszą dwie czwarte zbioru do uczenia i kolejną jedną czwartą do testowego\n",
    "- na koniec pierwszą trzy czwarte zbioru do uczenia i ostatnią jedną czwartą do testowego"
   ]
  },
  {
   "cell_type": "code",
   "execution_count": null,
   "metadata": {
    "id": "YnqBT1z0fvUP"
   },
   "outputs": [],
   "source": [
    "from sklearn.model_selection import TimeSeriesSplit"
   ]
  },
  {
   "cell_type": "markdown",
   "metadata": {
    "id": "PhKkkRjufvUQ"
   },
   "source": [
    "## Zadanie 2\n",
    "\n",
    "Napisz funkcję, która znajdzie najlepszy model ARMA - użyj kroswalidacji."
   ]
  },
  {
   "cell_type": "code",
   "execution_count": 21,
   "metadata": {
    "ExecuteTime": {
     "end_time": "2023-06-04T14:45:53.138049Z",
     "start_time": "2023-06-04T14:45:53.125564Z"
    },
    "id": "1cciHG8pfvUQ"
   },
   "outputs": [],
   "source": [
    "def find_the_best_arma_crossal(ts, max_p=10, max_q=10, ar=False, cross=5):\n",
    "    \n",
    "    tscv = TimeSeriesSplit(n_splits=cross)\n",
    "    \n",
    "    aic = np.zeros((max_p + 1, max_q + 1))\n",
    "    bic = np.zeros((max_p + 1, max_q + 1))\n",
    "    mae_values = np.zeros((max_p + 1, max_q + 1))\n",
    "    mse_values = np.zeros((max_p + 1, max_q + 1))\n",
    "    \n",
    "    for i in range(max_p + 1):\n",
    "        for j in range(max_q + 1):\n",
    "            \n",
    "            if (i == j == 0):\n",
    "                aic[0, 0] = bic[0, 0] = mae_values[0, 0] = mse_values[0, 0] = np.Inf\n",
    "            \n",
    "            elif (i == 0) | ((not ar) & (j == 0)):\n",
    "                aic[i, j] = bic[i, j] = mae_values[i, j] = mse_values[i, j] = np.Inf\n",
    "            \n",
    "            else:\n",
    "                \n",
    "                aic_cross, bic_cross, mse_cross, mae_cross = [], [], [], []\n",
    "                for train_index, test_index in tscv.split(ts.values):\n",
    "                    \n",
    "                    train, test = ts.iloc[train_index], ts.iloc[test_index]\n",
    "                    arma = ARIMA(train, order=(i, 0, j)).fit()\n",
    "                    aic_cross.append(arma.aic)\n",
    "                    bic_cross.append(arma.bic)\n",
    "                    pred = arma.predict(start=str(np.min(test.index).year), end=str(np.max(test.index).year), dynamic=True)\n",
    "                    mse_cross.append(mse(test.values, pred.values))\n",
    "                    mae_cross.append(mae(test.values, pred.values))\n",
    "                    \n",
    "                aic[i, j] = np.mean(aic_cross)\n",
    "                bic[i, j] = np.mean(arma.bic)\n",
    "                mae_values[i, j] = np.nanmean(mae_cross)\n",
    "                mse_values[i, j] = np.nanmean(mse_cross)\n",
    "                print(\"ARMA(%d, %d): AIC=%f; BIC=%f; MSE=%f; MAE=%f\" % (i, j, arma.aic, arma.bic, \n",
    "                                                                        mse_values[i, j], mae_values[i, j]))\n",
    "\n",
    "    print(\"-\" * 30)\n",
    "    min_aic = np.nanmin(aic)\n",
    "    min_arg_aic = np.argwhere(aic == min_aic)[0] \n",
    "    print(\"MINIMUM AIC=%f for p=%d, q=%d\" % (min_aic, min_arg_aic[0], min_arg_aic[1]))\n",
    "    \n",
    "    min_bic = np.nanmin(bic)\n",
    "    min_arg_bic = np.argwhere(bic == min_bic)[0] \n",
    "    print(\"MINIMUM BIC=%f for p=%d, q=%d\" % (min_bic, min_arg_bic[0], min_arg_bic[1]))\n",
    "    \n",
    "    min_mse = np.nanmin(mse_values)\n",
    "    min_arg_mse = np.argwhere(mse_values == min_mse)[0]\n",
    "    print(\"MINIMUM MSE=%f for p=%d, q=%d\" % (min_mse, min_arg_mse[0], min_arg_mse[1]))\n",
    "    \n",
    "    min_mae = np.nanmin(mae_values)\n",
    "    min_arg_mae = np.argwhere(mae_values == min_mae)[0]\n",
    "    print(\"MINIMUM MAE=%f for p=%d, q=%d\" % (min_mae, min_arg_mae[0], min_arg_mae[1]))"
   ]
  },
  {
   "cell_type": "code",
   "execution_count": null,
   "metadata": {},
   "outputs": [],
   "source": []
  },
  {
   "cell_type": "markdown",
   "metadata": {},
   "source": [
    "# Zadanie: Modelowanie ARIMA - case study\n",
    "\n",
    "Dokonaj analizy szeregu czasowego `AirPassengers`. \n",
    "\n",
    "a) Przekształć szereg do postaci stacjonarnej.\n",
    "\n",
    "b) Dopasuj odpowiedni model za pomocą kroswalidacji dla szeregów czasowych.\n",
    "\n",
    "c) Dokonaj predykcji na zbiorze testowym przy użyciu modelu zbudowanego na zbiorze treningowym."
   ]
  },
  {
   "cell_type": "code",
   "execution_count": null,
   "metadata": {},
   "outputs": [],
   "source": [
    "air_passengers = pd.read_csv('../data/AirPassengers.csv', parse_dates=['Month'], index_col='Month')"
   ]
  }
 ],
 "metadata": {
  "colab": {
   "provenance": []
  },
  "hide_input": false,
  "kernelspec": {
   "display_name": "Python 3 (ipykernel)",
   "language": "python",
   "name": "python3"
  },
  "language_info": {
   "codemirror_mode": {
    "name": "ipython",
    "version": 3
   },
   "file_extension": ".py",
   "mimetype": "text/x-python",
   "name": "python",
   "nbconvert_exporter": "python",
   "pygments_lexer": "ipython3",
   "version": "3.10.6"
  },
  "toc": {
   "base_numbering": 1,
   "nav_menu": {},
   "number_sections": true,
   "sideBar": true,
   "skip_h1_title": true,
   "title_cell": "Table of Contents",
   "title_sidebar": "Contents",
   "toc_cell": false,
   "toc_position": {},
   "toc_section_display": true,
   "toc_window_display": false
  },
  "varInspector": {
   "cols": {
    "lenName": 16,
    "lenType": 16,
    "lenVar": 40
   },
   "kernels_config": {
    "python": {
     "delete_cmd_postfix": "",
     "delete_cmd_prefix": "del ",
     "library": "var_list.py",
     "varRefreshCmd": "print(var_dic_list())"
    },
    "r": {
     "delete_cmd_postfix": ") ",
     "delete_cmd_prefix": "rm(",
     "library": "var_list.r",
     "varRefreshCmd": "cat(var_dic_list()) "
    }
   },
   "types_to_exclude": [
    "module",
    "function",
    "builtin_function_or_method",
    "instance",
    "_Feature"
   ],
   "window_display": false
  }
 },
 "nbformat": 4,
 "nbformat_minor": 1
}
