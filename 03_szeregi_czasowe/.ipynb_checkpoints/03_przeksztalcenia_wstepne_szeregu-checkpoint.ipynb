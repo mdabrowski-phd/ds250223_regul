{
 "cells": [
  {
   "cell_type": "markdown",
   "metadata": {
    "id": "iO7LvLzbs24R"
   },
   "source": [
    "# Przekształcenia wstępne szeregu"
   ]
  },
  {
   "cell_type": "code",
   "execution_count": null,
   "metadata": {
    "id": "s3GNPyh-s24X"
   },
   "outputs": [],
   "source": [
    "import numpy as np\n",
    "import pandas as pd\n",
    "\n",
    "import matplotlib.pyplot as plt\n",
    "%matplotlib inline\n",
    "\n",
    "#from google.colab import files\n",
    "#src = list(files.upload().values())[0]\n",
    "#open('ts_utils.py','wb').write(src)\n",
    "\n",
    "#from ts_utils import check_time_series_stationary\n",
    "from statsmodels.graphics.tsaplots import plot_acf"
   ]
  },
  {
   "cell_type": "code",
   "execution_count": null,
   "metadata": {
    "id": "OwtIJfBOT1Nh"
   },
   "outputs": [],
   "source": [
    "#funkcja do badania stacjonarności\n",
    "from statsmodels.tsa.stattools import adfuller\n",
    "\n",
    "def check_time_series_stationary(y, rolling_len=12):\n",
    "    \n",
    "    y = pd.Series(y)\n",
    "    df_test = adfuller(y)\n",
    "    \n",
    "    if df_test[1] < 0.05:\n",
    "        print('Szereg jest stacjonarny')\n",
    "    \n",
    "    else:\n",
    "        print('Szereg jest niestacjonarny')\n",
    "    \n",
    "    print(\"{0:^32s}\".format(\"Dickey-Fuller Test\"))\n",
    "    print(\"-\"*32+\"\\n\")\n",
    "    \n",
    "    print(\"{0:<20s}: {1:>10.4f}\".format('Test Statistic', df_test[0]))\n",
    "    print(\"{0:<20s}: {1:>10.4f}\".format('p-value', df_test[1]))\n",
    "    print(\"-\"*32+\"\\n\")\n",
    "    \n",
    "    rolling_mean = y.rolling(rolling_len).mean()\n",
    "    rolling_var = y.rolling(rolling_len).var()\n",
    "\n",
    "    plt.plot(y)\n",
    "    plt.plot(rolling_mean, label=\"Rolling mean\")\n",
    "    plt.plot(rolling_var, label=\"Rolling var\")\n",
    "    plt.legend()\n",
    "    plt.show()\n",
    "    \n",
    "    print(\"{0:^32s}\".format(\"Autocorrelation plot\"))\n",
    "    print(\"-\"*32+\"\\n\")\n",
    "    \n",
    "    pd.plotting.autocorrelation_plot(y)\n",
    "    plt.show()"
   ]
  },
  {
   "cell_type": "markdown",
   "metadata": {
    "id": "jwn1BZqos24Y"
   },
   "source": [
    "Chcemy umieć odwzorować zmiany w szeregu za pomocą modeli. Najłatwiej jest zamodelować szeregi stacjonarne. Tak więc przed przystąpieniem do analizy i prognozowania szeregów powinniśmy odpowiednio przygotować nasze dane.\n",
    "\n",
    "Przy użyciu określonych przekształceń, możemy \n",
    "- wyeliminować z szeregu składowe zmienności,\n",
    "- ułatwić identyfikację regularnych tendencji."
   ]
  },
  {
   "cell_type": "markdown",
   "metadata": {
    "id": "YnJw4OOos24Z"
   },
   "source": [
    "## Transformacja logarytmiczna\n",
    "\n",
    "Jeśli w analizowanych danych dostrzegamy, że wariancja wzrasta lub maleje wraz z poziomem szeregu, przydatne może być zastosowanie transformacji logarytmicznej.\n",
    "\n",
    "Używająć logarytmu, możemy ustabilizować wariancję, a potem kontynuawać kolejne kroki analizy.\n",
    "Stabilizacja wariancji jest konieczna dla zastosowania modeli stacjonarnych.\n",
    "\n",
    "**Transformacja logarytmiczna/potęgowa danych przydatna jest między innymi w następujących przypadkach:**\n",
    "- występowanie wzrostu (lub spadku) amplitudy wahań sezonowych w kolejnych okresach, \n",
    "- niejednorodnej zmienności danych w kolejnych okresach,\n",
    "- dużego wpływu obserwacji odstających"
   ]
  },
  {
   "cell_type": "code",
   "execution_count": null,
   "metadata": {
    "id": "KMHCuwJks24a"
   },
   "outputs": [],
   "source": [
    "air_passengers = pd.read_csv('../data/AirPassengers.csv', parse_dates=['Month'], index_col='Month')\n",
    "air_passengers.head()"
   ]
  },
  {
   "cell_type": "code",
   "execution_count": null,
   "metadata": {
    "id": "UalULKJhLMUG"
   },
   "outputs": [],
   "source": [
    "check_time_series_stationary(air_passengers['#Passengers'])"
   ]
  },
  {
   "cell_type": "code",
   "execution_count": null,
   "metadata": {
    "id": "J2Dd4MZWLI4m"
   },
   "outputs": [],
   "source": [
    "log_air_passengers = np.log(air_passengers)\n",
    "check_time_series_stationary(log_air_passengers['#Passengers'])"
   ]
  },
  {
   "cell_type": "markdown",
   "metadata": {
    "id": "hOjIDURns24g"
   },
   "source": [
    "## Różnicowanie \n",
    "\n",
    "Operację różnicowania stosujemy między innymi w celu przekształcenia danych do postaci **stacjonarnej**.\n",
    "\n",
    "Róznicowanie sprowadza się do zastąpienia oryginalnych danych szeregiem różnic, wyznaczonych dla ustalonych opóźnień czasowych. Dobierając odpowiednio parametry różnicowania możemy wyeliminować z danych trend liniowy, kwadratowy, wielomianowy, a także sezonowość. "
   ]
  },
  {
   "cell_type": "markdown",
   "metadata": {
    "id": "38ZyoD3Gs24g"
   },
   "source": [
    "### Róźnicowanie z opóźnieniem 1"
   ]
  },
  {
   "cell_type": "markdown",
   "metadata": {
    "id": "_US9Crb5s24h"
   },
   "source": [
    "Wczytaj dane `USGDP.csv` przedstawiające informację na temat kwartalnego produktu krajowego brutto w USA w latach 1947-2006, a następnie zastosuj różnicowanie z opóźnieniem 1 i sprawdź stacjonarność otrzymanego szeregu."
   ]
  },
  {
   "cell_type": "code",
   "execution_count": null,
   "metadata": {
    "id": "Smj44vpEKjES"
   },
   "outputs": [],
   "source": [
    "usgdp = pd.read_csv('../data/USGDP.csv', parse_dates=['DATE'], index_col='DATE')\n",
    "usgdp.head()"
   ]
  },
  {
   "cell_type": "code",
   "execution_count": null,
   "metadata": {
    "id": "uU3M3a3QKlZ2"
   },
   "outputs": [],
   "source": [
    "check_time_series_stationary(usgdp.GDPC1)"
   ]
  },
  {
   "cell_type": "code",
   "execution_count": null,
   "metadata": {
    "id": "iGgtbLc0Kn4r"
   },
   "outputs": [],
   "source": [
    "log_usgdp = np.log(usgdp)\n",
    "check_time_series_stationary(log_usgdp.GDPC1)"
   ]
  },
  {
   "cell_type": "code",
   "execution_count": null,
   "metadata": {
    "id": "7B7Es5MKKquq"
   },
   "outputs": [],
   "source": [
    "log_usgdp_diff = log_usgdp.diff(1)\n",
    "log_usgdp_diff"
   ]
  },
  {
   "cell_type": "code",
   "execution_count": null,
   "metadata": {
    "id": "eXZuDO0TKvDJ"
   },
   "outputs": [],
   "source": [
    "check_time_series_stationary(log_usgdp_diff.GDPC1.dropna())"
   ]
  },
  {
   "cell_type": "markdown",
   "metadata": {
    "id": "5zYyVqq7s24j"
   },
   "source": [
    "### Róźnicowanie z opóźnieniem sezonowym\n",
    "\n",
    "Różnicowanie szeregu zawierające dwie składowe systematyczne -- trend i sezonowość."
   ]
  },
  {
   "cell_type": "code",
   "execution_count": null,
   "metadata": {
    "id": "Entl5sikLBA2"
   },
   "outputs": [],
   "source": [
    "log_air_passengers = np.log(air_passengers)\n",
    "check_time_series_stationary(log_air_passengers['#Passengers'])"
   ]
  },
  {
   "cell_type": "code",
   "execution_count": null,
   "metadata": {
    "id": "610fpVFY3XUz"
   },
   "outputs": [],
   "source": [
    "log_air_passengers"
   ]
  },
  {
   "cell_type": "code",
   "execution_count": null,
   "metadata": {
    "id": "hfGVlA6mK9yr"
   },
   "outputs": [],
   "source": [
    "log_air_passengers_diff = log_air_passengers.diff(1)\n",
    "log_air_passengers_diff"
   ]
  },
  {
   "cell_type": "code",
   "execution_count": null,
   "metadata": {
    "id": "A9QXvWqfK6j6"
   },
   "outputs": [],
   "source": [
    "check_time_series_stationary(log_air_passengers_diff['#Passengers'].dropna())"
   ]
  },
  {
   "cell_type": "code",
   "execution_count": null,
   "metadata": {
    "id": "TKJrq6kaK2zp"
   },
   "outputs": [],
   "source": [
    "log_air_passengers_diff_diff12 = log_air_passengers_diff.diff(12)\n",
    "log_air_passengers_diff_diff12"
   ]
  },
  {
   "cell_type": "code",
   "execution_count": null,
   "metadata": {
    "id": "v0KGHBJHKyph"
   },
   "outputs": [],
   "source": [
    "check_time_series_stationary(log_air_passengers_diff_diff12['#Passengers'].dropna())"
   ]
  },
  {
   "cell_type": "markdown",
   "metadata": {
    "id": "Z1ot9Wbvs24m"
   },
   "source": [
    "## Zadanie - `co2`\n",
    "\n",
    "Wczytaj dane `co2_interpolated.csv` wskazujące stężenie CO2 w atmosferze (więcej pod [linkiem](https://datahub.io/core/co2-ppm)). Następnie korzystając z powyższych metod, spróbuj doprowadzić szereg do postaci stacjonarnej."
   ]
  },
  {
   "cell_type": "code",
   "execution_count": null,
   "metadata": {
    "id": "emJVYPDCKc1-"
   },
   "outputs": [],
   "source": [
    "co2 = pd.read_csv('../data/co2_interpolated.csv', parse_dates=['Date'], index_col='Date')\n",
    "co2.head()"
   ]
  },
  {
   "cell_type": "markdown",
   "metadata": {
    "id": "5YdfUpT4s24o"
   },
   "source": [
    "## Zadanie - `a10`\n",
    "Wczytaj dane ` a10.csv` opisujące miesięczną sprzedaż leków przeciwcukrzycowych w Australii w latach 1992–2008. Następnie korzystając z powyższych metod, spróbuj doprowadzić szereg do postaci stacjonarnej."
   ]
  },
  {
   "cell_type": "code",
   "execution_count": null,
   "metadata": {
    "id": "DwCOd4NVKM2O"
   },
   "outputs": [],
   "source": [
    "a10 = pd.read_csv('../data/a10.csv', parse_dates=['date'], index_col='date')\n",
    "a10.head()\n",
    "a10.plot(legend=False)"
   ]
  },
  {
   "cell_type": "markdown",
   "metadata": {
    "id": "qL6Ma7sJPleb"
   },
   "source": [
    "## Zadanie - `daily-min-temperatures`\n",
    "Wczytaj dane `daily-min-temperatures.csv` opisujący minimalne dzienne temperatury w ciągu 10 lat (1981-1990) w Melbourne w Australii. Następnie korzystając z powyższych metod, spróbuj doprowadzić szereg do postaci stacjonarnej."
   ]
  },
  {
   "cell_type": "code",
   "execution_count": null,
   "metadata": {
    "id": "0hk_jlFpP7O7"
   },
   "outputs": [],
   "source": [
    "daily_temp = pd.read_csv('../data/daily-min-temperatures.csv', parse_dates=['Date'], index_col='Date')\n",
    "daily_temp.head()"
   ]
  },
  {
   "cell_type": "markdown",
   "metadata": {
    "id": "bqdBcADBs24p"
   },
   "source": [
    "## Zadanie - `daily-total-female-births`\n",
    "Wczytaj dane `daily-total-female-births.csv` przedstawiające całkowitą liczbę urodzeń kobiet zarejestrowanych w Kalifornii w USA w 1959 roku. Następnie korzystając z powyższych metod, spróbuj doprowadzić szereg do postaci stacjonarnej."
   ]
  },
  {
   "cell_type": "code",
   "execution_count": null,
   "metadata": {
    "id": "gRQNx54aKJO-"
   },
   "outputs": [],
   "source": [
    "daily_birth = pd.read_csv('../data/daily-total-female-births.csv', parse_dates=['Date'], index_col='Date')\n",
    "daily_birth.head()"
   ]
  }
 ],
 "metadata": {
  "colab": {
   "provenance": []
  },
  "hide_input": false,
  "kernelspec": {
   "display_name": "Python 3 (ipykernel)",
   "language": "python",
   "name": "python3"
  },
  "language_info": {
   "codemirror_mode": {
    "name": "ipython",
    "version": 3
   },
   "file_extension": ".py",
   "mimetype": "text/x-python",
   "name": "python",
   "nbconvert_exporter": "python",
   "pygments_lexer": "ipython3",
   "version": "3.10.6"
  },
  "toc": {
   "base_numbering": 1,
   "nav_menu": {},
   "number_sections": true,
   "sideBar": true,
   "skip_h1_title": true,
   "title_cell": "Table of Contents",
   "title_sidebar": "Contents",
   "toc_cell": false,
   "toc_position": {},
   "toc_section_display": true,
   "toc_window_display": false
  },
  "varInspector": {
   "cols": {
    "lenName": 16,
    "lenType": 16,
    "lenVar": 40
   },
   "kernels_config": {
    "python": {
     "delete_cmd_postfix": "",
     "delete_cmd_prefix": "del ",
     "library": "var_list.py",
     "varRefreshCmd": "print(var_dic_list())"
    },
    "r": {
     "delete_cmd_postfix": ") ",
     "delete_cmd_prefix": "rm(",
     "library": "var_list.r",
     "varRefreshCmd": "cat(var_dic_list()) "
    }
   },
   "types_to_exclude": [
    "module",
    "function",
    "builtin_function_or_method",
    "instance",
    "_Feature"
   ],
   "window_display": false
  }
 },
 "nbformat": 4,
 "nbformat_minor": 1
}
